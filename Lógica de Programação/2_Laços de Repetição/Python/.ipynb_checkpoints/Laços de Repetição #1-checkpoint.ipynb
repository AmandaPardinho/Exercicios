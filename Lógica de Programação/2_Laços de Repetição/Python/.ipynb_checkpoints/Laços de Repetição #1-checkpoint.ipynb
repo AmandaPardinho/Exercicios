{
 "cells": [
  {
   "cell_type": "code",
   "execution_count": null,
   "metadata": {},
   "outputs": [],
   "source": [
    "# 1- Faça um programa que verifique e mostre os números entre 1.000 e 2.000 (inclusive) que, quando divididos por 5 \n",
    "# produzam resto igual a 2.\n",
    "\n",
    "for num in range(1000,2000):\n",
    "    if(num % 5 == 2):\n",
    "        print (num)"
   ]
  },
  {
   "cell_type": "code",
   "execution_count": null,
   "metadata": {},
   "outputs": [],
   "source": [
    "# 2- Faça um programa que leia um valor n, inteiro e positivo, calcule e mostre a seguinte soma: \n",
    "# S = 1 + 1/2 + 1/3 + 1/4 + ... + 1/n\n",
    "\n",
    "num = input(\"digite um valor\")\n",
    "s = int(num) #converte de string para numeros\n",
    "\n",
    "acumulador = 1\n",
    "for s in range (1,s):\n",
    "    acumulador = acumulador + 1/s\n",
    "    \n",
    "print (acumulador)"
   ]
  },
  {
   "cell_type": "code",
   "execution_count": null,
   "metadata": {},
   "outputs": [],
   "source": [
    "# 3- Faça um programa que receba um número e que calcule e mostre a tabuada desse número.\n",
    "\n",
    "num = input(\"digite um numero\")\n",
    "tab = int(num)\n",
    "\n",
    "for i in range(0,10):\n",
    "    print (i, \"*\", tab, \"=\", i*tab)"
   ]
  },
  {
   "cell_type": "code",
   "execution_count": null,
   "metadata": {},
   "outputs": [],
   "source": [
    "# 4- Faça um programa que mostre as tabuadas dos números de 1 a 10.\n",
    "\n",
    "for i in range (1,10):\n",
    "    print(\"\\n\")\n",
    "    for j in range(1,10):\n",
    "        print(i, \"*\", j, \"=\", i*j)"
   ]
  },
  {
   "cell_type": "code",
   "execution_count": 2,
   "metadata": {},
   "outputs": [
    {
     "name": "stdout",
     "output_type": "stream",
     "text": [
      "digite o primeiro numero5\n",
      "digite o segundo numero2\n",
      "digite o terceiro numero3\n",
      "5 3 2\n"
     ]
    }
   ],
   "source": [
    "# 5- Faça um programa que leia três valores (A, B, C) e mostre-os na ordem lida. \n",
    "# Em seguida, mostre-os em ordem crescente e decrescente.\n",
    "\n",
    "a = input(\"digite o primeiro numero\");\n",
    "b = input(\"digite o segundo numero\");\n",
    "c = input(\"digite o terceiro numero\");\n",
    "\n",
    "maior = 0;\n",
    "meio = 0;\n",
    "menor = 0;\n",
    "\n",
    "\n",
    "if a > b and a > c:\n",
    "    maior = a\n",
    "elif b > a and b > c:\n",
    "    maior = b\n",
    "elif c > a and c > b:\n",
    "    maior = c\n",
    "    \n",
    "\n",
    "if a < b and a < c:\n",
    "    menor = a\n",
    "elif b < a and b < c:\n",
    "    menor = b\n",
    "elif c < a and c < b:\n",
    "    menor = c\n",
    "    \n",
    "if a != menor and b != maior:\n",
    "    meio = c\n",
    "elif a != menor and c != maior:\n",
    "    meio = b\n",
    "else:\n",
    "    meio = a\n",
    "    \n",
    "    \n",
    "print(a,b,c)\n",
    "    \n",
    "print(maior, meio, menor)\n",
    "\n",
    "print(menor, meio, maior)"
   ]
  },
  {
   "cell_type": "code",
   "execution_count": null,
   "metadata": {},
   "outputs": [],
   "source": [
    "# 6- Uma loja tem 15 clientes cadastrados c deseja enviar uma correspondência a cada um deles \n",
    "# anunciando um bônus especial. Faça um programa que leia o nome do cliente e o valor de suas\n",
    "# compras no ano passado. Calcule e mostre um bônus de 10% se o valor das compras for menor \n",
    "# que R$ 1.000,00 e de 15%, caso contrário.\n",
    "\n"
   ]
  },
  {
   "cell_type": "code",
   "execution_count": null,
   "metadata": {},
   "outputs": [],
   "source": [
    "# 7- Uma loja tem tem uma política de descontos de acordo com o valor da compra do cliente. Os descontos começam acima dos R$500\n",
    "# A cada 100 reais acima dos R$500,00 o cliente ganha 1% de desconto cumulativo até 25%. \n",
    "# Por exemplo: R$500 = 1% || R$600,00 = 2% ... etc...\n",
    "\n",
    "# Faça um programa que exiba essa tabela de descontos no seguinte formato:  \n",
    "# Valordacompra - porcentagem de desconto - valor final\n",
    "\n",
    "valordacompra = 500\n",
    "\n",
    "for i in range(1,26):\n",
    "    print(\"valor da compra: \", valordacompra, \"porcentagem de desconto:\", i, \"valor final\", valordacompra *(1-(i/100)))\n",
    "    valordacompra = valordacompra +100"
   ]
  },
  {
   "cell_type": "code",
   "execution_count": null,
   "metadata": {},
   "outputs": [],
   "source": [
    "# 8- Uma companhia de teatro deseja dar uma série de espetáculos. \n",
    "# Fatos:\n",
    "# 1) A direção calcula que praticando o preço de R$5,00 serão vendidos 120 ingressos\n",
    "# 2) As despesas são fixas em R$ 200,00. \n",
    "# 3) Ao diminuir R$ 0,50 o preço dos ingressos espera-se que as vendas aumentem em 26 ingressos.\n",
    "\n",
    "\n",
    "\n",
    "preco = 5\n",
    "ingressosVendidos = 120\n",
    "\n",
    "while preco >1:\n",
    "    print (\"Lucro máximo: \", ingressosVendidos * preco - 200, \"preço do ingresso:\", preco, \"Quantidade de ingressos vendidos\", ingressosVendidos)\n",
    "    preco = preco - 0.5\n",
    "    ingressosVendidos = ingressosVendidos + 26\n"
   ]
  },
  {
   "cell_type": "code",
   "execution_count": null,
   "metadata": {},
   "outputs": [],
   "source": [
    "# 9- Faça um programa que receba a idade de dez pessoas e que calcule e mostre a quantidade de pessoas com idade maior ou \n",
    "# igual a 18 anos.\n",
    "\n",
    "num =  0\n",
    "maiorDe18 = 0\n",
    "menorDe18 = 0\n",
    "igualA18 = 0 \n",
    "while num < 3:\n",
    "    nome = input(\"Digite o nome da pessoa\")\n",
    "    idade = input(\"digite a idade do(a)\" + nome)\n",
    "    if int(idade) > 18:\n",
    "        maiorDe18 = maiorDe18 + 1\n",
    "    elif int(idade)< 18:\n",
    "        menorDe18 = menorDe18 + 1\n",
    "    else:\n",
    "        igualA18 = igualA18 + 1\n",
    "    num = num + 1\n",
    "    \n",
    "print (\"maiores que 18: \", maiorDe18)\n",
    "print (\"menor que 18\", menorDe18)\n",
    "print (\"igual a 18\", igualA18)\n"
   ]
  },
  {
   "cell_type": "code",
   "execution_count": null,
   "metadata": {},
   "outputs": [],
   "source": [
    "# 10-    Faça um programa que receba a idade de 15 pessoas e que calcule e mostre:\n",
    "#    A quantidade de pessoas em cada faixa etária;\n",
    "#    A percentagem de pessoas na primeira e na última faixa etária, com relação ao total de pessoas.\n",
    "\n",
    "#       faixa1 =   Até 15 anos\n",
    "#       faixa2 =   De 16 a 30 anos\n",
    "#       faixa3 =   De 31 a 45 anos\n",
    "#       faixa4 =  De 46 a 60 anos\n",
    "#       faixa5 =  Acima de 61 anos\n",
    "\n",
    "faixa1 = 0\n",
    "faixa2 = 0\n",
    "faixa3 = 0\n",
    "faixa4 = 0\n",
    "faixa5 = 0\n",
    "\n",
    "for i in range (0,5):\n",
    "    idadestr = input(\"digite a idade da pessoa\")\n",
    "    idade = int(idadestr)\n",
    "    if idade <= 15:\n",
    "        faixa1 += 1\n",
    "    elif idade > 15 and idade < 30:\n",
    "        faixa2 += 1\n",
    "    elif idade >30 and idade <45:\n",
    "        faixa3 += 1\n",
    "    elif idade > 45 and idade <60:\n",
    "        faixa4 += 1\n",
    "    else:\n",
    "        faixa5 += 1 \n",
    "        \n",
    "        \n",
    "print (\"até 15 anos\", faixa1)\n",
    "print(\"De 16 a 30 anos\", faixa2)\n",
    "print(\"De 31 a 45 anos\", faixa3)\n",
    "print (\"De 46 a 60 anos\", faixa4)\n",
    "print (\"acima de 61 anos\", faixa5)"
   ]
  },
  {
   "cell_type": "code",
   "execution_count": null,
   "metadata": {},
   "outputs": [],
   "source": [
    "# 11-  Uma loja utiliza o código V para transação à vista e P para transação a prazo. Faça um programa que receba código e \n",
    "# valor de 5 transações. Calcule e mostre:\n",
    "\n",
    "# a.    O valor total das compras à vista\n",
    "# b.    O valor total das compras a prazo sabendo que essas compras possuem 10% de juros sobre o valor total\n",
    "# c.    O valor total das compras efetuadas\n",
    "\n",
    "aVista = 0 \n",
    "aPrazo = 0\n",
    "total = 0\n",
    "\n",
    "for i in range (0,5):\n",
    "    tipoDeCompra = input(\"(p) compra a prazo \\n (v) compra a vista \\n\")\n",
    "    valorDaCompra = int(input(\"Digite o valor da compra\"))\n",
    "    if tipoDeCompra == \"p\":\n",
    "        aPrazo += valorDaCompra\n",
    "    elif tipoDeCompra == \"v\":\n",
    "        aVista += valorDaCompra * 1.10\n",
    "\n",
    "    total += valorDaCompra\n",
    "\n",
    "print(\"A vista:\", aVista)\n",
    "print(\"A prazo:\", aPrazo)\n",
    "print(\"total:\", total)"
   ]
  },
  {
   "cell_type": "code",
   "execution_count": null,
   "metadata": {},
   "outputs": [],
   "source": [
    "# 13- Faça um programa que receba a idade, altura e o peso de 25 pessoas, Calcule e mostre:\n",
    "# a.    A quantidade de pessoas com idade superior a 50 anos;\n",
    "# b.    A média das Alturas das pessoas com idade entre 10 e 20 anos\n",
    "# c.    A porcentagem das pessoas com peso inferior a 40 quilos entre todas as pessoas analisadas.\n"
   ]
  },
  {
   "cell_type": "code",
   "execution_count": null,
   "metadata": {},
   "outputs": [],
   "source": [
    "# 14- Faça um programa que receba a idade e o peso de sete pessoas. Calcule e mostre:\n",
    "# a.    A quantidade de pessoas com mais de 90 quilos;\n",
    "# b.    A média das idades das sete pessoas;"
   ]
  },
  {
   "cell_type": "code",
   "execution_count": null,
   "metadata": {},
   "outputs": [],
   "source": [
    "# 15- Faça um programa que receba a idade, o peso, a altura, a cor dos olhos (A – Azul, P- Preto, V- Verde e C- Castanho) e\n",
    "# a cor dos cabelos (P – Preto, C- Castanho, L – Louro e R-Ruivo) de 20 pessoas e que calcule e mostre:\n",
    "# a.    A quantidade de pessoas com idade superior a 50 anos e peso inferior a 60 quilos;\n",
    "# b.    A média das idades das pessoas com altura inferior a 1,50;\n",
    "# c.    A porcentagem de pessoas com olhos azuis entre a s pessoas analisadas;\n",
    "# d.    A quantidade de pessoas ruivas que não possuem olhos azuis;"
   ]
  },
  {
   "cell_type": "code",
   "execution_count": null,
   "metadata": {},
   "outputs": [],
   "source": [
    "# 16- Faça um programa que receba 3 números e que calcule e mostre a quantidade de números entre 30 e 90.\n",
    "\n",
    "quantidade = 0\n",
    "\n",
    "for i in range(0,3):\n",
    "    numero = int(input(\"Digite um Numero\"))\n",
    "    if( numero > 30 and numero < 90):\n",
    "        quantidade += 1 \n",
    "        \n",
    "print(\"quantidade de numeros entre 30 e 90:\", quantidade)\n",
    "    "
   ]
  },
  {
   "cell_type": "code",
   "execution_count": null,
   "metadata": {},
   "outputs": [],
   "source": [
    "# 17-  Faça um programa que receba dez idades, pesos e Alturas e que calcule e mostre:\n",
    "# a.    A média das idades das dez pessoas;\n",
    "# b.    A quantidade de pessoas com peso superior a 90 quilos e altura inferior a 1,50;\n",
    "# c.    A porcentagem de pessoas com idade entre 10 e 30 anos entre as pessoas que medem mais de 1,90;"
   ]
  },
  {
   "cell_type": "code",
   "execution_count": null,
   "metadata": {},
   "outputs": [],
   "source": [
    "# 18- Faça um programa que receba a idade e o sexto de sete pessoas e que calcule e mostre:\n",
    "# a. A idade média do grupo;\n",
    "# b. A idade média das mulheres;\n",
    "# c. A idade média dos homens;"
   ]
  },
  {
   "cell_type": "code",
   "execution_count": null,
   "metadata": {},
   "outputs": [],
   "source": [
    "# 19- Faça um programa que receba o valor de um carro e mostre uma tabela com os seguintes dados: \n",
    "# preço final, quantidade de parcelas e valor da parcela. Considere o seguinte:\n",
    "# a. O preço final para compra à vista tem um desconto de 20%;\n",
    "# b. A quantidades de parcelas pode ser: 6, 12, 18, 24, 30, 36, 42, 48, 54 e 60.\n",
    "# c. Os percentuais de acréscimo seguem a tabela a seguir.\n",
    "\n",
    "# Qtd de parcelas         % acrescimo dos preços\n",
    "#        6                           3%\n",
    "#        12                          6%\n",
    "#        18                          9%\n",
    "#        24                          12%\n",
    "#        30                          15%\n",
    "#        36                          18%\n",
    "#        42                          21%\n",
    "#        48                          24%\n",
    "#        54                          27%\n",
    "#        60                          30%\n",
    "        "
   ]
  },
  {
   "cell_type": "code",
   "execution_count": null,
   "metadata": {},
   "outputs": [],
   "source": [
    "# 20-  Faça um programa que receba várias idades e que calcule e mostre a média das idades digitadas. \n",
    "# Finalize digitando a idade igual a zero"
   ]
  },
  {
   "cell_type": "code",
   "execution_count": null,
   "metadata": {},
   "outputs": [],
   "source": [
    "# 21- Faça um programa que receba um conjunto de valores inteiros e positivos e que calcule e mostre o maior e o\n",
    "# menor valor do conjunto. Considere que:\n",
    "# a.    Para encerrar a entrada de dados, deve ser digitado o valor zero;\n",
    "# b.    Para valores, deve ser enviada uma mensagem;\n",
    "# c.    Os valores negativos ou iguais a zero não entrarão nos cálculos."
   ]
  },
  {
   "cell_type": "code",
   "execution_count": null,
   "metadata": {},
   "outputs": [],
   "source": [
    "# 22-  Faça um programa para calcular n! (Fatorial de n), sendo que o valor inteiro de n é fornecido pelo usuário.\n",
    "# Sabe-se que:\n",
    "# N! = 1 * 2 * 3 * ... (n – 1) * n\n",
    "# 0! = 1, por definição;"
   ]
  },
  {
   "cell_type": "code",
   "execution_count": null,
   "metadata": {},
   "outputs": [],
   "source": [
    "# 23- Faça um programa que receba a idade e o peso de 15 pessoas. Calcule e mostre as médias dos pesos das pessoas\n",
    "# da mesma faixa etária. As faixas etárias são: de 1 a 10 anos, de ll a 20 anos, de 21 a 30 anos e maiores de 31 anos."
   ]
  },
  {
   "cell_type": "code",
   "execution_count": null,
   "metadata": {},
   "outputs": [],
   "source": [
    "# 24 - Cada espectador de um cinema respondeu a um questionário no qual constava sua idade e a \n",
    "# sua opinião em relação ao filme: ótimo - 3, bom - 2, regular - 1. Faça um programa que receba a idade\n",
    "# e a opinião de 15 espectadores e que calcule e mostre:\n",
    "\n",
    "# a) A média das idades das pessoas que responderam ótimo;\n",
    "# b) A quantidade de pessoas que respondeu regular;\n",
    "# c) A percentagem de pessoas que respondeu bom entre todos os espectadores analisados."
   ]
  },
  {
   "cell_type": "code",
   "execution_count": null,
   "metadata": {},
   "outputs": [],
   "source": [
    "# 25- Uma firma fez uma pesquisa de mercado para saber se as pessoas gostaram ou não de um novo produto lançado\n",
    "# no mercado. Para isso forneceu o sexo do entrevistado e sua resposta (S - Sim ou N - Não). \n",
    "# Sabe-se que foram entrevistadas dez pessoas. Faça um programa que calcule e mostre:\n",
    "\n",
    "# a) O número de pessoas que respondeu sim;\n",
    "# b) O número de pessoas que respondeu não;\n",
    "# c) O número de mulheres que respondeu sim;\n",
    "# d) A percentagem de homens que respondeu não entre todos os homens analisados."
   ]
  },
  {
   "cell_type": "code",
   "execution_count": null,
   "metadata": {},
   "outputs": [],
   "source": [
    "# 26-  O sistema de avaliação de uma determinada disciplina obedece aos seguintes critérios: \n",
    "# a) Durante o semestre são dadas três notas;\n",
    "# b) A nota final é obtida pela média aritmética das três notas;\n",
    "# c) É considerado aprovado o aluno que obtiver a nota final superior ou igual a 6 e que tiver \n",
    "# comparecido a um mínimo de 40 aulas.\n"
   ]
  },
  {
   "cell_type": "code",
   "execution_count": null,
   "metadata": {},
   "outputs": [],
   "source": [
    "# 27- Faça um programa que leia um conjunto de dados contendo o número da matrícula, as três notas e a\n",
    "# frequência (número de aulas frequentadas) de dez alunos.\n",
    "\n",
    "# Calcule e mostre:\n",
    "\n",
    "# Para cada aluno o número da matrícula, a nota final e a mensagem (aprovado ou reprovado);\n",
    "# A maior e a menor nota da turma;\n",
    "# O total de alunos reprovados;\n",
    "# A percentagem de alunos reprovados por frequência abaixo da mínima necessária."
   ]
  },
  {
   "cell_type": "code",
   "execution_count": null,
   "metadata": {},
   "outputs": [],
   "source": [
    "# 28 - Faça um programa que receba várias idades e que calcule e mostre a média das idades digitadas. Finalize\n",
    "# digitando idade igual a zero."
   ]
  },
  {
   "cell_type": "code",
   "execution_count": null,
   "metadata": {},
   "outputs": [],
   "source": [
    "# 29- Foi feita uma pesquisa de audiência de canal de TV em várias casas de uma cidade, em um determinado dia. \n",
    "# Para cada casa consultada foi fornecido o número do canal (4, 5, 7, 12) e o número de pessoas que estavam assistindo\n",
    "# aquele canal. Se a televisão estivesse desligada, nada era anotado, ou seja, essa casa não entrava na pesquisa.\n",
    "# Faça um programa que:\n",
    "\n",
    "# a)    Leia um número indeterminado de dados (número do canal e o número de pessoas que estavam assistindo);\n",
    "# b)    Calcule e mostre a percentagem de audiência de cada canal.\n",
    "# c)    Para encerrar a entrada de dados digite o número do canal ZERO."
   ]
  },
  {
   "cell_type": "code",
   "execution_count": null,
   "metadata": {},
   "outputs": [],
   "source": [
    "# 30-  A prefeitura de uma cidade fez uma pesquisa entre seus habitantes, coletando dados sobre o salário e o \n",
    "# número de filhos. A prefeitura deseja saber:\n",
    "# a)    A média do salário da população;\n",
    "# b)    A média do número de filhos;\n",
    "# c)    O maior salário; p\n",
    "# d)    A percentagem de pessoas com salários até R$ 150,00.\n",
    "\n",
    "# O final da leitura de dados dar-se-á com a entrada de um salário negativo."
   ]
  },
  {
   "cell_type": "code",
   "execution_count": null,
   "metadata": {},
   "outputs": [],
   "source": [
    "# 31- Foi feita uma pesquisa entre os habitantes de uma região. Foram coletados os dados de idade, sexo (M/F) e salário. Faça um programa que calcule e mostre:\n",
    "# a)    A média dos salários do grupo;\n",
    "# b)    A maior e a menor idade do grupo;\n",
    "# c)    A quantidade de mulheres com salário até R$ 200,00;\n",
    "# d)    A idade e o sexo da pessoa que possui o menor salário.\n",
    "\n",
    "# Finalize a entrada de dados ao ser digitada uma idade negativa."
   ]
  },
  {
   "cell_type": "code",
   "execution_count": null,
   "metadata": {},
   "outputs": [],
   "source": [
    "# 32. Faça um programa que receba vários números e que calcule e mostre:\n",
    "# a) A quantidade de números inferiores a 35;\n",
    "# b) A média dos números positivos;\n",
    "# c) A percentagem de números entre 50 e 100 entre todos os números digitados;\n",
    "# c) A percentagem de números entre 10 e 20 entre os números menores que 50.\n",
    "\n"
   ]
  },
  {
   "cell_type": "code",
   "execution_count": null,
   "metadata": {},
   "outputs": [],
   "source": [
    "# 33. Faça um programa que apresente o menu de opções a seguir:\n",
    "\n",
    "# Menu de opções:\n",
    "# 1. Média aritmética\n",
    "# 2. Média ponderada\n",
    "# 3. Sair\n",
    "\n",
    "# Digite a opção desejada\n",
    "#Na opção 1: receber duas notas, calcular e mostrar a média aritmética.\n",
    "#Na opção 2: receber três notas e seus respectivos pesos, calcular e mostrar a média ponderada.\n",
    "#Na opção 3: sair do programa.\n",
    "\n",
    "# Verifique a possibilidade de opção inválida, mostrando uma mensagem.\n",
    "\n"
   ]
  },
  {
   "cell_type": "code",
   "execution_count": null,
   "metadata": {},
   "outputs": [],
   "source": [
    "# 34- Em uma eleição presidencial existem quatro candidatos. Os votos são informados por meio de código. \n",
    "# Os códigos utilizados são:\n",
    "\n",
    "# 1, 2, 3, 4                Votos para os respectivos candidatos\n",
    "#      5                                  Voto nulo\n",
    "#      6                                Voto em branco\n",
    "\n",
    "# Faça um programa que calcule e mostre:\n",
    "\n",
    "# a)  O total de votos para cada candidato;\n",
    "# b)  O total de votos nulos:\n",
    "# c)  O total de votos em branco;\n",
    "# d)  A percentagem de votos nulos sobre o total de votos;\n",
    "# e)  A percentagem de votos em branco sobre o total de votos.\n",
    "\n",
    "#Para finalizar o conjunto de votos, tem-se o valor zero."
   ]
  },
  {
   "cell_type": "code",
   "execution_count": null,
   "metadata": {},
   "outputs": [],
   "source": [
    "# 35- Faça um programa que receba como entrada uma lista de números positivos ou negativos, \n",
    "# terminada com o número zero. O programa deve fornecer como saída a soma dos números positivos, \n",
    "# a soma dos números negativos e a soma das duas somas parciais."
   ]
  },
  {
   "cell_type": "code",
   "execution_count": null,
   "metadata": {},
   "outputs": [],
   "source": [
    "# 36-  Faça um programa que receba a idade e a altura de várias pessoas e que calcule e mostre a \n",
    "# média das alturas das pessoas com mais de 50 anos. Para encerrar a entrada de dados digite idade \n",
    "# menor ou igual a zero."
   ]
  },
  {
   "cell_type": "code",
   "execution_count": null,
   "metadata": {},
   "outputs": [],
   "source": [
    "# 37-  Faça um programa que apresente um menu de opções para o cálculo das seguintes operações entre\n",
    "# dois números: adição, subtração, multiplicação e divisão. O programa deve possibilitar ao usuário a \n",
    "# escolha da operação desejada, a exibição do resultado e a volta ao menu de opções. O programa só termina \n",
    "# quando for escolhida a opção de saída."
   ]
  },
  {
   "cell_type": "code",
   "execution_count": null,
   "metadata": {},
   "outputs": [],
   "source": [
    "# 38-  Faça um programa que apresente o menu de opções a seguir, que permita ao usuário escolher a opção desejada, \n",
    "# receba os dados necessários para executar a operação e mostre o resultado. Verificar a possibilidade \n",
    "# de opção inválida e não se preocupar com as restrições, como salário inválido.\n",
    "\n",
    "# Menu de opções:\n",
    "# 1. Novo salário \n",
    "# 2. Férias\n",
    "# 3. Décimo terceiro\n",
    "# 4. Sair\n",
    "\n",
    "#Digite a opção desejada\n",
    "\n",
    "# Na Opção 1: receber o salário de um funcionário, calcular e mostrar o novo salário usando as regras a seguir.\n",
    "\n",
    "#       Salários              Percentagem de aumento\n",
    "#    Até R$ 350,00                      15%\n",
    "# De R$ 350,00 a R$ 600,00              10%\n",
    "#    Acima de R$ 600,00                  5%\n",
    "\n",
    "# Na opção 2: receber o salário de um funçionário, calcular e mostrar o valor de suas férias. Sabe-se que as \n",
    "# férias equivalem ao seu salário acrescido de l/Ê.\n",
    "# Na opção 3: receber o salário de um funcionário e o número de meses de trabalho na empresa, no máximo 12,\n",
    "# calcular e mostrar o valor do décimo terceiro. Sabe-se que o décimo terceiro equivale ao seu salário multiplicado \n",
    "# pelo número de meses de trabalho dividido por 12.\n",
    "\n",
    "# Na opção 4: sair do programa.\n",
    "\n",
    "\n",
    "\n"
   ]
  },
  {
   "cell_type": "code",
   "execution_count": null,
   "metadata": {},
   "outputs": [],
   "source": [
    "# 39-  Uma agência bancária possui vários clientes que podem fazer investimentos com rendimentos mensais, \n",
    "# conforme a tabela a seguir:\n",
    "\n",
    "# Tipo     Descrição     Rendimento mensal\n",
    "#  1       Poupança             1,5%\n",
    "#  2     Poupança plus           2%\n",
    "#  3    Fundos de renda          4%\n",
    "\n",
    "# Faça um programa que leia o código do cliente, o tipo da conta e o valor investido e que calcule e mostre o \n",
    "# rendimento mensal de acordo com o tipo do investimento. Ao final do programa mostre o total de juros pagos.\n",
    "\n",
    "# A leitura terminará quando o código do cliente digitado for menor ou igual a 0.\n"
   ]
  }
 ],
 "metadata": {
  "kernelspec": {
   "display_name": "Python 3",
   "language": "python",
   "name": "python3"
  },
  "language_info": {
   "codemirror_mode": {
    "name": "ipython",
    "version": 3
   },
   "file_extension": ".py",
   "mimetype": "text/x-python",
   "name": "python",
   "nbconvert_exporter": "python",
   "pygments_lexer": "ipython3",
   "version": "3.7.3"
  }
 },
 "nbformat": 4,
 "nbformat_minor": 2
}
