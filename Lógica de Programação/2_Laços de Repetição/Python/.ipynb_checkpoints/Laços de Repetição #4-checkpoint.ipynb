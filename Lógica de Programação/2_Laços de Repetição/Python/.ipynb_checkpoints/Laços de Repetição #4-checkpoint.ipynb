{
 "cells": [
  {
   "cell_type": "code",
   "execution_count": null,
   "metadata": {},
   "outputs": [],
   "source": [
    "# 1-  Faça um programa para calcular n! (Fatorial de n), sendo que o valor inteiro de n é fornecido pelo usuário.\n",
    "# Sabe-se que:\n",
    "# N! = 1 * 2 * 3 * ... (n – 1) * n\n",
    "# 0! = 1, por definição;"
   ]
  },
  {
   "cell_type": "code",
   "execution_count": null,
   "metadata": {},
   "outputs": [],
   "source": [
    "# 2- Faça um programa que receba a idade e o peso de 15 pessoas. Calcule e mostre as médias dos pesos das pessoas\n",
    "# da mesma faixa etária. As faixas etárias são: de 1 a 10 anos, de ll a 20 anos, de 21 a 30 anos e maiores de 31 anos."
   ]
  },
  {
   "cell_type": "code",
   "execution_count": null,
   "metadata": {},
   "outputs": [],
   "source": [
    "# 3 - Cada espectador de um cinema respondeu a um questionário no qual constava sua idade e a \n",
    "# sua opinião em relação ao filme: ótimo - 3, bom - 2, regular - 1. Faça um programa que receba a idade\n",
    "# e a opinião de 15 espectadores e que calcule e mostre:\n",
    "\n",
    "# a) A média das idades das pessoas que responderam ótimo;\n",
    "# b) A quantidade de pessoas que respondeu regular;\n",
    "# c) A percentagem de pessoas que respondeu bom entre todos os espectadores analisados."
   ]
  },
  {
   "cell_type": "code",
   "execution_count": null,
   "metadata": {},
   "outputs": [],
   "source": [
    "# 4- Uma firma fez uma pesquisa de mercado para saber se as pessoas gostaram ou não de um novo produto lançado\n",
    "# no mercado. Para isso forneceu o sexo do entrevistado e sua resposta (S - Sim ou N - Não). \n",
    "# Sabe-se que foram entrevistadas dez pessoas. Faça um programa que calcule e mostre:\n",
    "\n",
    "# a) O número de pessoas que respondeu sim;\n",
    "# b) O número de pessoas que respondeu não;\n",
    "# c) O número de mulheres que respondeu sim;\n",
    "# d) A percentagem de homens que respondeu não entre todos os homens analisados."
   ]
  },
  {
   "cell_type": "code",
   "execution_count": null,
   "metadata": {},
   "outputs": [],
   "source": [
    "# 5-  O sistema de avaliação de uma determinada disciplina obedece aos seguintes critérios: \n",
    "# a) Durante o semestre são dadas três notas;\n",
    "# b) A nota final é obtida pela média aritmética das três notas;\n",
    "# c) É considerado aprovado o aluno que obtiver a nota final superior ou igual a 6 e que tiver \n",
    "# comparecido a um mínimo de 40 aulas.\n"
   ]
  },
  {
   "cell_type": "code",
   "execution_count": null,
   "metadata": {},
   "outputs": [],
   "source": [
    "# 6- Faça um programa que leia um conjunto de dados contendo o número da matrícula, as três notas e a\n",
    "# frequência (número de aulas frequentadas) de dez alunos.\n",
    "\n",
    "# Calcule e mostre:\n",
    "\n",
    "# Para cada aluno o número da matrícula, a nota final e a mensagem (aprovado ou reprovado);\n",
    "# A maior e a menor nota da turma;\n",
    "# O total de alunos reprovados;\n",
    "# A percentagem de alunos reprovados por frequência abaixo da mínima necessária."
   ]
  },
  {
   "cell_type": "code",
   "execution_count": null,
   "metadata": {},
   "outputs": [],
   "source": [
    "# 7 - Faça um programa que receba várias idades e que calcule e mostre a média das idades digitadas. Finalize\n",
    "# digitando idade igual a zero."
   ]
  },
  {
   "cell_type": "code",
   "execution_count": null,
   "metadata": {},
   "outputs": [],
   "source": [
    "# 8- Foi feita uma pesquisa de audiência de canal de TV em várias casas de uma cidade, em um determinado dia. \n",
    "# Para cada casa consultada foi fornecido o número do canal (4, 5, 7, 12) e o número de pessoas que estavam assistindo\n",
    "# aquele canal. Se a televisão estivesse desligada, nada era anotado, ou seja, essa casa não entrava na pesquisa.\n",
    "# Faça um programa que:\n",
    "\n",
    "# a)    Leia um número indeterminado de dados (número do canal e o número de pessoas que estavam assistindo);\n",
    "# b)    Calcule e mostre a percentagem de audiência de cada canal.\n",
    "# c)    Para encerrar a entrada de dados digite o número do canal ZERO."
   ]
  },
  {
   "cell_type": "code",
   "execution_count": null,
   "metadata": {},
   "outputs": [],
   "source": [
    "# 9-  A prefeitura de uma cidade fez uma pesquisa entre seus habitantes, coletando dados sobre o salário e o \n",
    "# número de filhos. A prefeitura deseja saber:\n",
    "# a)    A média do salário da população;\n",
    "# b)    A média do número de filhos;\n",
    "# c)    O maior salário; p\n",
    "# d)    A percentagem de pessoas com salários até R$ 150,00.\n",
    "\n",
    "# O final da leitura de dados dar-se-á com a entrada de um salário negativo."
   ]
  },
  {
   "cell_type": "code",
   "execution_count": null,
   "metadata": {},
   "outputs": [],
   "source": [
    "# 10- Foi feita uma pesquisa entre os habitantes de uma região. Foram coletados os dados de idade, sexo (M/F) e salário. Faça um programa que calcule e mostre:\n",
    "# a)    A média dos salários do grupo;\n",
    "# b)    A maior e a menor idade do grupo;\n",
    "# c)    A quantidade de mulheres com salário até R$ 200,00;\n",
    "# d)    A idade e o sexo da pessoa que possui o menor salário.\n",
    "\n",
    "# Finalize a entrada de dados ao ser digitada uma idade negativa."
   ]
  }
 ],
 "metadata": {
  "kernelspec": {
   "display_name": "Python 3",
   "language": "python",
   "name": "python3"
  },
  "language_info": {
   "codemirror_mode": {
    "name": "ipython",
    "version": 3
   },
   "file_extension": ".py",
   "mimetype": "text/x-python",
   "name": "python",
   "nbconvert_exporter": "python",
   "pygments_lexer": "ipython3",
   "version": "3.7.3"
  }
 },
 "nbformat": 4,
 "nbformat_minor": 2
}
