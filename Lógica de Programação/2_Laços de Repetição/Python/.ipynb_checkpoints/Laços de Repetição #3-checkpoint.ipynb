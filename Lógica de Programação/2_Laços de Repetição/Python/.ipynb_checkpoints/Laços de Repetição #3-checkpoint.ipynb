{
 "cells": [
  {
   "cell_type": "code",
   "execution_count": null,
   "metadata": {},
   "outputs": [],
   "source": [
    "# 1-  Uma loja utiliza o código V para transação à vista e P para transação a prazo. Faça um programa que receba código e \n",
    "# valor de 5 transações. Calcule e mostre:\n",
    "\n",
    "# a.    O valor total das compras à vista\n",
    "# b.    O valor total das compras a prazo sabendo que essas compras possuem 10% de juros sobre o valor total\n",
    "# c.    O valor total das compras efetuadas\n",
    "\n",
    "aVista = 0 \n",
    "aPrazo = 0\n",
    "total = 0\n",
    "\n",
    "for i in range (0,5):\n",
    "    tipoDeCompra = input(\"(p) compra a prazo \\n (v) compra a vista \\n\")\n",
    "    valorDaCompra = int(input(\"Digite o valor da compra\"))\n",
    "    if tipoDeCompra == \"p\":\n",
    "        aPrazo += valorDaCompra\n",
    "    elif tipoDeCompra == \"v\":\n",
    "        aVista += valorDaCompra * 1.10\n",
    "\n",
    "    total += valorDaCompra\n",
    "\n",
    "print(\"A vista:\", aVista)\n",
    "print(\"A prazo:\", aPrazo)\n",
    "print(\"total:\", total)"
   ]
  },
  {
   "cell_type": "code",
   "execution_count": null,
   "metadata": {},
   "outputs": [],
   "source": [
    "# 2- Faça um programa que receba a idade, altura e o peso de 25 pessoas, Calcule e mostre:\n",
    "# a.    A quantidade de pessoas com idade superior a 50 anos;\n",
    "# b.    A média das Alturas das pessoas com idade entre 10 e 20 anos\n",
    "# c.    A porcentagem das pessoas com peso inferior a 40 quilos entre todas as pessoas analisadas.\n"
   ]
  },
  {
   "cell_type": "code",
   "execution_count": null,
   "metadata": {},
   "outputs": [],
   "source": [
    "# 3- Faça um programa que receba a idade e o peso de sete pessoas. Calcule e mostre:\n",
    "# a.    A quantidade de pessoas com mais de 90 quilos;\n",
    "# b.    A média das idades das sete pessoas;"
   ]
  },
  {
   "cell_type": "code",
   "execution_count": null,
   "metadata": {},
   "outputs": [],
   "source": [
    "# 4- Faça um programa que receba a idade, o peso, a altura, a cor dos olhos (A – Azul, P- Preto, V- Verde e C- Castanho) e\n",
    "# a cor dos cabelos (P – Preto, C- Castanho, L – Louro e R-Ruivo) de 20 pessoas e que calcule e mostre:\n",
    "# a.    A quantidade de pessoas com idade superior a 50 anos e peso inferior a 60 quilos;\n",
    "# b.    A média das idades das pessoas com altura inferior a 1,50;\n",
    "# c.    A porcentagem de pessoas com olhos azuis entre a s pessoas analisadas;\n",
    "# d.    A quantidade de pessoas ruivas que não possuem olhos azuis;"
   ]
  },
  {
   "cell_type": "code",
   "execution_count": null,
   "metadata": {},
   "outputs": [],
   "source": [
    "# 5- Faça um programa que receba 3 números e que calcule e mostre a quantidade de números entre 30 e 90.\n",
    "\n",
    "quantidade = 0\n",
    "\n",
    "for i in range(0,3):\n",
    "    numero = int(input(\"Digite um Numero\"))\n",
    "    if( numero > 30 and numero < 90):\n",
    "        quantidade += 1 \n",
    "        \n",
    "print(\"quantidade de numeros entre 30 e 90:\", quantidade)\n",
    "    "
   ]
  },
  {
   "cell_type": "code",
   "execution_count": null,
   "metadata": {},
   "outputs": [],
   "source": [
    "# 6-  Faça um programa que receba dez idades, pesos e Alturas e que calcule e mostre:\n",
    "# a.    A média das idades das dez pessoas;\n",
    "# b.    A quantidade de pessoas com peso superior a 90 quilos e altura inferior a 1,50;\n",
    "# c.    A porcentagem de pessoas com idade entre 10 e 30 anos entre as pessoas que medem mais de 1,90;"
   ]
  },
  {
   "cell_type": "code",
   "execution_count": null,
   "metadata": {},
   "outputs": [],
   "source": [
    "# 7- Faça um programa que receba a idade e o sexto de sete pessoas e que calcule e mostre:\n",
    "# a. A idade média do grupo;\n",
    "# b. A idade média das mulheres;\n",
    "# c. A idade média dos homens;"
   ]
  },
  {
   "cell_type": "code",
   "execution_count": null,
   "metadata": {},
   "outputs": [],
   "source": [
    "# 8- Faça um programa que receba o valor de um carro e mostre uma tabela com os seguintes dados: \n",
    "# preço final, quantidade de parcelas e valor da parcela. Considere o seguinte:\n",
    "# a. O preço final para compra à vista tem um desconto de 20%;\n",
    "# b. A quantidades de parcelas pode ser: 6, 12, 18, 24, 30, 36, 42, 48, 54 e 60.\n",
    "# c. Os percentuais de acréscimo seguem a tabela a seguir.\n",
    "\n",
    "# Qtd de parcelas         % acrescimo dos preços\n",
    "#        6                           3%\n",
    "#        12                          6%\n",
    "#        18                          9%\n",
    "#        24                          12%\n",
    "#        30                          15%\n",
    "#        36                          18%\n",
    "#        42                          21%\n",
    "#        48                          24%\n",
    "#        54                          27%\n",
    "#        60                          30%\n",
    "        "
   ]
  },
  {
   "cell_type": "code",
   "execution_count": null,
   "metadata": {},
   "outputs": [],
   "source": [
    "# 9-  Faça um programa que receba várias idades e que calcule e mostre a média das idades digitadas. \n",
    "# Finalize digitando a idade igual a zero"
   ]
  },
  {
   "cell_type": "code",
   "execution_count": null,
   "metadata": {},
   "outputs": [],
   "source": [
    "# 10- Faça um programa que receba um conjunto de valores inteiros e positivos e que calcule e mostre o maior e o\n",
    "# menor valor do conjunto. Considere que:\n",
    "# a.    Para encerrar a entrada de dados, deve ser digitado o valor zero;\n",
    "# b.    Para valores, deve ser enviada uma mensagem;\n",
    "# c.    Os valores negativos ou iguais a zero não entrarão nos cálculos."
   ]
  }
 ],
 "metadata": {
  "kernelspec": {
   "display_name": "Python 3",
   "language": "python",
   "name": "python3"
  },
  "language_info": {
   "codemirror_mode": {
    "name": "ipython",
    "version": 3
   },
   "file_extension": ".py",
   "mimetype": "text/x-python",
   "name": "python",
   "nbconvert_exporter": "python",
   "pygments_lexer": "ipython3",
   "version": "3.7.3"
  }
 },
 "nbformat": 4,
 "nbformat_minor": 2
}
