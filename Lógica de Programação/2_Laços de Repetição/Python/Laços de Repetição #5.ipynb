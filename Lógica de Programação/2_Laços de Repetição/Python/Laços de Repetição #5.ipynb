{
 "cells": [
  {
   "cell_type": "code",
   "execution_count": null,
   "metadata": {},
   "outputs": [],
   "source": [
    "# 1 -  Uma empresa deseja aumentar seus preços em 20%. Faça um programa que leia o código e o preço de custo de cada\n",
    "# produto e que calcule o novo preço. Calcule também a média dos preços com e sem aumento. Mostre o código e o novo preço \n",
    "# de cada produto e, no final, as médias. A entrada de dados deve terminar quando for lido um código de produto negativo."
   ]
  },
  {
   "cell_type": "code",
   "execution_count": null,
   "metadata": {},
   "outputs": [],
   "source": [
    "# 2-  Faça um programa que receba o tipo da ação, ou seja, uma letra a ser comercializada na bolsa de valores, o preço de compra e o preço de venda de cada ação e que calcule e mostre:\n",
    "\n",
    "# a)        O lucro de cada ação comercializada;\n",
    "# b)         A quantidade de ações com lucro superior a R$ 1.000,00;\n",
    "# c)        A quantidade de ações com lucro inferior a R$ 200,00;\n",
    "# d)          O lucro total da empresa\n",
    "\n",
    "# Finalize com o tipo de ação “F”."
   ]
  },
  {
   "cell_type": "code",
   "execution_count": null,
   "metadata": {},
   "outputs": [],
   "source": [
    "# 3. Faça um programa que receba vários números e que calcule e mostre:\n",
    "# a) A quantidade de números inferiores a 35;\n",
    "# b) A média dos números positivos;\n",
    "# c) A percentagem de números entre 50 e 100 entre todos os números digitados;\n",
    "# c) A percentagem de números entre 10 e 20 entre os números menores que 50.\n",
    "\n"
   ]
  },
  {
   "cell_type": "code",
   "execution_count": null,
   "metadata": {},
   "outputs": [],
   "source": [
    "# 4. Faça um programa que apresente o menu de opções a seguir:\n",
    "\n",
    "# Menu de opções:\n",
    "# 1. Média aritmética\n",
    "# 2. Média ponderada\n",
    "# 3. Sair\n",
    "\n",
    "# Digite a opção desejada\n",
    "#Na opção 1: receber duas notas, calcular e mostrar a média aritmética.\n",
    "#Na opção 2: receber três notas e seus respectivos pesos, calcular e mostrar a média ponderada.\n",
    "#Na opção 3: sair do programa.\n",
    "\n",
    "# Verifique a possibilidade de opção inválida, mostrando uma mensagem.\n",
    "\n"
   ]
  },
  {
   "cell_type": "code",
   "execution_count": null,
   "metadata": {},
   "outputs": [],
   "source": [
    "# 5- Em uma eleição presidencial existem quatro candidatos. Os votos são informados por meio de código. \n",
    "# Os códigos utilizados são:\n",
    "\n",
    "# 1, 2, 3, 4                Votos para os respectivos candidatos\n",
    "#      5                                  Voto nulo\n",
    "#      6                                Voto em branco\n",
    "\n",
    "# Faça um programa que calcule e mostre:\n",
    "\n",
    "# a)  O total de votos para cada candidato;\n",
    "# b)  O total de votos nulos:\n",
    "# c)  O total de votos em branco;\n",
    "# d)  A percentagem de votos nulos sobre o total de votos;\n",
    "# e)  A percentagem de votos em branco sobre o total de votos.\n",
    "\n",
    "#Para finalizar o conjunto de votos, tem-se o valor zero."
   ]
  },
  {
   "cell_type": "code",
   "execution_count": null,
   "metadata": {},
   "outputs": [],
   "source": [
    "# 6- Faça um programa que receba como entrada uma lista de números positivos ou negativos, \n",
    "# terminada com o número zero. O programa deve fornecer como saída a soma dos números positivos, \n",
    "# a soma dos números negativos e a soma das duas somas parciais."
   ]
  },
  {
   "cell_type": "code",
   "execution_count": null,
   "metadata": {},
   "outputs": [],
   "source": [
    "# 7-  Faça um programa que receba a idade e a altura de várias pessoas e que calcule e mostre a \n",
    "# média das alturas das pessoas com mais de 50 anos. Para encerrar a entrada de dados digite idade \n",
    "# menor ou igual a zero."
   ]
  },
  {
   "cell_type": "code",
   "execution_count": null,
   "metadata": {},
   "outputs": [],
   "source": [
    "# 8-  Faça um programa que apresente um menu de opções para o cálculo das seguintes operações entre\n",
    "# dois números: adição, subtração, multiplicação e divisão. O programa deve possibilitar ao usuário a \n",
    "# escolha da operação desejada, a exibição do resultado e a volta ao menu de opções. O programa só termina \n",
    "# quando for escolhida a opção de saída."
   ]
  },
  {
   "cell_type": "code",
   "execution_count": null,
   "metadata": {},
   "outputs": [],
   "source": [
    "# 9-  Faça um programa que apresente o menu de opções a seguir, que permita ao usuário escolher a opção desejada, \n",
    "# receba os dados necessários para executar a operação e mostre o resultado. Verificar a possibilidade \n",
    "# de opção inválida e não se preocupar com as restrições, como salário inválido.\n",
    "\n",
    "# Menu de opções:\n",
    "# 1. Novo salário \n",
    "# 2. Férias\n",
    "# 3. Décimo terceiro\n",
    "# 4. Sair\n",
    "\n",
    "#Digite a opção desejada\n",
    "\n",
    "# Na Opção 1: receber o salário de um funcionário, calcular e mostrar o novo salário usando as regras a seguir.\n",
    "\n",
    "#       Salários              Percentagem de aumento\n",
    "#    Até R$ 350,00                      15%\n",
    "# De R$ 350,00 a R$ 600,00              10%\n",
    "#    Acima de R$ 600,00                  5%\n",
    "\n",
    "# Na opção 2: receber o salário de um funçionário, calcular e mostrar o valor de suas férias. Sabe-se que as \n",
    "# férias equivalem ao seu salário acrescido de l/Ê.\n",
    "# Na opção 3: receber o salário de um funcionário e o número de meses de trabalho na empresa, no máximo 12,\n",
    "# calcular e mostrar o valor do décimo terceiro. Sabe-se que o décimo terceiro equivale ao seu salário multiplicado \n",
    "# pelo número de meses de trabalho dividido por 12.\n",
    "\n",
    "# Na opção 4: sair do programa.\n",
    "\n",
    "\n",
    "\n"
   ]
  },
  {
   "cell_type": "code",
   "execution_count": null,
   "metadata": {},
   "outputs": [],
   "source": [
    "# 10-  Uma agência bancária possui vários clientes que podem fazer investimentos com rendimentos mensais, \n",
    "# conforme a tabela a seguir:\n",
    "\n",
    "# Tipo     Descrição     Rendimento mensal\n",
    "#  1       Poupança             1,5%\n",
    "#  2     Poupança plus           2%\n",
    "#  3    Fundos de renda          4%\n",
    "\n",
    "# Faça um programa que leia o código do cliente, o tipo da conta e o valor investido e que calcule e mostre o \n",
    "# rendimento mensal de acordo com o tipo do investimento. Ao final do programa mostre o total de juros pagos.\n",
    "\n",
    "# A leitura terminará quando o código do cliente digitado for menor ou igual a 0.\n"
   ]
  }
 ],
 "metadata": {
  "kernelspec": {
   "display_name": "Python 3",
   "language": "python",
   "name": "python3"
  },
  "language_info": {
   "codemirror_mode": {
    "name": "ipython",
    "version": 3
   },
   "file_extension": ".py",
   "mimetype": "text/x-python",
   "name": "python",
   "nbconvert_exporter": "python",
   "pygments_lexer": "ipython3",
   "version": "3.7.3"
  }
 },
 "nbformat": 4,
 "nbformat_minor": 2
}
