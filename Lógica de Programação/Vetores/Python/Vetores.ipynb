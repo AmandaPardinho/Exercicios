{
 "cells": [
  {
   "cell_type": "code",
   "execution_count": 2,
   "metadata": {},
   "outputs": [
    {
     "name": "stdout",
     "output_type": "stream",
     "text": [
      "digite a primeira posição5\n",
      "digite a segunda posição2\n",
      "\n",
      " O resultado é:  10\n"
     ]
    }
   ],
   "source": [
    "# 1. Declare uma lista com 12 posições e em seguida declare também dois valores X e Y quaisquer correspondentes a \n",
    "# duas posições na lista. Ao final seu programa deverá escrever a soma dos valores encontrados nas respectivas posições X e Y.\n",
    "\n",
    "lista = [12,5,4,7,8,6,41,23,5,6,12]\n",
    "x = int(input(\"digite a primeira posição\"))\n",
    "y = int(input(\"digite a segunda posição\"))\n",
    "\n",
    "resultado = lista[x] + lista[y]\n",
    "\n",
    "print(\"\\n O resultado é: \", resultado)"
   ]
  },
  {
   "cell_type": "code",
   "execution_count": 6,
   "metadata": {},
   "outputs": [
    {
     "name": "stdout",
     "output_type": "stream",
     "text": [
      "[0, 2, 4, 6, 8, 10, 12, 14, 16, 18]\n"
     ]
    }
   ],
   "source": [
    "# 2. Declare uma lista de 10 posições e o preencha com os 10 primeiros números impares e o escreva.\n",
    "\n",
    "lista = []\n",
    "\n",
    "i = 0\n",
    "num = 0\n",
    "while len(lista) < 10:\n",
    "    if num % 2 == 0:\n",
    "        lista.append(num)\n",
    "        i += 1\n",
    "    num += 1 \n",
    "\n",
    "print(lista)"
   ]
  },
  {
   "cell_type": "code",
   "execution_count": 17,
   "metadata": {},
   "outputs": [
    {
     "name": "stdout",
     "output_type": "stream",
     "text": [
      "[1, 2, 3, 4, 5, 6, 7, 8, 9, 10, 11, 12, 13, 14, 15, 16, 0]\n"
     ]
    }
   ],
   "source": [
    "# 3. Declare uma lista de 16 posições e troque os 8 primeiros valores pelos 8 últimos e vice-e-versa. \n",
    "# Escreva ao final o vetor obtido.\n",
    "\n",
    "lista = [16,15,14,13,12,11,10,9,8,7,6,5,4,3,2,1,0]\n",
    "\n",
    "for i in range (0,8):\n",
    "    comeco = lista[i]\n",
    "    final = lista[15-i]\n",
    "    lista[i] = final\n",
    "    lista[15-i] = comeco\n",
    "\n",
    "print (lista)"
   ]
  },
  {
   "cell_type": "code",
   "execution_count": 23,
   "metadata": {},
   "outputs": [
    {
     "name": "stdout",
     "output_type": "stream",
     "text": [
      "digite um valor para buscar5\n",
      "Valor encontrado na posição:  11\n"
     ]
    }
   ],
   "source": [
    "# 4. Declare uma lista de 20 posições e em seguida um valor X qualquer. Seu programa devera fazer uma busca do valor de X no \n",
    "# vetor lido e informar a posição em que foi encontrado ou se não foi encontrado.\n",
    "\n",
    "lista = [16,15,14,13,12,11,10,9,8,7,6,5,4,3,2,1,0,20,19,18]\n",
    "\n",
    "encontrado = False\n",
    "valor = int(input(\"digite um valor para buscar\"))\n",
    "\n",
    "for i in range(len(lista)):\n",
    "    if lista[i] == valor:\n",
    "        print(\"Valor encontrado na posição: \", i)\n",
    "        encontrado = True\n",
    "        break\n",
    "\n",
    "if(not encontrado):\n",
    "    print(\"valor não encontrado\")\n",
    "    "
   ]
  },
  {
   "cell_type": "code",
   "execution_count": 24,
   "metadata": {},
   "outputs": [
    {
     "name": "stdout",
     "output_type": "stream",
     "text": [
      "Quantidade de valores pares:  11\n"
     ]
    }
   ],
   "source": [
    "# 5. Declare uma lista de 40 posições. Contar e escrever quantos valores pares ele possui.\n",
    "\n",
    "lista = [16,15,14,13,12,11,10,9,8,7,6,5,4,3,2,1,0,20,19,18]\n",
    "\n",
    "valoresPares = 0\n",
    "\n",
    "for i in range(len(lista)):\n",
    "    if lista[i] % 2 == 0:\n",
    "        valoresPares += 1\n",
    "\n",
    "print (\"Quantidade de valores pares: \", valoresPares)"
   ]
  },
  {
   "cell_type": "code",
   "execution_count": 25,
   "metadata": {},
   "outputs": [
    {
     "name": "stdout",
     "output_type": "stream",
     "text": [
      "[16, 0, 14, 13, 12, 0, 10, 9, 8, 7, 6, 5, 0, 3, 2, 1, 0, 20, 19, 18]\n"
     ]
    }
   ],
   "source": [
    "# 6. Declare uma lista de 40 posições e atribua valor 0 para todos os elementos que possuírem valores negativos.\n",
    "\n",
    "lista = [16,-15,14,13,12,-11,10,9,8,7,6,5,-4,3,2,1,0,20,19,18]\n",
    "\n",
    "for i in range(len(lista)):\n",
    "    if lista[i] < 0:\n",
    "        lista[i] = 0\n",
    "        \n",
    "print (lista)\n"
   ]
  },
  {
   "cell_type": "code",
   "execution_count": 27,
   "metadata": {},
   "outputs": [
    {
     "name": "stdout",
     "output_type": "stream",
     "text": [
      "[16, 14, 12, 10, 8, 6, 4, 2, 0, 20, 18]\n",
      "[15, 13, 11, 9, 7, 5, 3, 1, 19]\n"
     ]
    }
   ],
   "source": [
    "# 7. Declare dois vetores de 10 posições e crie uma outra lista contendo nas posições pares os valores do primeiro \n",
    "# e nas posições impares os valores do segundo.\n",
    "\n",
    "lista = [16,15,14,13,12,11,10,9,8,7,6,5,4,3,2,1,0,20,19,18]\n",
    "\n",
    "pares = []\n",
    "impares = []\n",
    "for i in range(len(lista)):\n",
    "    if lista[i] % 2 == 0:\n",
    "        pares.append(lista[i])\n",
    "    else:\n",
    "        impares.append(lista[i])\n",
    "        \n",
    "print (pares)\n",
    "print (impares)"
   ]
  },
  {
   "cell_type": "code",
   "execution_count": null,
   "metadata": {},
   "outputs": [],
   "source": [
    "# 8. Declare uma lista de 10 posições e acumule os valores do primeiro elemento no segundo, \n",
    "# deste no terceiro e assim por diante. Ao final, escreva o vetor obtido.\n",
    "\n"
   ]
  },
  {
   "cell_type": "code",
   "execution_count": 55,
   "metadata": {},
   "outputs": [
    {
     "name": "stdout",
     "output_type": "stream",
     "text": [
      "['e', 'u', 's', 'o', 'u', 'u', 'm', 'b', 'o', 'm', 'p', 'r', 'o', 'g', 'r', 'a', 'm', 'a', 'd', 'o', 'r']\n"
     ]
    }
   ],
   "source": [
    "# 9. Declare uma lista contendo letras de uma frase inclusive os espaços em branco. \n",
    "# Retirar os espaços em branco da lista e depois escreve-los.\n",
    "\n",
    "frase = \"eu sou um bom programador\"\n",
    "f = list(frase)\n",
    "lim = len(f)\n",
    "i = 0\n",
    "\n",
    "while i < lim:\n",
    "    if f[i] == ' ':\n",
    "        del f[i]\n",
    "        lim -= 1\n",
    "    i += 1\n",
    "print(f)"
   ]
  },
  {
   "cell_type": "code",
   "execution_count": null,
   "metadata": {},
   "outputs": [],
   "source": [
    "# 10. Leia um vetor de 5 posições contendo os caracteres de um numero. Em seguida escreva esse numero por extenso."
   ]
  },
  {
   "cell_type": "code",
   "execution_count": 8,
   "metadata": {},
   "outputs": [
    {
     "name": "stdout",
     "output_type": "stream",
     "text": [
      "é um anagrama\n"
     ]
    }
   ],
   "source": [
    "# 11. Declare duas listas de 4 posições. Verifique e escreva se um é anagrama de outro.\n",
    "#  Ex: ARARA - ARARA - são anagramas\n",
    "\n",
    "lista = ['a','r','a','r','a']\n",
    "\n",
    "i = len(lista) -1\n",
    "\n",
    "anagrama = True\n",
    "\n",
    "for j in range(len(lista)):\n",
    "\n",
    "    if(lista[j] != lista[i]):\n",
    "        anagrama = False\n",
    "    i -= 1;\n",
    "        \n",
    "if anagrama:\n",
    "    print('é um anagrama')\n",
    "else:\n",
    "    print('não é um anagrama')"
   ]
  },
  {
   "cell_type": "code",
   "execution_count": null,
   "metadata": {},
   "outputs": [],
   "source": [
    "# 12. Declare 3 listas de 9 posições e crie outro com o 1º terço do primeiro, o segundo 3º \n",
    "# do segundo e o ultimo terço do 3º. Escrever o vetor resultante ao final.\n",
    "\n",
    "lista1 = [3,2,1,5,2,6,8,9,6]\n",
    "lista2 = [5,3,2,1,6,2,4,3,7]\n",
    "lista3 = [7,6,5,9,6,3,4,6,7]\n",
    "\n",
    "result = []\n",
    "\n",
    "for i in range(9):\n",
    "    if i > 0 and i < 9/3:\n",
    "        \n"
   ]
  },
  {
   "cell_type": "code",
   "execution_count": null,
   "metadata": {},
   "outputs": [],
   "source": [
    "# 13. Declare uma lista de 10 posições e verifique se existem valores iguais e os escreva."
   ]
  },
  {
   "cell_type": "code",
   "execution_count": null,
   "metadata": {},
   "outputs": [],
   "source": [
    "# 14. Declare uma lista de 50 posições e o compacte, ou seja, mova os valores zero para o final do lista. \n",
    "# Dessa forma todos “zeros” devem ficar para as posições finais do lista."
   ]
  },
  {
   "cell_type": "code",
   "execution_count": null,
   "metadata": {},
   "outputs": [],
   "source": [
    "# 15. Considere um vetor de trajetórias de 9 elementos, onde cada elemento possui o valor do próximo elemento do vetor a ser lido.\n",
    "# #  Índice       1    2    3    4    5    6    7     8     9 \n",
    "# #   Valor       5    7    6    9    2    8    4     0     3\n",
    "\n",
    "# Assim, a seqüência da leitura seria 1, 5, 2, 7, 4, 9, 3, 6, 8, 0\n",
    "# Faça um algoritmo que seja capaz de ler esse vetor e seguir a trajetória."
   ]
  },
  {
   "cell_type": "code",
   "execution_count": null,
   "metadata": {},
   "outputs": [],
   "source": [
    "# 1. Escreva um algoritmo que solicite ao usuário a entrada de 5 números, e que exiba o somatório desses números na tela.\n",
    "# Após exibir a soma, o programa deve mostrar também os números que o usuário digitou, um por linha."
   ]
  },
  {
   "cell_type": "code",
   "execution_count": null,
   "metadata": {},
   "outputs": [],
   "source": [
    "# 2. Escreva um algoritmo que solicite ao usuário a entrada de 5 nomes, e que exiba a lista desses nomes na tela.\n",
    "# Após exibir essa lista, o programa deve mostrar também os nomes na ordem inversa em que o usuário os digitou, \n",
    "# um por linha."
   ]
  },
  {
   "cell_type": "code",
   "execution_count": null,
   "metadata": {},
   "outputs": [],
   "source": [
    "# 3. Crie um programa que solicite a entrada de 10 números pelo usuário, armazenando-os em um vetor, \n",
    "# e então monte outro vetor com os valores do primeiro multiplicados por 5.\n",
    "# Exiba os valores dos dois vetores na tela, simultaneamente, em duas colunas (um em cada coluna), uma posição por linha. "
   ]
  },
  {
   "cell_type": "code",
   "execution_count": null,
   "metadata": {},
   "outputs": [],
   "source": [
    "# 4. Crie um programa que armazene 10 números digitados pelo usuário em dois vetores: um somente para números pares,\n",
    "# e outro somente para números ímpares.\n",
    "#Após, exiba os valores dos dois vetores na tela, em sequência.\n",
    "# Obs.: As posições que não receberem valores exibirão o número zero. Não se preocupe com isso por enquanto."
   ]
  },
  {
   "cell_type": "code",
   "execution_count": null,
   "metadata": {},
   "outputs": [],
   "source": [
    "# 5. Modifique o programa anterior para não aceitar a entrada do número zero,\n",
    "# e requisitar a digitação de outro número neste caso."
   ]
  },
  {
   "cell_type": "code",
   "execution_count": null,
   "metadata": {},
   "outputs": [],
   "source": [
    "# 6. Modifique novamente o programa anterior, de modo a não exibir na saída os números zero que são mostrados para \n",
    "# todas as posições que não receberam nenhum valor durante a atribuição (e portanto estão vazias)."
   ]
  },
  {
   "cell_type": "code",
   "execution_count": null,
   "metadata": {},
   "outputs": [],
   "source": []
  }
 ],
 "metadata": {
  "kernelspec": {
   "display_name": "Python 3",
   "language": "python",
   "name": "python3"
  },
  "language_info": {
   "codemirror_mode": {
    "name": "ipython",
    "version": 3
   },
   "file_extension": ".py",
   "mimetype": "text/x-python",
   "name": "python",
   "nbconvert_exporter": "python",
   "pygments_lexer": "ipython3",
   "version": "3.8.5"
  }
 },
 "nbformat": 4,
 "nbformat_minor": 2
}
