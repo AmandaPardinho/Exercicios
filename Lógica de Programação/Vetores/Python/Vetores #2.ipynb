{
 "cells": [
  {
   "cell_type": "code",
   "execution_count": null,
   "metadata": {},
   "outputs": [],
   "source": [
    "# 1. Escreva um algoritmo que solicite ao usuário a entrada de 5 números, e que exiba o somatório desses números na tela.\n",
    "# Após exibir a soma, o programa deve mostrar também os números que o usuário digitou, um por linha."
   ]
  },
  {
   "cell_type": "code",
   "execution_count": null,
   "metadata": {},
   "outputs": [],
   "source": [
    "# 2. Escreva um algoritmo que solicite ao usuário a entrada de 5 nomes, e que exiba a lista desses nomes na tela.\n",
    "# Após exibir essa lista, o programa deve mostrar também os nomes na ordem inversa em que o usuário os digitou, \n",
    "# um por linha."
   ]
  },
  {
   "cell_type": "code",
   "execution_count": null,
   "metadata": {},
   "outputs": [],
   "source": [
    "# 3. Crie um programa que solicite a entrada de 10 números pelo usuário, armazenando-os em um vetor, \n",
    "# e então monte outro vetor com os valores do primeiro multiplicados por 5.\n",
    "# Exiba os valores dos dois vetores na tela, simultaneamente, em duas colunas (um em cada coluna), uma posição por linha. "
   ]
  },
  {
   "cell_type": "code",
   "execution_count": null,
   "metadata": {},
   "outputs": [],
   "source": [
    "# 4. Crie um programa que armazene 10 números digitados pelo usuário em dois vetores: um somente para números pares,\n",
    "# e outro somente para números ímpares.\n",
    "#Após, exiba os valores dos dois vetores na tela, em sequência.\n",
    "# Obs.: As posições que não receberem valores exibirão o número zero. Não se preocupe com isso por enquanto."
   ]
  },
  {
   "cell_type": "code",
   "execution_count": null,
   "metadata": {},
   "outputs": [],
   "source": [
    "# 5. Modifique o programa anterior para não aceitar a entrada do número zero,\n",
    "# e requisitar a digitação de outro número neste caso."
   ]
  },
  {
   "cell_type": "code",
   "execution_count": null,
   "metadata": {},
   "outputs": [],
   "source": [
    "# 6. Modifique novamente o programa anterior, de modo a não exibir na saída os números zero que são mostrados para \n",
    "# todas as posições que não receberam nenhum valor durante a atribuição (e portanto estão vazias)."
   ]
  }
 ],
 "metadata": {
  "kernelspec": {
   "display_name": "Python 3",
   "language": "python",
   "name": "python3"
  },
  "language_info": {
   "codemirror_mode": {
    "name": "ipython",
    "version": 3
   },
   "file_extension": ".py",
   "mimetype": "text/x-python",
   "name": "python",
   "nbconvert_exporter": "python",
   "pygments_lexer": "ipython3",
   "version": "3.7.3"
  }
 },
 "nbformat": 4,
 "nbformat_minor": 2
}
