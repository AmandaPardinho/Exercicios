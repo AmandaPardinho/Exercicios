{
 "cells": [
  {
   "cell_type": "markdown",
   "metadata": {},
   "source": [
    "# Exercícios sobre If e Else\n",
    "\n",
    "Nesse notebook vamos resolver diversos exercícios que tem como objetivo principal mostrar o funcionamento do If e Else. Aqui não vamos utilizar nenhum conceito mais avançado de programação e você poderá resolver todos eles do seu jeito.\n",
    "\n",
    "Mas como assim do meu jeito?\n",
    "\n",
    "É verdade, cada exercício pode ser resolvido de uma forma muito particular, ou seja, seguir o raciocínio de cada pessoa. Portanto, apesar de colocarmos várias soluções aqui, você poderá criar sua própria versão da resolução e praticar.\n",
    "\n",
    "---\n",
    "\n",
    "## pré-requisito para resolver os exercícios\n",
    "\n",
    "Para resolver esses exercícios você precisará compreender no mínimo alguns conceitos da programação, são eles:\n",
    "- Como declarar variáveis\n",
    "- Como atribuir valores para variáveis\n",
    "- Como funcionam os tipos de dados de cada variável (inteiro, string, etc)\n",
    "- Como realizar o input de dados usando o teclado (input)\n",
    "- Como realizar a saída de dados usando o terminal (print)\n",
    "- O que são e como usar os conectores lógicos (and, or)\n",
    "\n",
    "Caso você não conheça algum desses assuntos, pare um pouco e dê uma revisada no conteúdo antes de prosseguir.\n",
    "\n",
    "---\n",
    "\n",
    "## Quantos exercicios eu preciso resolver?\n",
    "\n",
    "Isso é muito pessoal, cada um possui seu nível de \"saturação\". Deixe-me explicar isso melhor...\n",
    "\n",
    "Ao resolver esses exercícios, chega um determinado momento que eles se tornam quase todos muito semelhantes. Isso é previsível já que estamos explorando apenas um recurso da linguagem que é a decisão. \n",
    "\n",
    "P: Então, preciso resolver todos os exercícios? \n",
    "R: Acredito que não... resolva os exercícios apenas até você mesmo se convencer que realmente compreendeu o assunto e que não há mais nada de novo sendo adicionado."
   ]
  },
  {
   "cell_type": "markdown",
   "metadata": {},
   "source": [
    "---\n",
    "\n",
    "1- Faça um programa que peça dois números e imprima o maior deles\n",
    "Dica: para realizar a inserção de dados pelo usuário utilize a função input(\"texto para o usuario\")"
   ]
  },
  {
   "cell_type": "code",
   "execution_count": null,
   "metadata": {},
   "outputs": [],
   "source": [
    "a = input(\"digite o primeiro numero\")\n",
    "b = input(\"digite o segundo número\")\n",
    "\n",
    "if b > a:\n",
    "    print(b)\n",
    "else:\n",
    "   print(a)"
   ]
  },
  {
   "cell_type": "markdown",
   "metadata": {},
   "source": [
    "2- Faça um programa que peça um valor e mostre na tela se o valor é positivo ou negativo"
   ]
  },
  {
   "cell_type": "code",
   "execution_count": null,
   "metadata": {},
   "outputs": [],
   "source": [
    "a = int(input(\"digite um número\"))\n",
    "\n",
    "if a > 0:\n",
    "    print(\"o numero é positivo\")\n",
    "else:\n",
    "    print (\"o número é negativo\")"
   ]
  },
  {
   "cell_type": "markdown",
   "metadata": {},
   "source": [
    "3- Faça um programa que verifique se uma letra digitada é “F” ou “M”. Conforme a letra escrever: F – Feminino, M- Masculino, \n",
    "Sexo inválido."
   ]
  },
  {
   "cell_type": "code",
   "execution_count": null,
   "metadata": {},
   "outputs": [],
   "source": [
    "a = input(\"Digite M para Masculino\\n F para Feminino\")\n",
    "\n",
    "if a == \"M\":\n",
    "    print(\"Sexo masculino\")\n",
    "elif a == \"F\":\n",
    "    print (\"Sexo Feminino\")\n",
    "else:\n",
    "    print (\"Sexo inválido\")"
   ]
  },
  {
   "cell_type": "markdown",
   "metadata": {},
   "source": [
    "4- Faça um programa que verifique se uma letra digitada é vogal ou consoante."
   ]
  },
  {
   "cell_type": "code",
   "execution_count": null,
   "metadata": {},
   "outputs": [],
   "source": [
    "a = input(\"Digite uma letra\")\n",
    "\n",
    "if (a == 'a' or a == 'e' or a == 'i' or a == 'o' or a == 'u'):\n",
    "    print (\"É uma vogal\")\n",
    "else:\n",
    "    print(\"não é uma vogal\")"
   ]
  },
  {
   "cell_type": "markdown",
   "metadata": {},
   "source": [
    "5- Faça um programa para a leitura de duas notas parciais de um aluno.\n",
    " - A mensagem “Aprovado”, se a média alcançada for maior ou igual a sete;\n",
    " - A mensagem “Aprovado com Distinção”, se a média for igual a dez;\n",
    " - A mensagem “Reprovado” se a média for menor de do que sete;"
   ]
  },
  {
   "cell_type": "code",
   "execution_count": null,
   "metadata": {},
   "outputs": [],
   "source": [
    "parcial1 = int(input(\"digite a primeira nota parcial\"))\n",
    "parcial2 = int(input(\"digite a segunda nota parcial\"))\n",
    "\n",
    "media = (parcial1 + parcial2)/2\n",
    "\n",
    "if media == 10:\n",
    "    print (\"Aprovado com distinção\")\n",
    "elif media >= 7:\n",
    "    print (\"Aprovado\")\n",
    "else: \n",
    "    print(\"Reprovado\")"
   ]
  },
  {
   "cell_type": "markdown",
   "metadata": {},
   "source": [
    "6- Faça um programa que leia três números e mostre o maior deles;"
   ]
  },
  {
   "cell_type": "code",
   "execution_count": null,
   "metadata": {},
   "outputs": [],
   "source": [
    "a = int(input(\"Digite o primeiro número\"))\n",
    "b = int(input(\"Digite o segundo número\"))\n",
    "c = int(input(\"Digite o terceiro número\"))\n",
    "\n",
    "if a > b and a > c:\n",
    "    print (a)\n",
    "elif b > a and b > c: \n",
    "    print (b)\n",
    "elif c > a and c > b:\n",
    "    print (c)"
   ]
  },
  {
   "cell_type": "markdown",
   "metadata": {},
   "source": [
    "7- Faça um programa que leia três números e mostre o maior e o menor deles;"
   ]
  },
  {
   "cell_type": "code",
   "execution_count": null,
   "metadata": {},
   "outputs": [],
   "source": [
    "a = int(input(\"Digite o primeiro número\"))\n",
    "b = int(input(\"Digite o segundo número\"))\n",
    "c = int(input(\"Digite o terceiro número\"))\n",
    "\n",
    "maior = 0 \n",
    "menor = 0\n",
    "\n",
    "if a > b and a > c :\n",
    "    maior =  a\n",
    "elif b > a and b > c: \n",
    "    maior = b\n",
    "elif c > a and c > b:\n",
    "    maior = c\n",
    "    \n",
    "    \n",
    "if a < b and a < c :\n",
    "    menor =  a\n",
    "elif b < a and b < c: \n",
    "    menor = b\n",
    "elif c < a and c < b:\n",
    "    menor = c\n",
    "    \n",
    "print (maior, menor)"
   ]
  },
  {
   "cell_type": "markdown",
   "metadata": {},
   "source": [
    "8- Faça um programa que pergunte o preço de três produtos e informe qual produto você deve comprar, sabendo que a decisão é sempre o mais barato."
   ]
  },
  {
   "cell_type": "code",
   "execution_count": null,
   "metadata": {},
   "outputs": [],
   "source": [
    "a = int(input(\"Digite o preço primeiro produto\"))\n",
    "b = int(input(\"Digite o preço segundo produto\"))\n",
    "c = int(input(\"Digite o preço terceiro produto\"))\n",
    "\n",
    "menor = 0 \n",
    "\n",
    "if a < b and a < c :\n",
    "    menor =  a\n",
    "elif b < a and b < c: \n",
    "    menor = b\n",
    "elif c < a and c < b:\n",
    "    menor = c\n",
    "    \n",
    "print (\"O melhor produto pra você é: \" ,menor)"
   ]
  },
  {
   "cell_type": "markdown",
   "metadata": {},
   "source": [
    "9- Faça um programa que leia três números e mostre-os em ordem decrescente."
   ]
  },
  {
   "cell_type": "code",
   "execution_count": null,
   "metadata": {},
   "outputs": [],
   "source": [
    "a = int(input(\"Digite o primeiro número\"))\n",
    "b = int(input(\"Digite o segundo número\"))\n",
    "c = int(input(\"Digite o terceiro número\"))\n",
    "\n",
    "# (a,b,c)\n",
    "# (a,c,b)\n",
    "# (b,a,c)\n",
    "# (b,c,a)\n",
    "# (c,a,b)\n",
    "# (c,b,a)\n",
    "\n",
    "if a > b and a > c and c < a and c < b: \n",
    "    print (a,b,c)\n",
    "elif a > b and a > c and b < a and b < c:\n",
    "    print (a,c,b)\n",
    "elif  b > a and b > c and c < a and c < b: \n",
    "    print (b,a,c)\n",
    "elif  b > a and b > c and b < a and b < c: \n",
    "    print (b,c,a)\n",
    "elif  c > a and c > b and a < b and a < c: \n",
    "    print (c,b,a)\n",
    "elif  c > a and c > b and b < a and b < c: \n",
    "    print (c,a,b)"
   ]
  },
  {
   "cell_type": "markdown",
   "metadata": {},
   "source": [
    "10- Faça um programa que pergunte em que turno você estuda. Peça para digitar M-matutino ou V-vespertino ou N-noturno. \n",
    "Imprima a mensagem “Bom dia!” ou  “Boa Noite” ou “Valor inválido”, conforme o caso."
   ]
  },
  {
   "cell_type": "code",
   "execution_count": null,
   "metadata": {},
   "outputs": [],
   "source": [
    "a = input(\"Olá... que turno você estuda? M - Matutino | V - verspertino | N - Noturno\")\n",
    "\n",
    "if a == \"m\":\n",
    "    print ( \"Bom dia\")\n",
    "if a == \"v\":\n",
    "    print ( \"Boa tarde\")\n",
    "if a == \"n\":\n",
    "    print (\"Boa noite\")"
   ]
  },
  {
   "cell_type": "markdown",
   "metadata": {},
   "source": [
    " 11- As organizações CSM resolveram dar um aumento de salário aos seus \n",
    " colaboradores e lhe contrataram para desenvolver o programa que calculará os reajustes.\n",
    " - Faça um programa que recebe o salário de um colaborador e o reajuste segundo o seguinte critério, baseado no salário atual;\n",
    " - Salários até RS 280,00 (incluindo): aumento de 20%;\n",
    " - Salários entre RS 280,00 e RS 700,00: aumento de 15%;\n",
    " - Salários entre RS 700,00 e RS 1500,00: aumento de 10%;\n",
    " - Salários de RS 1500,00 em diante: aumento de 5% Após o aumento ser realizado; \n",
    "\n",
    "Informe na tela os seguintes dados;\n",
    " - O salário antes do reajuste;\n",
    " - O percentual de aumento aplicado;\n",
    " - O valor do aumento;\n",
    " - O novo salário, após o aumento."
   ]
  },
  {
   "cell_type": "code",
   "execution_count": null,
   "metadata": {},
   "outputs": [],
   "source": [
    "salario = int(input(\"Informe o salario do colaborador\"))\n",
    "\n",
    "salarioAnterior = salario\n",
    "\n",
    "if salario <= 280: \n",
    "    salario = salario * 1.2\n",
    "    print(\"Percentual de reajuste: \", \"20%\")\n",
    "    print(\"Valor do aumento: \", salario * 0.2)\n",
    "elif salario > 280 and salario < 700:\n",
    "    salario = salario * 1.15\n",
    "    print(\"Percentual de reajuste: \", \"15%\")\n",
    "    print(\"Valor do aumento: \", salario * 0.15)\n",
    "elif salario >= 700 and salario < 1500:\n",
    "    salario = salario * 1.1\n",
    "    print(\"Percentual de reajuste: \", \"10%\")\n",
    "    print(\"Valor do aumento: \", salario * 0.1)\n",
    "elif salario >= 1500:\n",
    "    salario = salario * 1.05\n",
    "    print(\"Percentual de reajuste: \", \"5%\")\n",
    "    print(\"Valor do aumento: \", salario * 0.05)\n",
    "    \n",
    "print(\"Salario antes do reajuste: \", salarioAnterior)\n",
    "print(\"Salario após o aumento: \", salario)"
   ]
  },
  {
   "cell_type": "markdown",
   "metadata": {},
   "source": [
    " 12- Faça um programa para o cálculo de uma folha de pagamento, sabendo que os descontos são do imposto de Renda, que depende do salário bruto (conforme tabela abaixo) e 3% para o Sindicato e que o FGTS corresponde a 11% do salário bruto, mas não é descontado (é a empresa que deposita.) O salário líquido corresponde ao salário bruto menos os descontos O programa deverá pedir ao usuário o valor da sua hora e a quantidade de horas trabalhadas no mês.\n",
    " - Desconto do IR;\n",
    " - Salário Bruto ate RS900,00 (inclusive) – Isento;\n",
    " - Salário Bruto de RS 1500, 00 (inclusive) – desconto de 5%;\n",
    " - Salario bruto até RS 2500,00 (Inclusive) – desconto de 10%;\n",
    " - Salário bruto acima de 2500 – Desconto de 20%. \n",
    "\n",
    "Imprima na tela as informações, dispostas conforme o exemplo abaixo, no exemplo valor da hora é 5 e a quantidade de horas é 220.\n",
    "\n",
    "```plaintext\n",
    "Salário bruto (5 * 220)            : RS   1100,00\n",
    " ( - ) IR (5%)                     : RS     55,00\n",
    " ( - ) INSS ( 10% )                : RS    110,00\n",
    " FGTS ( 11%)                       : RS    121,00\n",
    " Total de descontos                : RS    165,00\n",
    "Salário Líquido                    : RS    935,00\n",
    "```"
   ]
  },
  {
   "cell_type": "code",
   "execution_count": null,
   "metadata": {},
   "outputs": [],
   "source": [
    "salario = int(input(\"digite o valor do seu salario\"))\n",
    "descontos = 0\n",
    "\n",
    "print(\"Salario bruto: \" + str(salario))\n",
    "\n",
    "if salario > 900 and salario <= 1500:\n",
    "    print( \"( - ) IR (5%): \" + str(salario * 0.05))\n",
    "    descontos += salario * 0.05\n",
    "elif salario > 1500  and salario <= 2500:\n",
    "    print( \"( - ) IR (5%): \" + str(salario * 0.1))\n",
    "    descontos += salario * 0.1\n",
    "elif salario > 2500:\n",
    "    print( \"( - ) IR (5%): \" + str(salario * 0.2))\n",
    "    descontos += salario * 0.2\n",
    "    \n",
    "print (\"( - ) INSS ( 10% ): \" + str(salario *0.1))\n",
    "descontos += salario * 0.1\n",
    "print (\"( - ) FGTS ( 11% ): \" + str(salario * 0.11))\n",
    "descontos += salario * 0.11\n",
    "print (\"Descontos: \" + str(descontos))\n",
    "print (\"Salário Líquido: \" + str(salario - descontos))"
   ]
  },
  {
   "cell_type": "markdown",
   "metadata": {},
   "source": [
    "13 – Faça um Programa que leia um número e exiba o dia correspondente da semana. \n",
    " (1- Domingo , 2- Segunda, etc.) se digitar outro valor deve aparecer “valor inválido)"
   ]
  },
  {
   "cell_type": "code",
   "execution_count": null,
   "metadata": {},
   "outputs": [],
   "source": [
    "num = int(input(\"Digite um numero\"))\n",
    "\n",
    "if num == 1:\n",
    "    print(\"Domingo\")\n",
    "\n",
    "if num == 2:\n",
    "    print(\"Segunda-feira\")\n",
    "\n",
    "if num == 3:\n",
    "    print(\"terça-feira\")\n",
    "\n",
    "if num == 4:\n",
    "    print(\"quarta-feira\")\n",
    "\n",
    "if num == 5:\n",
    "    print(\"quinta-feira\")\n",
    "\n",
    "if num == 6:\n",
    "    print(\"sexta-feira\")\n",
    "\n",
    "if num == 7:\n",
    "    print(\"Sabado\")"
   ]
  },
  {
   "cell_type": "markdown",
   "metadata": {},
   "source": [
    " 14 – Faça um programa que lê as duas notas parciais obtidas por um aluno numa disciplina ao longo de um semestre, \n",
    " e calcule a sua média. A atribuição de conceitos obedece à tabela abaixo:\n",
    "\n",
    "```plaintext\n",
    " Média de aproveitamento                  Conceito \n",
    " Entre 9.0 e 10.0                            A\n",
    " Entre 7.5 e 9.0                             B\n",
    " Entre 6.0 e 7.5                             C\n",
    " Entre 4.0 e 6.0                             D\n",
    " Entre 4.0 e zero                            E\n",
    "```\n",
    "\n",
    "O algoritmo deve mostrar na tela as notas, a média, o conceito correspondente e a mensagem “APROVADO” se o \n",
    " conceito for A, B ou C “REPROVADO” se o conceito for D ou E."
   ]
  },
  {
   "cell_type": "code",
   "execution_count": null,
   "metadata": {},
   "outputs": [],
   "source": [
    "nota1 = int(input(\"primeira nota\"))\n",
    "nota2 = int(input(\"segunda nota\"))\n",
    "\n",
    "media = (nota1 + nota2)/2\n",
    "\n",
    "if media < 4:\n",
    "    print( \"conceito E\")\n",
    "elif media > 4 and media < 6:\n",
    "    print(\"conceito D\")\n",
    "elif media > 6 and media < 7.5:\n",
    "    print (\"conceito c\")\n",
    "elif media >7.5 and media < 9:\n",
    "    print (\"conceito B\")\n",
    "else:\n",
    "    print (\"conceito A\")\n",
    "    "
   ]
  },
  {
   "cell_type": "markdown",
   "metadata": {},
   "source": [
    " 15. Faça um programa que peça os 3 lados de um triângulo. O programa deverá informar se os valores podem ser um triângulo. Indique, caso os lados formem um triângulo, se o mesmo é: equilátero, isósceles ou escaleno.\n",
    " \n",
    " Dicas:\n",
    " - Três lados formam um triangulo quando a soma de quaisquer dos  dois lados é menor que o terceiro.\n",
    " - Triângulo Equilátero: três lados iguais;\n",
    " - Triângulo isósceles: quaisquer dois lados iguais;\n",
    " - Triângulo Escaleno: três lados diferentes; "
   ]
  },
  {
   "cell_type": "code",
   "execution_count": null,
   "metadata": {},
   "outputs": [],
   "source": [
    "a = int(input(\"primeiro lado\"))\n",
    "b = int(input(\"segundo lado\"))\n",
    "c = int(input (\"terceiro lado\"))\n",
    "\n",
    "\n",
    "if (a < (b + c)) and (b < (a + c)) and (c < (a + b)):\n",
    "    print (\"É um triangulo\")\n",
    "\n",
    "    if  a == b and a == c:\n",
    "        print(\"Equilatero\")\n",
    "    elif a != b and a != c and b != c: \n",
    "        print (\"Escaleno\")  \n",
    "    else: \n",
    "        print (\"Isosceles\")\n",
    "else:\n",
    "    print (\"Não é um triangulo\")"
   ]
  },
  {
   "cell_type": "markdown",
   "metadata": {},
   "source": [
    "16. Faça um programa que calcule as raízes de uma equação do segundo grau, na forma \n",
    "\n",
    "ax2 + bx + c.\n",
    "\n",
    "O programa deverá pedir os valores de a, b e c e fazer as consistências, informando ao usuário nas seguintes situações:\n",
    "\n",
    " - Se o usuário informar o valor de A igual a zero. a equação não e do segundo grau e o programa não deve fazer \n",
    " pedir os demais valores, sendo encerrado;\n",
    " - Se o delta calculado for negativo, a equação não possui raízes reais. Informe ao usuário e encerre o programa;\n",
    " - Se o delta calculado for igual a zero a equação possui apenas uma raiz real; informe ao usuário;\n",
    " - Se o delta for positivo, a equação possui duas raízes reais; informe-as ao usuário;\n"
   ]
  },
  {
   "cell_type": "code",
   "execution_count": null,
   "metadata": {},
   "outputs": [],
   "source": [
    "import math\n",
    "\n",
    "a = int(input(\"Digite o valor de A\"))\n",
    "b = int(input(\"Digite o valor de B\"))\n",
    "c = int(input(\"Digite o valor de C\"))\n",
    "\n",
    "delta = (b**2 - 4*a*c)\n",
    "\n",
    "if delta < 0 :\n",
    "    print(\"não possuem raizes reais\")\n",
    "elif delta == 0:\n",
    "    print((-b + math.sqrt(delta))/2*a)\n",
    "else:\n",
    "    print((-b + math.sqrt(delta))/2*a)\n",
    "    print((-b - math.sqrt(delta))/2*a)"
   ]
  },
  {
   "cell_type": "markdown",
   "metadata": {},
   "source": [
    "17. Faça um Programa que peça um número correspondente a um determinado ano e em seguida informe se este ano e ou não bissexto.\n",
    "\n",
    "[Acesse aqui mais informações sobre ano bissexto](https://escolakids.uol.com.br/matematica/calculo-do-ano-bissexto.htm)"
   ]
  },
  {
   "cell_type": "code",
   "execution_count": null,
   "metadata": {},
   "outputs": [],
   "source": [
    "ano = int(input('informe um ano'))\n",
    "\n",
    "if(ano % 4 == 0 ):\n",
    "    if(ano % 100 != 0):\n",
    "        print ('o ano é bissexto')\n",
    "    else:\n",
    "        print('não é bissexto')\n",
    "else:\n",
    "    print(' não é bissexto')"
   ]
  },
  {
   "cell_type": "markdown",
   "metadata": {},
   "source": [
    "18. Faça um Programa que peça um número inteiro e determine se ele e par ou ímpar. \n",
    "Dica: utilize o operador módulo (resto da divisão)."
   ]
  },
  {
   "cell_type": "code",
   "execution_count": null,
   "metadata": {},
   "outputs": [],
   "source": [
    "num = int(input(\"digite um numero inteiro\"))\n",
    "\n",
    "if ( num % 2 == 0):\n",
    "    print('numero par')\n",
    "else:\n",
    "    print ('numero impar')"
   ]
  },
  {
   "cell_type": "markdown",
   "metadata": {},
   "source": [
    "19. Faça um Programa que leia 1 número e em seguida pergunte ao usuário qual operação ele deseja realizar. O resultado da operação deve ser acompanhado de uma frase que diga se o número e: \n",
    "- Par ou ímpar;\n",
    "- Positivo ou negativo;"
   ]
  },
  {
   "cell_type": "code",
   "execution_count": null,
   "metadata": {},
   "outputs": [],
   "source": [
    "a = int(input('Digite um numero'))\n",
    "op = input(('Qual operação você deseja realizar? 1) saber se é par ou impar 2) saber se é positivo ou negativo' ))\n",
    "\n",
    "if(op == '1'):\n",
    "    if a % 2 == 0 :\n",
    "        print('numero par')\n",
    "    else:\n",
    "        print('numero impar')\n",
    "        \n",
    "elif(op == '2'):\n",
    "    if( a > 0):\n",
    "        print ('numero positivo')\n",
    "    else:\n",
    "        print ('numero negativo')\n"
   ]
  },
  {
   "cell_type": "markdown",
   "metadata": {},
   "source": [
    " 20. Faça um programa que faça 5 perguntas para uma pessoa sobre um crime. As perguntas são:\n",
    " - \"Telefonou para a vítima?\"\n",
    " - \"Esteve no local do crime?\"\n",
    " - \"Mora perto da vítima?\"\n",
    " - \"Devia para a vítima?\"\n",
    " - \"Já trabalhou com a vítima?\"\n",
    "\n",
    "O programa deve no final emitir uma classificação sobre a participação da pessoa no crime. \n",
    "Se a pessoa responder positivamente a 2 questões ela deve ser classificada como \"Suspeita\", \n",
    "entre 3 e 4 como \"Cúmplice\" e 5 como “Assassino“. Caso contrário, ele será classificado como \"Inocente“."
   ]
  },
  {
   "cell_type": "code",
   "execution_count": null,
   "metadata": {},
   "outputs": [],
   "source": [
    "q1 = input(\"você telefonou para a vitima?\")\n",
    "q2 = input(\"você esteve no local do crime?\")\n",
    "q3 = input(\"você Mora perto da vítima?\")\n",
    "q4 = input(\"você devia para a vítima?\")\n",
    "q5 = input(\"você já trabalhou com a vítima?\")\n",
    "\n",
    "contagem = 0\n",
    "\n",
    "if(q1 == 'sim'):\n",
    "    contagem = contagem + 1 \n",
    "if(q2 == 'sim'):\n",
    "    contagem = contagem + 1 \n",
    "if(q3 == 'sim'):\n",
    "    contagem = contagem + 1 \n",
    "if(q4 == 'sim'):\n",
    "    contagem = contagem + 1 \n",
    "if(q5 == 'sim'):\n",
    "    contagem = contagem + 1 \n",
    "    \n",
    "if (contagem <= 2):\n",
    "    print(\"suspeito\")\n",
    "elif contagem > 2 <= 4:\n",
    "    print (\"cumplice\")\n",
    "elif contagem > 4:\n",
    "    print (\"assassino\")"
   ]
  },
  {
   "cell_type": "markdown",
   "metadata": {},
   "source": [
    "21. Faça um programa que peça dois números ao usuário e mostre qual o maior e qual o menor"
   ]
  },
  {
   "cell_type": "code",
   "execution_count": null,
   "metadata": {},
   "outputs": [],
   "source": [
    "num1 = input(\"Digite o primeiro numero\")\n",
    "num2= input(\"Digite o primeiro numero\") \n",
    "\n",
    "if num1 > num2:\n",
    "    print(\"o maior é: \", num1)\n",
    "    print(\"o menor é: \", num2)\n",
    "else:\n",
    "    print(\"o maior é: \", num2)\n",
    "    print(\"o menor é: \", num1)"
   ]
  },
  {
   "cell_type": "markdown",
   "metadata": {},
   "source": [
    "22. Faça um programa que receba três inteiros e diga qual deles é o maior e qual o menor. \n",
    "\n",
    "DESAFIO: você consegue criar mais de uma solução?"
   ]
  },
  {
   "cell_type": "code",
   "execution_count": null,
   "metadata": {},
   "outputs": [],
   "source": [
    "a = input(\"Digite o primeiro numero\")\n",
    "b = input(\"Digite o segundo numero\")\n",
    "c = input(\"Digite o terceiro numero\")\n",
    "\n",
    "maior = 0\n",
    "menor = 0\n",
    "\n",
    "if a > b and a > c:\n",
    "    maior = a\n",
    "elif b > a and b > c:\n",
    "    maior = b\n",
    "elif c > a and c > b:\n",
    "    maior = c\n",
    "    \n",
    "    \n",
    "if a < b and a < c:\n",
    "    menor = a\n",
    "elif b < a and b < c:\n",
    "    menor = b\n",
    "elif c < a and c < b:\n",
    "    menor = c\n",
    "\n",
    "print (maior, menor)"
   ]
  },
  {
   "cell_type": "markdown",
   "metadata": {},
   "source": [
    "23. Escreva um programa em C que recebe um inteiro e diga se é par ou ímpar.\n",
    "\n",
    "Dica: Use o operador matemático % (resto da divisão ou módulo) e o teste condicional if."
   ]
  },
  {
   "cell_type": "code",
   "execution_count": null,
   "metadata": {},
   "outputs": [],
   "source": [
    "num1 = input(\"digite um numero\")\n",
    "\n",
    "if int(num1) % 2 == 0:\n",
    "    print(\"o numero é par\")\n",
    "else: \n",
    "    print(\"o numero é impar\")"
   ]
  },
  {
   "cell_type": "markdown",
   "metadata": {},
   "source": [
    "24. Escreva um programa que pergunte o raio de uma circunferência, e sem seguida mostre o diâmetro, comprimento e área da circunferência"
   ]
  },
  {
   "cell_type": "code",
   "execution_count": null,
   "metadata": {},
   "outputs": [],
   "source": [
    "raio = input(\"digite o raio da circunferência\")\n",
    "\n",
    "diametro = 2* float(raio);\n",
    "\n",
    "comprimento = 2 * 3.14 * float(raio);\n",
    "\n",
    "print( \"Diametro: \", diametro)\n",
    "print(\"Comprimento: \", comprimento)"
   ]
  },
  {
   "cell_type": "markdown",
   "metadata": {},
   "source": [
    "25. Para doar sangue é necessário ter entre 18 e 67 anos. Faça um aplicativo que pergunte a idade de uma pessoa e diga se ela pode doar sangue ou não. Use alguns dos operadores lógicos OU (||) e E (&&)."
   ]
  },
  {
   "cell_type": "code",
   "execution_count": null,
   "metadata": {},
   "outputs": [],
   "source": [
    "idade = input(\"digite sua idade:\")\n",
    "\n",
    "if idade > 18 and idade < 67:\n",
    "    print(\"pode doar\")\n",
    "else:\n",
    "    print(\"Não pode doar\")"
   ]
  },
  {
   "cell_type": "markdown",
   "metadata": {},
   "source": [
    "26. Escreva um programa que pergunte o dia, mês e ano do aniversário de uma pessoa e diga se a data é \n",
    "válida ou não. Caso não seja, diga o motivo. Suponha que todos os meses tem 31 dias e que estejamos no ano de 2013."
   ]
  },
  {
   "cell_type": "code",
   "execution_count": null,
   "metadata": {},
   "outputs": [],
   "source": [
    "dia = input(\"Digite o dia\")\n",
    "mes = input(\"digite o mes\")\n",
    "ano = input(\"digite o ano\")\n",
    "\n",
    "if dia > 0 and dia < 32 and mes > 0 and mes < 13 and ano > 0 and ano < 2014:\n",
    "    print(\"data válida\")\n",
    "else:\n",
    "    print(\"Data inválida\")"
   ]
  },
  {
   "cell_type": "markdown",
   "metadata": {},
   "source": [
    "27. Crie um programa que peça um número ao usuário e armazene ele na variável x. Depois peça outro número e armazene na variável y. Mostre esses números. Em seguida, faça com que x passe a ter o valor de y, e que y passe a ter o valor de x."
   ]
  },
  {
   "cell_type": "code",
   "execution_count": null,
   "metadata": {},
   "outputs": [],
   "source": [
    "x = int(input(\"Digite o primeiro numero\"))\n",
    "y = int(input(\"Digite o segundo numero\"))\n",
    "\n",
    "aux = 0\n",
    "aux = x\n",
    "x = y\n",
    "y = aux\n",
    "\n",
    "print (x,y)"
   ]
  }
 ],
 "metadata": {
  "kernelspec": {
   "display_name": "Python 3",
   "language": "python",
   "name": "python3"
  },
  "language_info": {
   "codemirror_mode": {
    "name": "ipython",
    "version": 3
   },
   "file_extension": ".py",
   "mimetype": "text/x-python",
   "name": "python",
   "nbconvert_exporter": "python",
   "pygments_lexer": "ipython3",
   "version": "3.8.5"
  }
 },
 "nbformat": 4,
 "nbformat_minor": 2
}
