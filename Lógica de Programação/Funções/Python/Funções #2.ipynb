{
 "cells": [
  {
   "cell_type": "code",
   "execution_count": null,
   "metadata": {},
   "outputs": [],
   "source": [
    "#1. Faça uma função que leia um número não determinado de valores positivos e retorna a média aritmética dos mesmos."
   ]
  },
  {
   "cell_type": "code",
   "execution_count": null,
   "metadata": {},
   "outputs": [],
   "source": [
    "#2. Faça uma função que receba um valor inteiro e positivo e calcula o seu fatorial."
   ]
  },
  {
   "cell_type": "code",
   "execution_count": null,
   "metadata": {},
   "outputs": [],
   "source": [
    "#3. Faça um procedimento que lê 50 valores inteiros e retorna o maior e o menor deles."
   ]
  },
  {
   "cell_type": "code",
   "execution_count": null,
   "metadata": {},
   "outputs": [],
   "source": [
    "#4. Faça um procedimento que recebe, por parâmetro, um valor N e calcula e escreve a tabuada de 1 até N. Mostre a tabuada na forma:\n",
    "# 1 x N = N\n",
    "# 2 x N = 2N\n",
    "# ...\n",
    "# N x N = N2"
   ]
  },
  {
   "cell_type": "code",
   "execution_count": null,
   "metadata": {},
   "outputs": [],
   "source": [
    "# 5. Faça uma função que recebe, por parâmetro, um valor inteiro e positivo e retorna o número de divisores desse valor."
   ]
  },
  {
   "cell_type": "code",
   "execution_count": null,
   "metadata": {},
   "outputs": [],
   "source": [
    "# 6. Escreva uma função que recebe, por parâmetro, um valor inteiro e positivo e retorna o somatório desse valor."
   ]
  },
  {
   "cell_type": "code",
   "execution_count": null,
   "metadata": {},
   "outputs": [],
   "source": [
    "# 7. Escreva uma função que recebe por parâmetro um valor inteiro e positivo N e retorna o valor de S\n",
    "#         S = 1 + ½ + 1/3 + ¼ + 1/5 + 1/N."
   ]
  },
  {
   "cell_type": "code",
   "execution_count": null,
   "metadata": {},
   "outputs": [],
   "source": [
    "# 8. Escreva uma função que recebe por parâmetro um valor inteiro e positivo N e retorna o valor de S.\n",
    "\n",
    "#S = 1 + 1/1! + ½! + 1/3! + 1 /N!"
   ]
  },
  {
   "cell_type": "code",
   "execution_count": null,
   "metadata": {},
   "outputs": [],
   "source": [
    "# 9. Escreva uma função que recebe por parâmetro um valor inteiro e positivo N e retorna o valor de S.\n",
    "\n",
    "#         S = 2/4 + 5/5 + 10/6 + 17/7 + 26/8 + ... +(n2+1)/(n+3)"
   ]
  },
  {
   "cell_type": "code",
   "execution_count": null,
   "metadata": {},
   "outputs": [],
   "source": [
    "# 10. Escreva uma função que calcule o valor do co-seno de x através de 20 termos da série seguinte:\n",
    "\n",
    "# co-seno(x) = 1 - x2 + x4 - x6 + ....   2! 4! 6!"
   ]
  },
  {
   "cell_type": "code",
   "execution_count": null,
   "metadata": {},
   "outputs": [],
   "source": [
    "# 11. Escreva uma função que recebe, por parâmetro, dois valores X e Z e calcula e retorna Xz . \n",
    "# (sem utilizar funções ou operadores de potência prontos)"
   ]
  }
 ],
 "metadata": {
  "kernelspec": {
   "display_name": "Python 3",
   "language": "python",
   "name": "python3"
  },
  "language_info": {
   "codemirror_mode": {
    "name": "ipython",
    "version": 3
   },
   "file_extension": ".py",
   "mimetype": "text/x-python",
   "name": "python",
   "nbconvert_exporter": "python",
   "pygments_lexer": "ipython3",
   "version": "3.7.3"
  }
 },
 "nbformat": 4,
 "nbformat_minor": 2
}
