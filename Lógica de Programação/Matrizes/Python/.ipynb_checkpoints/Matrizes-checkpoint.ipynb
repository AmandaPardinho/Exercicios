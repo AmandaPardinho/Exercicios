{
 "cells": [
  {
   "cell_type": "code",
   "execution_count": null,
   "metadata": {},
   "outputs": [],
   "source": [
    "# 1. Declare uma matriz 10 x 10 e escreva a localização (linha e a coluna) do maior valor."
   ]
  },
  {
   "cell_type": "code",
   "execution_count": null,
   "metadata": {},
   "outputs": [],
   "source": [
    "# 2. Declare uma matriz 5 x 5. Preencha com 1 a diagonal principal e com 0 os demais elementos. Escreva ao final a matriz obtida."
   ]
  },
  {
   "cell_type": "code",
   "execution_count": null,
   "metadata": {},
   "outputs": [],
   "source": [
    "# 3. Declare duas matrizes 4 x 4 e escreva uma terceira com os maiores elementos entre as primeiras"
   ]
  },
  {
   "cell_type": "code",
   "execution_count": null,
   "metadata": {},
   "outputs": [],
   "source": [
    "# 4.  Declare uma matriz 6 x 6, conte e escreva quantos valores maiores que 10 ela possui."
   ]
  },
  {
   "cell_type": "code",
   "execution_count": null,
   "metadata": {},
   "outputs": [],
   "source": [
    "# 5. Declare uma matriz 20 x 20. Declare também um valor X. O programa deverá fazer uma busca desse valor na matriz e,\n",
    "# ao final escrever a localização (linha e coluna) ou uma mensagem de “não encontrado”."
   ]
  },
  {
   "cell_type": "code",
   "execution_count": null,
   "metadata": {},
   "outputs": [],
   "source": [
    "# 6. Declare uma matriz 4 x 4 e troque os valores da 1ª.linha pelos da 4ª.coluna, vice-e-versa. Escrever ao final a matriz obtida"
   ]
  },
  {
   "cell_type": "code",
   "execution_count": null,
   "metadata": {},
   "outputs": [],
   "source": [
    "# 7. Declare uma matriz 8 x 8 e a transforme numa matriz triangular inferior , \n",
    "# atribuindo zero a todos os elementos acima da diagonal principal, escrevendo-a ao final."
   ]
  },
  {
   "cell_type": "code",
   "execution_count": null,
   "metadata": {},
   "outputs": [],
   "source": [
    "# 8. Declare uma matriz 5 x 5 e faça uma troca entre as diagonais superior e inferior. Escreva-a ao final."
   ]
  },
  {
   "cell_type": "code",
   "execution_count": null,
   "metadata": {},
   "outputs": [],
   "source": [
    "# 9. Declare duas matrizes 10 x 10 e faça uma substituição entre a diagonal inferior da primeira coma diagonal superior da segunda."
   ]
  },
  {
   "cell_type": "code",
   "execution_count": null,
   "metadata": {},
   "outputs": [],
   "source": [
    "# 10. Declare uma matriz 8x 8 e escreva o maior elemento da diagonal principal e a soma dos elementos da diagonal secundaria."
   ]
  },
  {
   "cell_type": "code",
   "execution_count": null,
   "metadata": {},
   "outputs": [],
   "source": [
    "# 11. Declare uma matriz 6 x 6 e atribuir o valor 0 para os valores negativos encontrados fora das diagonais principal e secundaria."
   ]
  },
  {
   "cell_type": "code",
   "execution_count": null,
   "metadata": {},
   "outputs": [],
   "source": [
    "# 12. Declare uma matriz 50 x 2, onde cada coluna corresponde a um lado de um triangulo retângulo. \n",
    "# Declare um vetor que contenha a área dos respectivos triângulos e o escreva."
   ]
  },
  {
   "cell_type": "code",
   "execution_count": null,
   "metadata": {},
   "outputs": [],
   "source": [
    "# 13. Declare duas matrizes 20 x 20 e escreva os valores da primeira que ocorrem em qualquer posição da segunda."
   ]
  },
  {
   "cell_type": "code",
   "execution_count": null,
   "metadata": {},
   "outputs": [],
   "source": [
    "# 14. Declare uma matriz 100 x 10 que se refere respostas de 10 questões de múltipla escolha, referentes a 100 alunos. Leia também um vetor de 10 posições contendo o gabarito d e respostas que podem ser a, b, c ou d. Seu programa deverá comparar as respostas de cada candidato com o \n",
    "# gabarito e emitir um vetor Resultado, contendo a pontuação correspondente."
   ]
  },
  {
   "cell_type": "code",
   "execution_count": 2,
   "metadata": {},
   "outputs": [],
   "source": [
    "# 15. Declare duas matrizes 4 x 4 e verifique se uma é palíndromo, isto é,  sua leitura a partir de qualquer direção sempre apresentara a mesma seqüência.\n",
    "# EX.            SATOR\n",
    "#                AREPO\n",
    "#                TENET\n",
    "#                OPERA\n",
    "#                ROTAS"
   ]
  },
  {
   "cell_type": "code",
   "execution_count": null,
   "metadata": {},
   "outputs": [],
   "source": [
    "# 1- Criando um tabuleiro de Jogo da Velha\n",
    "# Crie um tabuleiro de jogo da velha, usando uma matrizes de caracteres (char) 3x3, onde o usuário pede o \n",
    "# número da linha (1 até 3) e o da coluna (1 até 3). A cada vez que o usuário entrar com esses dados, colocar \n",
    "# um 'X' ou 'O' no local selecionado."
   ]
  },
  {
   "cell_type": "code",
   "execution_count": null,
   "metadata": {},
   "outputs": [],
   "source": [
    "# 2-  Um número palíndromo é aquele que, se lido de trás para frente e de frete para trás, é o mesmo.\n",
    "# Exemplos: 2112, 666, 2442 etc...\n",
    "# Sabendo disso, crie um programa que pergunte ao usuário um intervalo, por exemplo: Inicio - 30, Fim - 2000;\n",
    "# Com base neste intervalo, verifique quantos palíndromos existem e exiba-os na tela."
   ]
  },
  {
   "cell_type": "code",
   "execution_count": null,
   "metadata": {},
   "outputs": [],
   "source": [
    "# 3- Faça um jogo de batalha naval, utilize as seguinte regras:\n",
    "\n",
    "# - O primeiro usuário será o que vai configurar o tabuleiro inserindo os navios.\n",
    "# - O tabuleiro deve ter 8x8\n",
    "# - Quando inserido todos os navios o restante será considerado como \"água\".\n",
    "# - Cada navio pode ocupar apenas 1 posição\n",
    "# - O jogador deve respeitar o espaço de 1 célula entre os navios\n",
    "# - O jogador que irá descobrir onde os navios estão tem apenas 10 tiros\n",
    "# - O jogador 1 pode posicionar 5 navios"
   ]
  },
  {
   "cell_type": "code",
   "execution_count": null,
   "metadata": {},
   "outputs": [],
   "source": [
    "# 4- Crie uma agenda que armazena, código da pessoa, número do telefone, idade. Sua agenda deve possibilitar:\n",
    "# (1) - inserir um contato\n",
    "# (2) - Remover um contato\n",
    "# (3) - Editar um contato\n",
    "# (4) - buscar um contato pelo Código."
   ]
  },
  {
   "cell_type": "code",
   "execution_count": null,
   "metadata": {},
   "outputs": [],
   "source": []
  }
 ],
 "metadata": {
  "kernelspec": {
   "display_name": "Python 3",
   "language": "python",
   "name": "python3"
  },
  "language_info": {
   "codemirror_mode": {
    "name": "ipython",
    "version": 3
   },
   "file_extension": ".py",
   "mimetype": "text/x-python",
   "name": "python",
   "nbconvert_exporter": "python",
   "pygments_lexer": "ipython3",
   "version": "3.8.5"
  }
 },
 "nbformat": 4,
 "nbformat_minor": 2
}
