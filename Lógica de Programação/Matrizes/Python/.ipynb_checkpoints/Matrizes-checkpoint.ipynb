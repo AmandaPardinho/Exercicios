{
 "cells": [
  {
   "cell_type": "markdown",
   "metadata": {},
   "source": [
    "# Exercícios sobre Matrizes\n",
    "\n",
    "Nesse notebook vamos resolver diversos exercícios que tem como objetivo principal mostrar o funcionamento das matrizes. Você pode resolver todos os exercícios do seu jeito.\n",
    "\n",
    "Mas como assim do meu jeito?\n",
    "\n",
    "É verdade, cada exercício pode ser resolvido de uma forma muito particular, ou seja, seguir o raciocínio de cada pessoa. Portanto, apesar de colocarmos várias soluções aqui, você poderá criar sua própria versão da resolução e praticar.\n",
    "\n",
    "---\n",
    "\n",
    "## Pré-requisitos para resolver os exercícios\n",
    "\n",
    "Para resolver esses exercícios você precisará compreender no mínimo alguns conceitos da programação, são eles:\n",
    "- Como declarar variáveis\n",
    "- Como atribuir valores para variáveis\n",
    "- Como funcionam os tipos de dados de cada variável (inteiro, string, etc)\n",
    "- Como realizar o input de dados usando o teclado (input)\n",
    "- Como realizar a saída de dados usando o terminal (print)\n",
    "- O que são e como usar os conectores lógicos (and, or)\n",
    "- Compreender a utilização do IF e Else\n",
    "- Compreender o que são e como usar laços de repetição (for e while)\n",
    "- Compreender o que são listas e como manipular essas listas (append, del, etc.)\n",
    "\n",
    "Caso você não conheça algum desses assuntos, pare um pouco e dê uma revisada no conteúdo antes de prosseguir.\n",
    "\n",
    "---\n",
    "\n",
    "## Quantos exercicios eu preciso resolver?\n",
    "\n",
    "Isso é muito pessoal, cada um possui seu nível de \"saturação\". Deixe-me explicar isso melhor...\n",
    "\n",
    "Ao resolver esses exercícios, chega um determinado momento que eles se tornam quase todos muito semelhantes. \n",
    "\n",
    "P: Então, preciso resolver todos os exercícios? \n",
    "R: Acredito que não... resolva os exercícios apenas até você mesmo se convencer que realmente compreendeu o assunto e que não há mais nada de novo sendo adicionado.\n",
    "\n",
    "---"
   ]
  },
  {
   "cell_type": "markdown",
   "metadata": {},
   "source": [
    "1- Declare uma matriz 10 x 10 e escreva a localização (linha e a coluna) do maior valor."
   ]
  },
  {
   "cell_type": "code",
   "execution_count": null,
   "metadata": {},
   "outputs": [],
   "source": []
  },
  {
   "cell_type": "markdown",
   "metadata": {},
   "source": [
    "2- Declare uma matriz 5 x 5. Preencha com 1 a diagonal principal e com 0 os demais elementos. Escreva ao final a matriz obtida."
   ]
  },
  {
   "cell_type": "code",
   "execution_count": null,
   "metadata": {},
   "outputs": [],
   "source": []
  },
  {
   "cell_type": "markdown",
   "metadata": {},
   "source": [
    "3- Declare duas matrizes 4 x 4 e escreva uma terceira com os maiores elementos entre as primeiras"
   ]
  },
  {
   "cell_type": "code",
   "execution_count": null,
   "metadata": {},
   "outputs": [],
   "source": []
  },
  {
   "cell_type": "markdown",
   "metadata": {},
   "source": [
    "4-  Declare uma matriz 6 x 6, conte e escreva quantos valores maiores que 10 ela possui."
   ]
  },
  {
   "cell_type": "code",
   "execution_count": null,
   "metadata": {},
   "outputs": [],
   "source": []
  },
  {
   "cell_type": "markdown",
   "metadata": {},
   "source": [
    "5- Declare uma matriz 20 x 20. Declare também um valor X. O programa deverá fazer uma busca desse valor na matriz e, ao final escrever a localização (linha e coluna) ou uma mensagem de “não encontrado”."
   ]
  },
  {
   "cell_type": "code",
   "execution_count": null,
   "metadata": {},
   "outputs": [],
   "source": []
  },
  {
   "cell_type": "markdown",
   "metadata": {},
   "source": [
    "6- Declare uma matriz 4 x 4 e troque os valores da 1ª.linha pelos da 4ª.coluna, vice-e-versa. Escrever ao final a matriz obtida"
   ]
  },
  {
   "cell_type": "code",
   "execution_count": null,
   "metadata": {},
   "outputs": [],
   "source": []
  },
  {
   "cell_type": "markdown",
   "metadata": {},
   "source": [
    "7- Declare uma matriz 8 x 8 e a transforme numa matriz triangular inferior , atribuindo zero a todos os elementos acima da diagonal principal, escrevendo-a ao final."
   ]
  },
  {
   "cell_type": "code",
   "execution_count": null,
   "metadata": {},
   "outputs": [],
   "source": []
  },
  {
   "cell_type": "markdown",
   "metadata": {},
   "source": [
    "8- Declare uma matriz 5 x 5 e faça uma troca entre as diagonais superior e inferior. Escreva-a ao final."
   ]
  },
  {
   "cell_type": "code",
   "execution_count": null,
   "metadata": {},
   "outputs": [],
   "source": []
  },
  {
   "cell_type": "markdown",
   "metadata": {},
   "source": [
    "9- Declare duas matrizes 10 x 10 e faça uma substituição entre a diagonal inferior da primeira coma diagonal superior da segunda."
   ]
  },
  {
   "cell_type": "code",
   "execution_count": null,
   "metadata": {},
   "outputs": [],
   "source": []
  },
  {
   "cell_type": "markdown",
   "metadata": {},
   "source": [
    "10- Declare uma matriz 8x 8 e escreva o maior elemento da diagonal principal e a soma dos elementos da diagonal secundaria."
   ]
  },
  {
   "cell_type": "code",
   "execution_count": null,
   "metadata": {},
   "outputs": [],
   "source": []
  },
  {
   "cell_type": "markdown",
   "metadata": {},
   "source": [
    "11- Declare uma matriz 6 x 6 e atribuir o valor 0 para os valores negativos encontrados fora das diagonais principal e secundaria."
   ]
  },
  {
   "cell_type": "code",
   "execution_count": null,
   "metadata": {},
   "outputs": [],
   "source": []
  },
  {
   "cell_type": "markdown",
   "metadata": {},
   "source": [
    "12- Declare uma matriz 50 x 2, onde cada coluna corresponde a um lado de um triangulo retângulo. Declare um vetor que contenha a área dos respectivos triângulos e o escreva."
   ]
  },
  {
   "cell_type": "code",
   "execution_count": null,
   "metadata": {},
   "outputs": [],
   "source": []
  },
  {
   "cell_type": "markdown",
   "metadata": {},
   "source": [
    "13- Declare duas matrizes 20 x 20 e escreva os valores da primeira que ocorrem em qualquer posição da segunda."
   ]
  },
  {
   "cell_type": "code",
   "execution_count": null,
   "metadata": {},
   "outputs": [],
   "source": []
  },
  {
   "cell_type": "markdown",
   "metadata": {},
   "source": [
    "14- Considere uma matriz de distância entre cidades 6 x 6:\n",
    "\n",
    "![title](images/ex16_tabela.JPG)\n",
    "\n",
    "Considere também um vetor de viagem indo de Cuiabá até Cáceres pela seguinte\n",
    "rota:\n",
    "\n",
    "![title](images/ex16_rota.JPG)\n",
    "\n",
    "Faça um programa que leia a matriz e o vetor e calcule a distancia percorrida durante a viagem."
   ]
  },
  {
   "cell_type": "code",
   "execution_count": null,
   "metadata": {},
   "outputs": [],
   "source": []
  },
  {
   "cell_type": "markdown",
   "metadata": {},
   "source": [
    "15- Declare uma matriz 100 x 10 que se refere respostas de 10 questões de múltipla escolha, referentes a 100 alunos. Leia também um vetor de 10 posições contendo o gabarito d e respostas que podem ser a, b, c ou d. Seu programa deverá comparar as respostas de cada candidato com o  gabarito e emitir um vetor Resultado, contendo a pontuação correspondente."
   ]
  },
  {
   "cell_type": "code",
   "execution_count": null,
   "metadata": {},
   "outputs": [],
   "source": []
  },
  {
   "cell_type": "markdown",
   "metadata": {},
   "source": [
    " 16- Declare duas matrizes 4 x 4 e verifique se uma é palíndromo, isto é,  sua leitura a partir de qualquer direção sempre apresentara a mesma seqüência.\n",
    " ```plaintext\n",
    " EX.            SATOR\n",
    "                AREPO\n",
    "                TENET\n",
    "                OPERA\n",
    "                ROTAS\n",
    "```"
   ]
  },
  {
   "cell_type": "code",
   "execution_count": null,
   "metadata": {},
   "outputs": [],
   "source": []
  },
  {
   "cell_type": "markdown",
   "metadata": {},
   "source": [
    " 17- Criando um tabuleiro de Jogo da Velha\n",
    " Crie um tabuleiro de jogo da velha, usando uma matrizes de caracteres (char) 3x3, onde o usuário pede o \n",
    " número da linha (1 até 3) e o da coluna (1 até 3). A cada vez que o usuário entrar com esses dados, colocar \n",
    " um 'X' ou 'O' no local selecionado."
   ]
  },
  {
   "cell_type": "code",
   "execution_count": null,
   "metadata": {},
   "outputs": [],
   "source": []
  },
  {
   "cell_type": "markdown",
   "metadata": {},
   "source": [
    " 18-  Um número palíndromo é aquele que, se lido de trás para frente e de frete para trás, é o mesmo.\n",
    " Exemplos: 2112, 666, 2442 etc...\n",
    " Sabendo disso, crie um programa que pergunte ao usuário um intervalo, por exemplo: Inicio - 30, Fim - 2000;\n",
    " Com base neste intervalo, verifique quantos palíndromos existem e exiba-os na tela."
   ]
  },
  {
   "cell_type": "code",
   "execution_count": null,
   "metadata": {},
   "outputs": [],
   "source": []
  },
  {
   "cell_type": "markdown",
   "metadata": {},
   "source": [
    " 19- Faça um jogo de batalha naval, utilize as seguinte regras:\n",
    " - O primeiro usuário será o que vai configurar o tabuleiro inserindo os navios.\n",
    " - O tabuleiro deve ter 8x8\n",
    " - Quando inserido todos os navios o restante será considerado como \"água\".\n",
    " - Cada navio pode ocupar apenas 1 posição\n",
    " - O jogador deve respeitar o espaço de 1 célula entre os navios\n",
    " - O jogador que irá descobrir onde os navios estão tem apenas 10 tiros\n",
    " - O jogador 1 pode posicionar 5 navios"
   ]
  },
  {
   "cell_type": "code",
   "execution_count": null,
   "metadata": {},
   "outputs": [],
   "source": []
  },
  {
   "cell_type": "markdown",
   "metadata": {},
   "source": [
    " 20- Crie uma agenda que armazena, código da pessoa, número do telefone, idade. Sua agenda deve possibilitar:\n",
    " \n",
    "- (1) - inserir um contato\n",
    "- (2) - Remover um contato\n",
    "- (3) - Editar um contato\n",
    "- (4) - buscar um contato pelo Código."
   ]
  },
  {
   "cell_type": "markdown",
   "metadata": {},
   "source": []
  },
  {
   "cell_type": "markdown",
   "metadata": {},
   "source": [
    " 21-  Criando um tabuleiro de Jogo da Velha\n",
    "Crie um tabuleiro de jogo da velha, usando uma matrizes de caracteres (char) 3×3, onde o usuário pede o número da linha (1 até 3) e o da coluna (1 até 3). A cada vez que o usuário entrar com esses dados, colocar um ‘X’ ou ‘O’ no local selecionado."
   ]
  },
  {
   "cell_type": "code",
   "execution_count": null,
   "metadata": {},
   "outputs": [],
   "source": []
  },
  {
   "cell_type": "markdown",
   "metadata": {},
   "source": [
    "22-  Um número palíndromo é aquele que, se lido de trás para frente e de frete para trás, é o mesmo.\n",
    "Exemplos: 2112, 666, 2442 etc…\n",
    "Sabendo disso, crie um programa que pergunte ao usuário um intervalo, por exemplo: Inicio – 30, Fim – 2000;\n",
    "Com base neste intervalo, verifique quantos palíndromos existem e exiba-os na tela."
   ]
  },
  {
   "cell_type": "code",
   "execution_count": null,
   "metadata": {},
   "outputs": [],
   "source": []
  },
  {
   "cell_type": "markdown",
   "metadata": {},
   "source": [
    "23- Faça um jogo de batalha naval, utilize as seguinte regras:\n",
    "\n",
    "- O primeiro usuário será o que vai configurar o tabuleiro inserindo os navios.\n",
    "- O tabuleiro deve ter 8×8\n",
    "- Quando inserido todos os navios o restante será considerado como “água”.\n",
    "- Cada navio pode ocupar apenas 1 posição\n",
    "- O jogador deve respeitar o espaço de 1 célula entre os navios\n",
    "- O jogador que irá descobrir onde os navios estão tem apenas 10 tiros\n",
    "- O jogador 1 pode posicionar 5 navios"
   ]
  },
  {
   "cell_type": "code",
   "execution_count": null,
   "metadata": {},
   "outputs": [],
   "source": []
  },
  {
   "cell_type": "markdown",
   "metadata": {},
   "source": [
    "Crie um algoritmo que lê 10 números inteiros. Ao final da leitura ele deve fornecer um menú com os seguintes itens:\n",
    "\n",
    "- (1) Adicionar um número\n",
    "- (2) Remover um número\n",
    "- (3) Incrementar um número\n",
    "\n",
    "No primeiro menú, você deve adicionar um número ao vetor. No entanto este vetor deve permanecer em ordem Crescente. \n",
    "\n",
    "Já no segundo menú, ao seleciona-lo, o usuário deverá informar a posição do numero ou então o próprio numero e seu sistema deve remove-lo. Mas cuidado, você deverá reposicionar os números restantes para que não haja “buracos” no vetor. Além disso, o vetor deve permanecer em ordem crescente.\n",
    "\n",
    "Na terceira e ultima opção, você deve perguntar ao usuário qual numero ele deseja incrementar e de quanto seria este incremento. Então seu sistema deve incrementar o número e manter o vetor organizado em ordem crescente."
   ]
  },
  {
   "cell_type": "code",
   "execution_count": null,
   "metadata": {},
   "outputs": [],
   "source": []
  },
  {
   "cell_type": "markdown",
   "metadata": {},
   "source": [
    "25- Crie uma agenda que armazena, código da pessoa, número do telefone, idade. Sua agenda deve possibilitar:\n",
    "- (1) – inserir um contato\n",
    "- (2) – Remover um contato\n",
    "- (3) – Editar um contato\n",
    "- (4) – buscar um contato pelo Código."
   ]
  },
  {
   "cell_type": "code",
   "execution_count": null,
   "metadata": {},
   "outputs": [],
   "source": []
  }
 ],
 "metadata": {
  "kernelspec": {
   "display_name": "Python 3",
   "language": "python",
   "name": "python3"
  },
  "language_info": {
   "codemirror_mode": {
    "name": "ipython",
    "version": 3
   },
   "file_extension": ".py",
   "mimetype": "text/x-python",
   "name": "python",
   "nbconvert_exporter": "python",
   "pygments_lexer": "ipython3",
   "version": "3.8.5"
  }
 },
 "nbformat": 4,
 "nbformat_minor": 2
}
