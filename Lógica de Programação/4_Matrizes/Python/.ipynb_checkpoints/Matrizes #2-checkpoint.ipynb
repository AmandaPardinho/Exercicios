{
 "cells": [
  {
   "cell_type": "code",
   "execution_count": null,
   "metadata": {},
   "outputs": [],
   "source": [
    "# 1- Criando um tabuleiro de Jogo da Velha\n",
    "# Crie um tabuleiro de jogo da velha, usando uma matrizes de caracteres (char) 3x3, onde o usuário pede o \n",
    "# número da linha (1 até 3) e o da coluna (1 até 3). A cada vez que o usuário entrar com esses dados, colocar \n",
    "# um 'X' ou 'O' no local selecionado."
   ]
  },
  {
   "cell_type": "code",
   "execution_count": null,
   "metadata": {},
   "outputs": [],
   "source": [
    "# 2-  Um número palíndromo é aquele que, se lido de trás para frente e de frete para trás, é o mesmo.\n",
    "# Exemplos: 2112, 666, 2442 etc...\n",
    "# Sabendo disso, crie um programa que pergunte ao usuário um intervalo, por exemplo: Inicio - 30, Fim - 2000;\n",
    "# Com base neste intervalo, verifique quantos palíndromos existem e exiba-os na tela."
   ]
  },
  {
   "cell_type": "code",
   "execution_count": null,
   "metadata": {},
   "outputs": [],
   "source": [
    "# 3- Faça um jogo de batalha naval, utilize as seguinte regras:\n",
    "\n",
    "# - O primeiro usuário será o que vai configurar o tabuleiro inserindo os navios.\n",
    "# - O tabuleiro deve ter 8x8\n",
    "# - Quando inserido todos os navios o restante será considerado como \"água\".\n",
    "# - Cada navio pode ocupar apenas 1 posição\n",
    "# - O jogador deve respeitar o espaço de 1 célula entre os navios\n",
    "# - O jogador que irá descobrir onde os navios estão tem apenas 10 tiros\n",
    "# - O jogador 1 pode posicionar 5 navios"
   ]
  },
  {
   "cell_type": "code",
   "execution_count": null,
   "metadata": {},
   "outputs": [],
   "source": [
    "# 4- Crie uma agenda que armazena, código da pessoa, número do telefone, idade. Sua agenda deve possibilitar:\n",
    "# (1) - inserir um contato\n",
    "# (2) - Remover um contato\n",
    "# (3) - Editar um contato\n",
    "# (4) - buscar um contato pelo Código."
   ]
  }
 ],
 "metadata": {
  "kernelspec": {
   "display_name": "Python 3",
   "language": "python",
   "name": "python3"
  },
  "language_info": {
   "codemirror_mode": {
    "name": "ipython",
    "version": 3
   },
   "file_extension": ".py",
   "mimetype": "text/x-python",
   "name": "python",
   "nbconvert_exporter": "python",
   "pygments_lexer": "ipython3",
   "version": "3.7.3"
  }
 },
 "nbformat": 4,
 "nbformat_minor": 2
}
