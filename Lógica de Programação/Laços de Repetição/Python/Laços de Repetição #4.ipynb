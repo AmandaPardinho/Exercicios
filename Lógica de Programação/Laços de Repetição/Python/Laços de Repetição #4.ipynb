{
 "cells": [
  {
   "cell_type": "code",
   "execution_count": null,
   "metadata": {},
   "outputs": [],
   "source": [
    "# 1-  Faça um programa para calcular n! (Fatorial de n), sendo que o valor inteiro de n é fornecido pelo usuário.\n",
    "# Sabe-se que:\n",
    "# N! = 1 * 2 * 3 * ... (n – 1) * n\n",
    "# 0! = 1, por definição;\n",
    "\n",
    "valor = int(input(\"digite um numero\"))\n",
    "\n",
    "result = 1\n",
    "for i in range(1,valor + 1):\n",
    "    result *= i\n",
    "\n",
    "print(result)"
   ]
  },
  {
   "cell_type": "code",
   "execution_count": 1,
   "metadata": {},
   "outputs": [
    {
     "name": "stdout",
     "output_type": "stream",
     "text": [
      "digite a idade5\n",
      "digite o peso50\n",
      "digite a idade5\n",
      "digite o peso50\n",
      "digite a idade5\n",
      "digite o peso50\n",
      "Faixa etária 1 ( 1 até 10 ):  50.0\n",
      "Faixa etária 1 ( 10 até 20 ):  0.0\n",
      "Faixa etária 1 ( 20 até 30 ):  0.0\n"
     ]
    }
   ],
   "source": [
    "# 2- Faça um programa que receba a idade e o peso de 15 pessoas. Calcule e mostre as médias dos pesos das pessoas\n",
    "# da mesma faixa etária. As faixas etárias são: de 1 a 10 anos, de 11 a 20 anos, de 21 a 30 anos e maiores de 31 anos.\n",
    "\n",
    "#farei pra 3 pessoas... a lógica é a mesma\n",
    "\n",
    "p = 0\n",
    "\n",
    "somaPesoEt1 = 0\n",
    "somaPesoEt2 = 0\n",
    "somaPesoEt3 = 0\n",
    "\n",
    "\n",
    "while p < 3:\n",
    "    idade = int(input(\"digite a idade\"))\n",
    "    peso = int (input(\"digite o peso\"))\n",
    "    if idade > 1 and idade < 10:\n",
    "        somaPesoEt1 += peso\n",
    "    if idade > 10 and idade < 20:\n",
    "        somaPesoEt2 += peso\n",
    "    if idade > 20 and idade < 30:\n",
    "        somaPesoEt3 += peso\n",
    "    p += 1\n",
    "        \n",
    "print( \"Faixa etária 1 ( 1 até 10 ): \", somaPesoEt1/3)\n",
    "print( \"Faixa etária 1 ( 10 até 20 ): \", somaPesoEt2/3)\n",
    "print( \"Faixa etária 1 ( 20 até 30 ): \", somaPesoEt3/3)\n",
    "    "
   ]
  },
  {
   "cell_type": "code",
   "execution_count": 2,
   "metadata": {},
   "outputs": [
    {
     "name": "stdout",
     "output_type": "stream",
     "text": [
      "digite sua idade:15\n",
      "Digite sua opinião sobre o filme: 1- regular | 2 - bom | 3 - ótimo3\n",
      "digite sua idade:50\n",
      "Digite sua opinião sobre o filme: 1- regular | 2 - bom | 3 - ótimo2\n",
      "digite sua idade:13\n",
      "Digite sua opinião sobre o filme: 1- regular | 2 - bom | 3 - ótimo1\n",
      "Média das idades das pessoas que responderam otimo:  5.0\n",
      "Quantidade de pessoas que respondeu regular: 1\n",
      " Percentual de pessoas que responderam Bom: 0.3333333333333333\n"
     ]
    }
   ],
   "source": [
    "# 3 - Cada espectador de um cinema respondeu a um questionário no qual constava sua idade e a \n",
    "# sua opinião em relação ao filme: ótimo - 3, bom - 2, regular - 1. Faça um programa que receba a idade\n",
    "# e a opinião de 15 espectadores e que calcule e mostre:\n",
    "\n",
    "# a) A média das idades das pessoas que responderam ótimo;\n",
    "# b) A quantidade de pessoas que respondeu regular;\n",
    "# c) A percentagem de pessoas que respondeu bom entre todos os espectadores analisados.\n",
    "\n",
    "# fazendo para 3 pessoas\n",
    "\n",
    "p = 0 \n",
    "\n",
    "somaIdadeOtimo = 0\n",
    "qtdRegular = 0\n",
    "qtdBom = 0\n",
    "\n",
    "while p < 3:\n",
    "    idade = int(input(\"digite sua idade:\"))\n",
    "    opiniao = int(input(\"Digite sua opinião sobre o filme: 1- regular | 2 - bom | 3 - ótimo\"))\n",
    "    if opiniao == 3:\n",
    "        somaIdadeOtimo += idade\n",
    "    if opiniao == 1:\n",
    "        qtdRegular += 1\n",
    "    if opiniao == 2:\n",
    "        qtdBom += 1\n",
    "    p += 1\n",
    "\n",
    "print(\"Média das idades das pessoas que responderam otimo: \", somaIdadeOtimo/3)\n",
    "print(\"Quantidade de pessoas que respondeu regular:\", qtdRegular)\n",
    "print(\" Percentual de pessoas que responderam Bom:\", qtdBom/3)"
   ]
  },
  {
   "cell_type": "code",
   "execution_count": null,
   "metadata": {},
   "outputs": [],
   "source": [
    "# 4- Uma firma fez uma pesquisa de mercado para saber se as pessoas gostaram ou não de um novo produto lançado\n",
    "# no mercado. Para isso forneceu o sexo do entrevistado e sua resposta (S - Sim ou N - Não). \n",
    "# Sabe-se que foram entrevistadas dez pessoas. Faça um programa que calcule e mostre:\n",
    "\n",
    "# a) O número de pessoas que respondeu sim;\n",
    "# b) O número de pessoas que respondeu não;\n",
    "# c) O número de mulheres que respondeu sim;\n",
    "# d) A percentagem de homens que respondeu não entre todos os homens analisados.\n",
    "\n",
    "# Mesma  lógica do exercicio anterior (ex 3)\n"
   ]
  },
  {
   "cell_type": "code",
   "execution_count": 3,
   "metadata": {},
   "outputs": [
    {
     "name": "stdout",
     "output_type": "stream",
     "text": [
      "Digite a primeira nota5\n",
      "Digite a segunda nota5\n",
      "Digite a terceira nota5\n",
      "Digite a quantidade de faltas do aluno40\n",
      "aluno reprovado\n",
      "Digite a primeira nota9\n",
      "Digite a segunda nota9\n",
      "Digite a terceira nota9\n",
      "Digite a quantidade de faltas do aluno45\n",
      "aluno reprovado\n",
      "Digite a primeira nota9\n",
      "Digite a segunda nota9\n",
      "Digite a terceira nota9\n",
      "Digite a quantidade de faltas do aluno5\n",
      "aluno aprovado\n"
     ]
    }
   ],
   "source": [
    "# 5-  Crie um sistema que leia a nota e as faltas de 3 alunos. No final avalie seu desempenho baseado nos critérios:\n",
    "# critérios: \n",
    "# a) Durante o semestre são dadas três notas;\n",
    "# b) A nota final é obtida pela média aritmética das três notas;\n",
    "# c) É considerado aprovado o aluno que obtiver a nota final superior ou igual a 6 e que tiver \n",
    "# comparecido a um mínimo de 40 aulas.\n",
    "\n",
    "p = 0 \n",
    "\n",
    "# definimos que a quantidade de aulas dadas são 50\n",
    "\n",
    "while p < 3:\n",
    "    nota1 = int(input(\"Digite a primeira nota\"))\n",
    "    nota2 = int(input(\"Digite a segunda nota\"))\n",
    "    nota3 = int(input(\"Digite a terceira nota\"))\n",
    "    faltas = int(input(\"Digite a quantidade de faltas do aluno\"))\n",
    "    if (nota1 + nota2 + nota3)/3 > 6 and faltas <= 10:\n",
    "        print(\"aluno aprovado\")\n",
    "    else:\n",
    "        print(\"aluno reprovado\")\n",
    "    \n",
    "    p += 1 \n",
    "    \n",
    "    "
   ]
  },
  {
   "cell_type": "code",
   "execution_count": null,
   "metadata": {},
   "outputs": [],
   "source": [
    "# 6- Faça um programa que leia um conjunto de dados contendo o número da matrícula, as três notas e a\n",
    "# frequência (número de aulas frequentadas) de dez alunos.\n",
    "\n",
    "# Calcule e mostre:\n",
    "\n",
    "# Para cada aluno o número da matrícula, a nota final e a mensagem (aprovado ou reprovado);\n",
    "# A maior e a menor nota da turma;\n",
    "# O total de alunos reprovados;\n",
    "# A percentagem de alunos reprovados por frequência abaixo da mínima necessária.\n",
    "\n",
    "# mesma lógica do exercicio anterior"
   ]
  },
  {
   "cell_type": "code",
   "execution_count": null,
   "metadata": {},
   "outputs": [],
   "source": [
    "# 7 - Faça um programa que receba várias idades e que calcule e mostre a média das idades digitadas. Finalize\n",
    "# digitando idade igual a zero.\n",
    "\n",
    "# mesma lógica dos exercicios anteriores (ex 5)"
   ]
  },
  {
   "cell_type": "code",
   "execution_count": null,
   "metadata": {},
   "outputs": [],
   "source": [
    "# 8- Foi feita uma pesquisa de audiência de canal de TV em várias casas de uma cidade, em um determinado dia. \n",
    "# Para cada casa consultada foi fornecido o número do canal (4, 5, 7, 12) e o número de pessoas que estavam assistindo\n",
    "# aquele canal. Se a televisão estivesse desligada, nada era anotado, ou seja, essa casa não entrava na pesquisa.\n",
    "# Faça um programa que:\n",
    "\n",
    "# a)    Leia um número indeterminado de dados (número do canal e o número de pessoas que estavam assistindo);\n",
    "# b)    Calcule e mostre a percentagem de audiência de cada canal.\n",
    "# c)    Para encerrar a entrada de dados digite o número do canal ZERO.\n",
    "\n",
    "# mesma lógica do exercicio 3"
   ]
  },
  {
   "cell_type": "code",
   "execution_count": null,
   "metadata": {},
   "outputs": [],
   "source": [
    "# 9-  A prefeitura de uma cidade fez uma pesquisa entre seus habitantes, coletando dados sobre o salário e o \n",
    "# número de filhos. A prefeitura deseja saber:\n",
    "# a)    A média do salário da população;\n",
    "# b)    A média do número de filhos;\n",
    "# c)    O maior salário; p\n",
    "# d)    A percentagem de pessoas com salários até R$ 150,00.\n",
    "\n",
    "# O final da leitura de dados dar-se-á com a entrada de um salário negativo.\n",
    "\n",
    "# mesma lógica do exercicio 3"
   ]
  },
  {
   "cell_type": "code",
   "execution_count": null,
   "metadata": {},
   "outputs": [],
   "source": [
    "# 10- Foi feita uma pesquisa entre os habitantes de uma região. Foram coletados os dados de idade, sexo (M/F) e salário. Faça um programa que calcule e mostre:\n",
    "# a)    A média dos salários do grupo;\n",
    "# b)    A maior e a menor idade do grupo;\n",
    "# c)    A quantidade de mulheres com salário até R$ 200,00;\n",
    "# d)    A idade e o sexo da pessoa que possui o menor salário.\n",
    "\n",
    "# Finalize a entrada de dados ao ser digitada uma idade negativa.\n",
    "\n",
    "# mesma lógica do exercicio 3"
   ]
  }
 ],
 "metadata": {
  "kernelspec": {
   "display_name": "Python 3",
   "language": "python",
   "name": "python3"
  },
  "language_info": {
   "codemirror_mode": {
    "name": "ipython",
    "version": 3
   },
   "file_extension": ".py",
   "mimetype": "text/x-python",
   "name": "python",
   "nbconvert_exporter": "python",
   "pygments_lexer": "ipython3",
   "version": "3.7.3"
  }
 },
 "nbformat": 4,
 "nbformat_minor": 2
}
