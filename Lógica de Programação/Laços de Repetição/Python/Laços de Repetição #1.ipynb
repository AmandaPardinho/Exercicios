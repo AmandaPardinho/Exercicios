{
 "cells": [
  {
   "cell_type": "code",
   "execution_count": null,
   "metadata": {},
   "outputs": [],
   "source": [
    "# 1- Faça um programa que receba um número e que calcule e mostre a tabuada desse número.\n",
    "\n",
    "num = input(\"digite um numero\")\n",
    "tab = int(num)\n",
    "\n",
    "for i in range(0,10):\n",
    "    print (i, \"*\", tab, \"=\", i*tab)"
   ]
  },
  {
   "cell_type": "code",
   "execution_count": null,
   "metadata": {},
   "outputs": [],
   "source": [
    "# 2- Faça um programa que mostre as tabuadas dos números de 1 a 10.\n",
    "\n",
    "for i in range (1,10):\n",
    "    print(\"\\n\")\n",
    "    for j in range(1,10):\n",
    "        print(i, \"*\", j, \"=\", i*j)"
   ]
  },
  {
   "cell_type": "code",
   "execution_count": null,
   "metadata": {},
   "outputs": [],
   "source": [
    "# 3- Faça um programa que verifique e mostre os números entre 1.000 e 2.000 (inclusive) que, quando divididos por 5 \n",
    "# produzam resto igual a 2.\n",
    "\n",
    "for num in range(1000,2000):\n",
    "    if(num % 5 == 2):\n",
    "        print (num)"
   ]
  },
  {
   "cell_type": "code",
   "execution_count": null,
   "metadata": {},
   "outputs": [],
   "source": [
    "# 4- Faça um programa que leia um valor n, inteiro e positivo, calcule e mostre a seguinte soma: \n",
    "# S = 1 + 1/2 + 1/3 + 1/4 + ... + 1/n\n",
    "\n",
    "num = input(\"digite um valor\")\n",
    "s = int(num) #converte de string para numeros\n",
    "\n",
    "acumulador = 1\n",
    "for s in range (1,s):\n",
    "    acumulador = acumulador + 1/s\n",
    "    \n",
    "print (acumulador)"
   ]
  },
  {
   "cell_type": "code",
   "execution_count": null,
   "metadata": {},
   "outputs": [],
   "source": [
    "# 5- Faça um programa que leia três valores (A, B, C) e mostre-os na ordem lida. \n",
    "# Em seguida, mostre-os em ordem crescente e decrescente.\n",
    "\n",
    "a = input(\"digite o primeiro numero\");\n",
    "b = input(\"digite o segundo numero\");\n",
    "c = input(\"digite o terceiro numero\");\n",
    "\n",
    "maior = 0;\n",
    "meio = 0;\n",
    "menor = 0;\n",
    "\n",
    "\n",
    "if a > b and a > c:\n",
    "    maior = a\n",
    "elif b > a and b > c:\n",
    "    maior = b\n",
    "elif c > a and c > b:\n",
    "    maior = c\n",
    "    \n",
    "\n",
    "if a < b and a < c:\n",
    "    menor = a\n",
    "elif b < a and b < c:\n",
    "    menor = b\n",
    "elif c < a and c < b:\n",
    "    menor = c\n",
    "    \n",
    "if a != menor and b != maior:\n",
    "    meio = c\n",
    "elif a != menor and c != maior:\n",
    "    meio = b\n",
    "else:\n",
    "    meio = a\n",
    "    \n",
    "    \n",
    "print(a,b,c)\n",
    "    \n",
    "print(maior, meio, menor)\n",
    "\n",
    "print(menor, meio, maior)"
   ]
  },
  {
   "cell_type": "code",
   "execution_count": 2,
   "metadata": {},
   "outputs": [
    {
     "name": "stdout",
     "output_type": "stream",
     "text": [
      "Digite o valor de compra do cliente 05\n",
      "Digite o valor de compra do cliente 14\n",
      "Digite o valor de compra do cliente 23\n",
      "Digite o valor de compra do cliente 35\n",
      "Digite o valor de compra do cliente 44\n",
      "não superou\n"
     ]
    }
   ],
   "source": [
    "# 6- Uma loja deseja cadastrar 5 clientes e verificar se o faturamento da loja foi superior a loja B (faturamento = 54000).\n",
    "# se o faturamento atingir esse valor mostre na tela uma mensagem contendo em quanto foi superado o faturamento.\n",
    "\n",
    "i = 0\n",
    "acumulado = 0\n",
    "while i < 5:\n",
    "    valor = float(input(\"Digite o valor de compra do cliente \" + str(i)))\n",
    "    acumulado = acumulado + valor\n",
    "    i += 1\n",
    "\n",
    "if acumulado > 54000:\n",
    "    print(\"Superou! em: \", 54000 - acumulado )\n",
    "else:\n",
    "    print(\"não superou\")"
   ]
  },
  {
   "cell_type": "code",
   "execution_count": null,
   "metadata": {},
   "outputs": [],
   "source": [
    "# 7- Uma loja tem tem uma política de descontos de acordo com o valor da compra do cliente. Os descontos começam acima dos R$500\n",
    "# A cada 100 reais acima dos R$500,00 o cliente ganha 1% de desconto cumulativo até 25%. \n",
    "# Por exemplo: R$500 = 1% || R$600,00 = 2% ... etc...\n",
    "\n",
    "# Faça um programa que exiba essa tabela de descontos no seguinte formato:  \n",
    "# Valordacompra - porcentagem de desconto - valor final\n",
    "\n",
    "valordacompra = 500\n",
    "\n",
    "for i in range(1,26):\n",
    "    print(\"valor da compra: \", valordacompra, \"porcentagem de desconto:\", i, \"valor final\", valordacompra *(1-(i/100)))\n",
    "    valordacompra = valordacompra +100"
   ]
  },
  {
   "cell_type": "code",
   "execution_count": null,
   "metadata": {},
   "outputs": [],
   "source": [
    "# 8- Uma companhia de teatro deseja dar uma série de espetáculos. \n",
    "# Fatos:\n",
    "# 1) A direção calcula que praticando o preço de R$5,00 serão vendidos 120 ingressos\n",
    "# 2) As despesas são fixas em R$ 200,00. \n",
    "# 3) Ao diminuir R$ 0,50 o preço dos ingressos espera-se que as vendas aumentem em 26 ingressos.\n",
    "\n",
    "\n",
    "\n",
    "preco = 5\n",
    "ingressosVendidos = 120\n",
    "\n",
    "while preco >1:\n",
    "    print (\"Lucro máximo: \", ingressosVendidos * preco - 200, \"preço do ingresso:\", preco, \"Quantidade de ingressos vendidos\", ingressosVendidos)\n",
    "    preco = preco - 0.5\n",
    "    ingressosVendidos = ingressosVendidos + 26\n"
   ]
  },
  {
   "cell_type": "code",
   "execution_count": null,
   "metadata": {},
   "outputs": [],
   "source": [
    "# 9- Faça um programa que receba a idade de dez pessoas e que calcule e mostre a quantidade de pessoas com idade maior ou \n",
    "# igual a 18 anos.\n",
    "\n",
    "num =  0\n",
    "maiorDe18 = 0\n",
    "menorDe18 = 0\n",
    "igualA18 = 0 \n",
    "while num < 3:\n",
    "    nome = input(\"Digite o nome da pessoa\")\n",
    "    idade = input(\"digite a idade do(a)\" + nome)\n",
    "    if int(idade) > 18:\n",
    "        maiorDe18 = maiorDe18 + 1\n",
    "    elif int(idade)< 18:\n",
    "        menorDe18 = menorDe18 + 1\n",
    "    else:\n",
    "        igualA18 = igualA18 + 1\n",
    "    num = num + 1\n",
    "    \n",
    "print (\"maiores que 18: \", maiorDe18)\n",
    "print (\"menor que 18\", menorDe18)\n",
    "print (\"igual a 18\", igualA18)\n"
   ]
  },
  {
   "cell_type": "code",
   "execution_count": null,
   "metadata": {},
   "outputs": [],
   "source": [
    "# 10-    Faça um programa que receba a idade de 15 pessoas e que calcule e mostre:\n",
    "#    A quantidade de pessoas em cada faixa etária;\n",
    "#    A percentagem de pessoas na primeira e na última faixa etária, com relação ao total de pessoas.\n",
    "\n",
    "#       faixa1 =   Até 15 anos\n",
    "#       faixa2 =   De 16 a 30 anos\n",
    "#       faixa3 =   De 31 a 45 anos\n",
    "#       faixa4 =  De 46 a 60 anos\n",
    "#       faixa5 =  Acima de 61 anos\n",
    "\n",
    "faixa1 = 0\n",
    "faixa2 = 0\n",
    "faixa3 = 0\n",
    "faixa4 = 0\n",
    "faixa5 = 0\n",
    "\n",
    "for i in range (0,5):\n",
    "    idadestr = input(\"digite a idade da pessoa\")\n",
    "    idade = int(idadestr)\n",
    "    if idade <= 15:\n",
    "        faixa1 += 1\n",
    "    elif idade > 15 and idade < 30:\n",
    "        faixa2 += 1\n",
    "    elif idade >30 and idade <45:\n",
    "        faixa3 += 1\n",
    "    elif idade > 45 and idade <60:\n",
    "        faixa4 += 1\n",
    "    else:\n",
    "        faixa5 += 1 \n",
    "        \n",
    "        \n",
    "print (\"até 15 anos\", faixa1)\n",
    "print(\"De 16 a 30 anos\", faixa2)\n",
    "print(\"De 31 a 45 anos\", faixa3)\n",
    "print (\"De 46 a 60 anos\", faixa4)\n",
    "print (\"acima de 61 anos\", faixa5)"
   ]
  }
 ],
 "metadata": {
  "kernelspec": {
   "display_name": "Python 3",
   "language": "python",
   "name": "python3"
  },
  "language_info": {
   "codemirror_mode": {
    "name": "ipython",
    "version": 3
   },
   "file_extension": ".py",
   "mimetype": "text/x-python",
   "name": "python",
   "nbconvert_exporter": "python",
   "pygments_lexer": "ipython3",
   "version": "3.7.3"
  }
 },
 "nbformat": 4,
 "nbformat_minor": 2
}
