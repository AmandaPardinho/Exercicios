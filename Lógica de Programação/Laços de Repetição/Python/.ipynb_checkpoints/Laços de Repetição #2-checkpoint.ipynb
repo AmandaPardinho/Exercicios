{
 "cells": [
  {
   "cell_type": "code",
   "execution_count": 2,
   "metadata": {},
   "outputs": [
    {
     "name": "stdout",
     "output_type": "stream",
     "text": [
      "digite um numero5\n",
      "é impar\n"
     ]
    }
   ],
   "source": [
    "# 1- Escreva um programa que recebe inteiro e mostra os números pares e ímpares (separados, em duas colunas),\n",
    "# de 1 até esse inteiro\n",
    "\n",
    "num = int(input(\"digite um numero\"))\n",
    "\n",
    "if num % 2 == 0:\n",
    "    print(\"é par\")\n",
    "else:\n",
    "    print(\"é impar\")"
   ]
  },
  {
   "cell_type": "code",
   "execution_count": 6,
   "metadata": {},
   "outputs": [
    {
     "name": "stdout",
     "output_type": "stream",
     "text": [
      "digite o tamanho do quadrado5\n",
      "\n",
      "*****\n",
      "*****\n",
      "*****\n",
      "*****\n",
      "*****"
     ]
    }
   ],
   "source": [
    "# 2- Escreva um programa que lê o tamanho do lado de um quadrado e imprime um quadrado daquele tamanho com asteriscos.\n",
    "# Seu programa deve funcionar para quadrados com lados de todos os tamanhos entre 1 e 20.\n",
    "\n",
    "# Por exemplo, para lado igual a 5:\n",
    "\n",
    "# *****\n",
    "# *****\n",
    "# *****\n",
    "# *****\n",
    "# *****\n",
    "\n",
    "\n",
    "num = int(input(\"digite o tamanho do quadrado\"))\n",
    "\n",
    "for i in range(num):\n",
    "    print()\n",
    "    for j in range(num):\n",
    "        print(\"*\",end = '')"
   ]
  },
  {
   "cell_type": "code",
   "execution_count": 14,
   "metadata": {},
   "outputs": [
    {
     "name": "stdout",
     "output_type": "stream",
     "text": [
      "digite o tamanho do quadrado5\n",
      "\n",
      "*****\n",
      "*   *\n",
      "*   *\n",
      "*   *\n",
      "*****"
     ]
    }
   ],
   "source": [
    "# 3- Escreva um programa que lê o tamanho do lado de um quadrado e imprime um quadrado daquele tamanho com asteriscos e espaços em branco. Seu programa deve funcionar para quadrados com lados de todos os tamanhos entre 1 e 20.\n",
    "# Para lado igual a 5:\n",
    "\n",
    "# *****\n",
    "# *    *\n",
    "# *    *\n",
    "# *    *\n",
    "# *****\n",
    "\n",
    "num = int(input(\"digite o tamanho do quadrado\"))\n",
    "\n",
    "for i in range(num):\n",
    "    print()\n",
    "    for j in range(num):\n",
    "        if i == 0 or i == num-1 or j == 0 or j == num -1:\n",
    "            print(\"*\",end = '')\n",
    "        else:\n",
    "            print(\" \", end ='')\n",
    "                    "
   ]
  },
  {
   "cell_type": "code",
   "execution_count": 20,
   "metadata": {},
   "outputs": [
    {
     "name": "stdout",
     "output_type": "stream",
     "text": [
      "altura do triangulo10\n",
      "\n",
      "*\n",
      "**\n",
      "***\n",
      "****\n",
      "*****\n",
      "******\n",
      "*******\n",
      "********\n",
      "*********\n"
     ]
    }
   ],
   "source": [
    "##### 4- Faça um programa que recebe a altura de um triangulo em um número inteiro e imprima-o utilizando asteriscos. Veja o Exemplo:\n",
    "\n",
    "# Entrada: 5\n",
    "# *\n",
    "# **\n",
    "# ***\n",
    "# ****\n",
    "# *****\n",
    "\n",
    "alt = int(input(\"altura do triangulo\"))\n",
    "\n",
    "for j in range(alt):\n",
    "    print(\"*\" * j)"
   ]
  },
  {
   "cell_type": "code",
   "execution_count": 18,
   "metadata": {},
   "outputs": [],
   "source": [
    "# 5- Se você lembrar bem, quando estudamos as variáveis do tipo caractere, char, dissemos que, na verdade, \n",
    "# ela eram representadas por inteiros de 0 até 255.\n",
    "\n",
    "# Mostre a tabela completa do código ASCII.\n",
    "\n",
    "## esse exercício não pode ser executado em python, visto que o python usa outra codificação e não ASCII.\n",
    "\n"
   ]
  }
 ],
 "metadata": {
  "kernelspec": {
   "display_name": "Python 3",
   "language": "python",
   "name": "python3"
  },
  "language_info": {
   "codemirror_mode": {
    "name": "ipython",
    "version": 3
   },
   "file_extension": ".py",
   "mimetype": "text/x-python",
   "name": "python",
   "nbconvert_exporter": "python",
   "pygments_lexer": "ipython3",
   "version": "3.7.3"
  }
 },
 "nbformat": 4,
 "nbformat_minor": 2
}
