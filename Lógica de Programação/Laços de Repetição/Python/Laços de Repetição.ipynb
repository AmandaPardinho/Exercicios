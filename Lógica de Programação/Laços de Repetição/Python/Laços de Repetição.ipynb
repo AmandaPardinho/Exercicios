{
 "cells": [
  {
   "cell_type": "markdown",
   "metadata": {},
   "source": [
    "# Exercícios sobre laços de repetição\n",
    "\n",
    "Nesse notebook vamos resolver diversos exercícios que tem como objetivo principal mostrar o funcionamento dos laços de repetição (for, while). Aqui não vamos utilizar nenhum conceito mais avançado de programação e você poderá resolver todos eles do seu jeito.\n",
    "\n",
    "Mas como assim do meu jeito?\n",
    "\n",
    "É verdade, cada exercício pode ser resolvido de uma forma muito particular, ou seja, seguir o raciocínio de cada pessoa. Portanto, apesar de colocarmos várias soluções aqui, você poderá criar sua própria versão da resolução e praticar.\n",
    "\n",
    "---\n",
    "\n",
    "## pré-requisito para resolver os exercícios\n",
    "\n",
    "Para resolver esses exercícios você precisará compreender no mínimo alguns conceitos da programação, são eles:\n",
    "- Como declarar variáveis\n",
    "- Como atribuir valores para variáveis\n",
    "- Como funcionam os tipos de dados de cada variável (inteiro, string, etc)\n",
    "- Como realizar o input de dados usando o teclado (input)\n",
    "- Como realizar a saída de dados usando o terminal (print)\n",
    "- O que são e como usar os conectores lógicos (and, or)\n",
    "- Compreender a utilização do IF e Else\n",
    "\n",
    "Caso você não conheça algum desses assuntos, pare um pouco e dê uma revisada no conteúdo antes de prosseguir.\n",
    "\n",
    "---\n",
    "\n",
    "## Quantos exercicios eu preciso resolver?\n",
    "\n",
    "Isso é muito pessoal, cada um possui seu nível de \"saturação\". Deixe-me explicar isso melhor...\n",
    "\n",
    "Ao resolver esses exercícios, chega um determinado momento que eles se tornam quase todos muito semelhantes. Isso é previsível já que estamos explorando apenas um recurso da linguagem que é a repetição. \n",
    "\n",
    "P: Então, preciso resolver todos os exercícios? \n",
    "R: Acredito que não... resolva os exercícios apenas até você mesmo se convencer que realmente compreendeu o assunto e que não há mais nada de novo sendo adicionado."
   ]
  },
  {
   "cell_type": "markdown",
   "metadata": {},
   "source": [
    "---\n",
    "1- Faça um programa que receba um número e que calcule e mostre a tabuada desse número."
   ]
  },
  {
   "cell_type": "code",
   "execution_count": null,
   "metadata": {},
   "outputs": [],
   "source": [
    "num = input(\"digite um numero\")\n",
    "tab = int(num)\n",
    "\n",
    "for i in range(0,10):\n",
    "    print (i, \"*\", tab, \"=\", i*tab)"
   ]
  },
  {
   "cell_type": "markdown",
   "metadata": {},
   "source": [
    "2- Faça um programa que mostre as tabuadas dos números de 1 a 10."
   ]
  },
  {
   "cell_type": "code",
   "execution_count": null,
   "metadata": {},
   "outputs": [],
   "source": [
    "for i in range (1,10):\n",
    "    print(\"\\n\")\n",
    "    for j in range(1,10):\n",
    "        print(i, \"*\", j, \"=\", i*j)"
   ]
  },
  {
   "cell_type": "markdown",
   "metadata": {},
   "source": [
    "3- Faça um programa que verifique e mostre os números entre 1.000 e 2.000 (inclusive) que, quando divididos por 5 produzam resto igual a 2."
   ]
  },
  {
   "cell_type": "code",
   "execution_count": null,
   "metadata": {},
   "outputs": [],
   "source": [
    "for num in range(1000,2000):\n",
    "    if(num % 5 == 2):\n",
    "        print (num)"
   ]
  },
  {
   "cell_type": "markdown",
   "metadata": {},
   "source": [
    "4- Faça um programa que leia um valor n, inteiro e positivo, calcule e mostre a seguinte soma: \n",
    "S = 1 + 1/2 + 1/3 + 1/4 + ... + 1/n"
   ]
  },
  {
   "cell_type": "code",
   "execution_count": null,
   "metadata": {},
   "outputs": [],
   "source": [
    "num = input(\"digite um valor\")\n",
    "s = int(num) #converte de string para numeros\n",
    "\n",
    "acumulador = 1\n",
    "for s in range (1,s):\n",
    "    acumulador = acumulador + 1/s\n",
    "    \n",
    "print (acumulador)"
   ]
  },
  {
   "cell_type": "markdown",
   "metadata": {},
   "source": [
    "5- Faça um programa que leia três valores (A, B, C) e mostre-os na ordem lida. Em seguida, mostre-os em ordem crescente e decrescente."
   ]
  },
  {
   "cell_type": "code",
   "execution_count": null,
   "metadata": {},
   "outputs": [],
   "source": [
    "a = input(\"digite o primeiro numero\");\n",
    "b = input(\"digite o segundo numero\");\n",
    "c = input(\"digite o terceiro numero\");\n",
    "\n",
    "maior = 0;\n",
    "meio = 0;\n",
    "menor = 0;\n",
    "\n",
    "\n",
    "if a > b and a > c:\n",
    "    maior = a\n",
    "elif b > a and b > c:\n",
    "    maior = b\n",
    "elif c > a and c > b:\n",
    "    maior = c\n",
    "    \n",
    "\n",
    "if a < b and a < c:\n",
    "    menor = a\n",
    "elif b < a and b < c:\n",
    "    menor = b\n",
    "elif c < a and c < b:\n",
    "    menor = c\n",
    "    \n",
    "if a != menor and b != maior:\n",
    "    meio = c\n",
    "elif a != menor and c != maior:\n",
    "    meio = b\n",
    "else:\n",
    "    meio = a\n",
    "    \n",
    "    \n",
    "print(a,b,c)\n",
    "    \n",
    "print(maior, meio, menor)\n",
    "\n",
    "print(menor, meio, maior)"
   ]
  },
  {
   "cell_type": "markdown",
   "metadata": {},
   "source": [
    " 6- Uma loja deseja cadastrar 5 clientes e verificar se o faturamento da loja foi superior a loja B (faturamento = 54000). se o faturamento atingir esse valor mostre na tela uma mensagem contendo em quanto foi superado o faturamento."
   ]
  },
  {
   "cell_type": "code",
   "execution_count": null,
   "metadata": {},
   "outputs": [],
   "source": [
    "i = 0\n",
    "acumulado = 0\n",
    "while i < 5:\n",
    "    valor = float(input(\"Digite o valor de compra do cliente \" + str(i)))\n",
    "    acumulado = acumulado + valor\n",
    "    i += 1\n",
    "\n",
    "if acumulado > 54000:\n",
    "    print(\"Superou! em: \", 54000 - acumulado )\n",
    "else:\n",
    "    print(\"não superou\")"
   ]
  },
  {
   "cell_type": "markdown",
   "metadata": {},
   "source": [
    "7- Uma loja tem tem uma política de descontos de acordo com o valor da compra do cliente. \n",
    "- Os descontos começam acima dos R\\\\$500\n",
    "- A cada 100 reais acima dos R\\\\$500,00 o cliente ganha 1\\% de desconto cumulativo até 25\\%. Por exemplo: R\\\\$500 = 1\\% || R\\\\$600,00 = 2\\% ... etc...\n",
    "\n",
    "Faça um programa que exiba essa tabela de descontos no seguinte formato:  \n",
    "\n",
    "Valordacompra - porcentagem de desconto - valor final"
   ]
  },
  {
   "cell_type": "code",
   "execution_count": null,
   "metadata": {},
   "outputs": [],
   "source": [
    "valordacompra = 500\n",
    "\n",
    "for i in range(1,26):\n",
    "    print(\"valor da compra: \", valordacompra, \"porcentagem de desconto:\", i, \"valor final\", valordacompra *(1-(i/100)))\n",
    "    valordacompra = valordacompra +100"
   ]
  },
  {
   "cell_type": "markdown",
   "metadata": {},
   "source": [
    " 8- Uma companhia de teatro deseja dar uma série de espetáculos. \n",
    " Fatos:\n",
    " - A direção calcula que praticando o preço de R\\\\$5,00 serão vendidos 120 ingressos\n",
    " - As despesas são fixas em R\\\\$ 200,00. \n",
    " - Ao diminuir R\\\\$ 0,50 o preço dos ingressos espera-se que as vendas aumentem em 26 ingressos."
   ]
  },
  {
   "cell_type": "code",
   "execution_count": null,
   "metadata": {},
   "outputs": [],
   "source": [
    "preco = 5\n",
    "ingressosVendidos = 120\n",
    "\n",
    "while preco >1:\n",
    "    print (\"Lucro máximo: \", ingressosVendidos * preco - 200, \"preço do ingresso:\", preco, \"Quantidade de ingressos vendidos\", ingressosVendidos)\n",
    "    preco = preco - 0.5\n",
    "    ingressosVendidos = ingressosVendidos + 26\n"
   ]
  },
  {
   "cell_type": "markdown",
   "metadata": {},
   "source": [
    "9- Faça um programa que receba a idade de dez pessoas e que calcule e mostre a quantidade de pessoas com idade maior ou igual a 18 anos."
   ]
  },
  {
   "cell_type": "code",
   "execution_count": null,
   "metadata": {},
   "outputs": [],
   "source": [
    "num =  0\n",
    "maiorDe18 = 0\n",
    "menorDe18 = 0\n",
    "igualA18 = 0 \n",
    "while num < 3:\n",
    "    nome = input(\"Digite o nome da pessoa\")\n",
    "    idade = input(\"digite a idade do(a)\" + nome)\n",
    "    if int(idade) > 18:\n",
    "        maiorDe18 = maiorDe18 + 1\n",
    "    elif int(idade)< 18:\n",
    "        menorDe18 = menorDe18 + 1\n",
    "    else:\n",
    "        igualA18 = igualA18 + 1\n",
    "    num = num + 1\n",
    "    \n",
    "print (\"maiores que 18: \", maiorDe18)\n",
    "print (\"menor que 18\", menorDe18)\n",
    "print (\"igual a 18\", igualA18)\n"
   ]
  },
  {
   "cell_type": "markdown",
   "metadata": {},
   "source": [
    "10- Faça um programa que receba a idade de 15 pessoas e que calcule e mostre:\n",
    "    A quantidade de pessoas em cada faixa etária;\n",
    "    A percentagem de pessoas na primeira e na última faixa etária, com relação ao total de pessoas.\n",
    "```plaintext\n",
    "       faixa1 =   Até 15 anos\n",
    "       faixa2 =   De 16 a 30 anos\n",
    "       faixa3 =   De 31 a 45 anos\n",
    "       faixa4 =  De 46 a 60 anos\n",
    "       faixa5 =  Acima de 61 anos\n",
    "```"
   ]
  },
  {
   "cell_type": "code",
   "execution_count": null,
   "metadata": {},
   "outputs": [],
   "source": [
    "faixa1 = 0\n",
    "faixa2 = 0\n",
    "faixa3 = 0\n",
    "faixa4 = 0\n",
    "faixa5 = 0\n",
    "\n",
    "for i in range (0,5):\n",
    "    idadestr = input(\"digite a idade da pessoa\")\n",
    "    idade = int(idadestr)\n",
    "    if idade <= 15:\n",
    "        faixa1 += 1\n",
    "    elif idade > 15 and idade < 30:\n",
    "        faixa2 += 1\n",
    "    elif idade >30 and idade <45:\n",
    "        faixa3 += 1\n",
    "    elif idade > 45 and idade <60:\n",
    "        faixa4 += 1\n",
    "    else:\n",
    "        faixa5 += 1 \n",
    "        \n",
    "        \n",
    "print (\"até 15 anos\", faixa1)\n",
    "print(\"De 16 a 30 anos\", faixa2)\n",
    "print(\"De 31 a 45 anos\", faixa3)\n",
    "print (\"De 46 a 60 anos\", faixa4)\n",
    "print (\"acima de 61 anos\", faixa5)"
   ]
  },
  {
   "cell_type": "markdown",
   "metadata": {},
   "source": [
    "11- Escreva um programa que recebe inteiro e mostra os números pares e ímpares (separados, em duas colunas), de 1 até esse inteiro"
   ]
  },
  {
   "cell_type": "code",
   "execution_count": null,
   "metadata": {},
   "outputs": [],
   "source": [
    "num = int(input(\"digite um numero\"))\n",
    "\n",
    "if num % 2 == 0:\n",
    "    print(\"é par\")\n",
    "else:\n",
    "    print(\"é impar\")"
   ]
  },
  {
   "cell_type": "markdown",
   "metadata": {},
   "source": [
    " 12- Escreva um programa que lê o tamanho do lado de um quadrado e imprime um quadrado daquele tamanho com asteriscos.\n",
    " Seu programa deve funcionar para quadrados com lados de todos os tamanhos entre 1 e 20.\n",
    "\n",
    " Por exemplo, para lado igual a 5:\n",
    "```plaintext\n",
    " *****\n",
    " *****\n",
    " *****\n",
    " *****\n",
    " *****\n",
    " ```\n"
   ]
  },
  {
   "cell_type": "code",
   "execution_count": null,
   "metadata": {},
   "outputs": [],
   "source": [
    "num = int(input(\"digite o tamanho do quadrado\"))\n",
    "\n",
    "for i in range(num):\n",
    "    print()\n",
    "    for j in range(num):\n",
    "        print(\"*\",end = '')"
   ]
  },
  {
   "cell_type": "markdown",
   "metadata": {},
   "source": [
    "13- Escreva um programa que lê o tamanho do lado de um quadrado e imprime um quadrado daquele tamanho com asteriscos e espaços em branco. Seu programa deve funcionar para quadrados com lados de todos os tamanhos entre 1 e 20.\n",
    "Para lado igual a 5:\n",
    "\n",
    "```plaintext\n",
    "*****\n",
    "*   *\n",
    "*   *\n",
    "*   *\n",
    "*****\n",
    "```"
   ]
  },
  {
   "cell_type": "code",
   "execution_count": null,
   "metadata": {},
   "outputs": [],
   "source": [
    "num = int(input(\"digite o tamanho do quadrado\"))\n",
    "\n",
    "for i in range(num):\n",
    "    print()\n",
    "    for j in range(num):\n",
    "        if i == 0 or i == num-1 or j == 0 or j == num -1:\n",
    "            print(\"*\",end = '')\n",
    "        else:\n",
    "            print(\" \", end ='')\n",
    "                    "
   ]
  },
  {
   "cell_type": "markdown",
   "metadata": {},
   "source": [
    "14- Faça um programa que recebe a altura de um triangulo em um número inteiro e imprima-o utilizando asteriscos. Veja o Exemplo:\n",
    "\n",
    " Entrada: 5\n",
    "```plaintext \n",
    " *\n",
    " **\n",
    " ***\n",
    " ****\n",
    " *****\n",
    "```"
   ]
  },
  {
   "cell_type": "code",
   "execution_count": null,
   "metadata": {},
   "outputs": [],
   "source": [
    "alt = int(input(\"altura do triangulo\"))\n",
    "\n",
    "for j in range(alt):\n",
    "    print(\"*\" * j)"
   ]
  },
  {
   "cell_type": "markdown",
   "metadata": {},
   "source": [
    "**Exercício excluído** Se você lembrar bem, quando estudamos as variáveis do tipo caractere, char, dissemos que, na verdade, ela eram representadas por inteiros de 0 até 255.\n",
    "\n",
    "Mostre a tabela completa do código ASCII. \n",
    "\n",
    "\n",
    "IMPORTANTE: Esse exercício não pode ser executado em python, visto que o python usa outra codificação e não ASCII."
   ]
  },
  {
   "cell_type": "markdown",
   "metadata": {},
   "source": [
    "---\n",
    "\n",
    "15-  Uma loja utiliza o código V para transação à vista e P para transação a prazo. Faça um programa que receba código e \n",
    " valor de 5 transações. Calcule e mostre:\n",
    "\n",
    " - O valor total das compras à vista\n",
    " - O valor total das compras a prazo sabendo que essas compras possuem 10% de juros sobre o valor total\n",
    " - O valor total das compras efetuadas"
   ]
  },
  {
   "cell_type": "code",
   "execution_count": null,
   "metadata": {},
   "outputs": [],
   "source": [
    "aVista = 0 \n",
    "aPrazo = 0\n",
    "total = 0\n",
    "\n",
    "for i in range (0,5):\n",
    "    tipoDeCompra = input(\"(p) compra a prazo \\n (v) compra a vista \\n\")\n",
    "    valorDaCompra = int(input(\"Digite o valor da compra\"))\n",
    "    if tipoDeCompra == \"p\":\n",
    "        aPrazo += valorDaCompra\n",
    "    elif tipoDeCompra == \"v\":\n",
    "        aVista += valorDaCompra * 1.10\n",
    "\n",
    "    total += valorDaCompra\n",
    "\n",
    "print(\"A vista:\", aVista)\n",
    "print(\"A prazo:\", aPrazo)\n",
    "print(\"total:\", total)"
   ]
  },
  {
   "cell_type": "markdown",
   "metadata": {},
   "source": [
    "16- Faça um programa que receba a idade, altura e o peso de 25 pessoas, Calcule e mostre:\n",
    "\n",
    "- A quantidade de pessoas com idade superior a 50 anos;\n",
    "- A média das Alturas das pessoas com idade entre 10 e 20 anos\n",
    "- A porcentagem das pessoas com peso inferior a 40 quilos entre todas as pessoas analisadas.  "
   ]
  },
  {
   "cell_type": "code",
   "execution_count": null,
   "metadata": {},
   "outputs": [],
   "source": [
    "qtdMaior50 = 0 \n",
    "somaAlturas10e20 = 0\n",
    "qtd1020 = 0 \n",
    "qtdPesoMenor40 = 0\n",
    "\n",
    "p = 0 \n",
    "\n",
    "while p < 5:\n",
    "    idade = int(input(\"Digite a idade da pessoa\"))\n",
    "    altura = float(input(\"Digite a altura da pessoa\"))\n",
    "    peso = float(input(\"Digite o peso da pessoa\"))\n",
    "    \n",
    "    if(idade > 50):\n",
    "        qtdMaior50 += 1\n",
    "    if idade > 10 and idade < 20:\n",
    "        somaAlturas10e20 += altura\n",
    "        qtd1020 += 1\n",
    "    if qtdPesoMenor40 < 40:\n",
    "        qtdPesoMenor40 += 1\n",
    "    p += 1\n",
    "\n",
    "print( \"pessoas maior que 50: \", qtdMaior50)\n",
    "print(\"Media de altura de pessoas com idade 10 a 20 anos:\", somaAlturas10e20/qtd1020)\n",
    "print(\"A porcentagem das pessoas com peso < 40 quilos\", qtdPesoMenor40/5)"
   ]
  },
  {
   "cell_type": "markdown",
   "metadata": {},
   "source": [
    "17- Faça um programa que receba a idade e o peso de sete pessoas. Calcule e mostre:\n",
    "- A quantidade de pessoas com mais de 90 quilos;\n",
    "- A média das idades das sete pessoas;"
   ]
  },
  {
   "cell_type": "code",
   "execution_count": null,
   "metadata": {},
   "outputs": [],
   "source": [
    "somaIdade = 0\n",
    "pessoas90 = 0\n",
    "p = 0\n",
    "\n",
    "while p < 3:\n",
    "    idade = int(input(\"Digite a idade da pessoa\"))\n",
    "    peso = float(input(\"Digite a idade do peso\"))\n",
    "    somaIdade += idade\n",
    "    if(peso > 90):\n",
    "        pessoas90 += 1\n",
    "    p += 1\n",
    "    \n",
    "print(\"quantidade de pessoas com mais de 90 kilos\", pessoas90)\n",
    "print(\"media de idade:\", somaIdade/3)\n",
    "    \n",
    "\n"
   ]
  },
  {
   "cell_type": "markdown",
   "metadata": {},
   "source": [
    "18- Faça um programa que receba a idade, o peso, a altura, a cor dos olhos (A – Azul, P- Preto, V- Verde e C- Castanho) e\n",
    " a cor dos cabelos (P – Preto, C- Castanho, L – Louro e R-Ruivo) de 20 pessoas e que calcule e mostre:\n",
    " -    A quantidade de pessoas com idade superior a 50 anos e peso inferior a 60 quilos;\n",
    " -    A média das idades das pessoas com altura inferior a 1,50;\n",
    " -    A porcentagem de pessoas com olhos azuis entre a s pessoas analisadas;\n",
    " -    A quantidade de pessoas ruivas que não possuem olhos azuis;\n",
    "\n",
    "Segue a mesma ideia do exercicio anterior"
   ]
  },
  {
   "cell_type": "code",
   "execution_count": null,
   "metadata": {},
   "outputs": [],
   "source": []
  },
  {
   "cell_type": "markdown",
   "metadata": {},
   "source": [
    "19- Faça um programa que receba 3 números e que calcule e mostre a quantidade de números entre 30 e 90."
   ]
  },
  {
   "cell_type": "code",
   "execution_count": null,
   "metadata": {},
   "outputs": [],
   "source": [
    "quantidade = 0\n",
    "\n",
    "for i in range(0,3):\n",
    "    numero = int(input(\"Digite um Numero\"))\n",
    "    if( numero > 30 and numero < 90):\n",
    "        quantidade += 1 \n",
    "        \n",
    "print(\"quantidade de numeros entre 30 e 90:\", quantidade)\n",
    "    "
   ]
  },
  {
   "cell_type": "markdown",
   "metadata": {},
   "source": [
    "20-  Faça um programa que receba dez idades, pesos e Alturas e que calcule e mostre:\n",
    " - A média das idades das dez pessoas;\n",
    " - A quantidade de pessoas com peso superior a 90 quilos e altura inferior a 1,50;\n",
    " - A porcentagem de pessoas com idade entre 10 e 30 anos entre as pessoas que medem mais de 1,90;\n",
    "\n",
    " Mesma ideia dos exercicio 3"
   ]
  },
  {
   "cell_type": "code",
   "execution_count": null,
   "metadata": {},
   "outputs": [],
   "source": []
  },
  {
   "cell_type": "markdown",
   "metadata": {},
   "source": [
    "21- Faça um programa que receba a idade e o sexto de sete pessoas e que calcule e mostre:\n",
    " - A idade média do grupo;\n",
    " - A idade média das mulheres;\n",
    " - A idade média dos homens;\n",
    "\n",
    "Mesma ideia do exercicio 3"
   ]
  },
  {
   "cell_type": "code",
   "execution_count": null,
   "metadata": {},
   "outputs": [],
   "source": []
  },
  {
   "cell_type": "markdown",
   "metadata": {},
   "source": [
    " 22- Faça um programa que receba o valor de um carro e mostre uma tabela com os seguintes dados: \n",
    " preço final, quantidade de parcelas e valor da parcela. Considere o seguinte:\n",
    " - O preço final para compra à vista tem um desconto de 20%;\n",
    " - A quantidades de parcelas pode ser: 6, 12, 18, 24, 30, 36, 42, 48, 54 e 60.\n",
    " - Os percentuais de acréscimo seguem a tabela a seguir.\n",
    "\n",
    "```plaintext\n",
    " Qtd de parcelas         % acrescimo dos preços\n",
    "        6                           3%\n",
    "        12                          6%\n",
    "        18                          9%\n",
    "        24                          12%\n",
    "        30                          15%\n",
    "        36                          18%\n",
    "        42                          21%\n",
    "        48                          24%\n",
    "        54                          27%\n",
    "        60                          30%\n",
    "```"
   ]
  },
  {
   "cell_type": "code",
   "execution_count": null,
   "metadata": {},
   "outputs": [],
   "source": [
    "preco = float(input(\"Digite o preço do carro\"))\n",
    "print(\"quantidade de parcelas                  acrescimmo de preços\")\n",
    "print(\"      6                                      \", preco * 1.03)\n",
    "print(\"      12                                     \", preco * 1.06)\n",
    "print(\"      18                                     \", preco * 1.09)\n",
    "print(\"      24                                     \", preco * 1.12)\n",
    "print(\"      30                                     \", preco * 1.15)\n",
    "print(\"      36                                     \", preco * 1.18)\n",
    "print(\"      42                                     \", preco * 1.21)\n",
    "print(\"      48                                     \", preco * 1.24)\n",
    "print(\"      54                                     \", preco * 1.27)\n",
    "print(\"      60                                     \", preco * 1.30)"
   ]
  },
  {
   "cell_type": "markdown",
   "metadata": {},
   "source": [
    "23-  Faça um programa que receba várias idades e que calcule e mostre a média das idades digitadas.\n",
    "Finalize digitando a idade igual a zero"
   ]
  },
  {
   "cell_type": "code",
   "execution_count": null,
   "metadata": {},
   "outputs": [],
   "source": [
    "soma = 0 \n",
    "qtd = 0 \n",
    "\n",
    "while True:\n",
    "    idade = int(input(\"Digite uma idade\"))\n",
    "    if idade == 0:\n",
    "        break\n",
    "    soma += idade\n",
    "    qtd += 1\n",
    "    \n",
    "print(\"A média das idades é: \", soma/qtd)"
   ]
  },
  {
   "cell_type": "markdown",
   "metadata": {},
   "source": [
    "24- Faça um programa que receba um conjunto de valores inteiros e positivos, com o intervalo formado pelo número imprima na tela todos os numeros primos existentes"
   ]
  },
  {
   "cell_type": "code",
   "execution_count": null,
   "metadata": {},
   "outputs": [],
   "source": [
    "c = int(input(\"digite o começo\"))\n",
    "f = int(input(\"digite o  final\"))\n",
    "\n",
    "for i in range(c,f):\n",
    "    \n",
    "    for j in range(2,i):\n",
    "        if(i % 2 == 0):\n",
    "            break;\n",
    "        elif j == i - 1:\n",
    "            i % 2 != 0\n",
    "            print(i, \" - \")"
   ]
  },
  {
   "cell_type": "markdown",
   "metadata": {},
   "source": [
    "25-  Faça um programa para calcular n! (Fatorial de n), sendo que o valor inteiro de n é fornecido pelo usuário.\n",
    "\n",
    "Sabe-se que:\n",
    "\n",
    "- N! = 1 * 2 * 3 * ... (n – 1) * n\n",
    "- 0! = 1, por definição;\n"
   ]
  },
  {
   "cell_type": "code",
   "execution_count": null,
   "metadata": {},
   "outputs": [],
   "source": [
    "valor = int(input(\"digite um numero\"))\n",
    "\n",
    "result = 1\n",
    "for i in range(1,valor + 1):\n",
    "    result *= i\n",
    "\n",
    "print(result)"
   ]
  },
  {
   "cell_type": "markdown",
   "metadata": {},
   "source": [
    "26- Faça um programa que receba a idade e o peso de 15 pessoas. Calcule e mostre as médias dos pesos das pessoas da mesma faixa etária. As faixas etárias são: de 1 a 10 anos, de 11 a 20 anos, de 21 a 30 anos e maiores de 31 anos."
   ]
  },
  {
   "cell_type": "code",
   "execution_count": null,
   "metadata": {},
   "outputs": [],
   "source": [
    "p = 0\n",
    "\n",
    "somaPesoEt1 = 0\n",
    "somaPesoEt2 = 0\n",
    "somaPesoEt3 = 0\n",
    "\n",
    "\n",
    "while p < 3:\n",
    "    idade = int(input(\"digite a idade\"))\n",
    "    peso = int (input(\"digite o peso\"))\n",
    "    if idade > 1 and idade < 10:\n",
    "        somaPesoEt1 += peso\n",
    "    if idade > 10 and idade < 20:\n",
    "        somaPesoEt2 += peso\n",
    "    if idade > 20 and idade < 30:\n",
    "        somaPesoEt3 += peso\n",
    "    p += 1\n",
    "        \n",
    "print( \"Faixa etária 1 ( 1 até 10 ): \", somaPesoEt1/3)\n",
    "print( \"Faixa etária 1 ( 10 até 20 ): \", somaPesoEt2/3)\n",
    "print( \"Faixa etária 1 ( 20 até 30 ): \", somaPesoEt3/3)"
   ]
  },
  {
   "cell_type": "markdown",
   "metadata": {},
   "source": [
    "27 - Cada espectador de um cinema respondeu a um questionário no qual constava sua idade e a sua opinião em relação ao filme: \n",
    "\n",
    "- ótimo - 3 \n",
    "- bom - 2\n",
    "- regular - 1 \n",
    "\n",
    "Faça um programa que receba a idade e a opinião de 15 espectadores e que calcule e mostre:\n",
    "\n",
    " - A média das idades das pessoas que responderam ótimo;\n",
    " - A quantidade de pessoas que respondeu regular;\n",
    " - A percentagem de pessoas que respondeu bom entre todos os espectadores analisados.\n"
   ]
  },
  {
   "cell_type": "code",
   "execution_count": null,
   "metadata": {},
   "outputs": [],
   "source": [
    "p = 0 \n",
    "\n",
    "somaIdadeOtimo = 0\n",
    "qtdRegular = 0\n",
    "qtdBom = 0\n",
    "\n",
    "while p < 3:\n",
    "    idade = int(input(\"digite sua idade:\"))\n",
    "    opiniao = int(input(\"Digite sua opinião sobre o filme: 1- regular | 2 - bom | 3 - ótimo\"))\n",
    "    if opiniao == 3:\n",
    "        somaIdadeOtimo += idade\n",
    "    if opiniao == 1:\n",
    "        qtdRegular += 1\n",
    "    if opiniao == 2:\n",
    "        qtdBom += 1\n",
    "    p += 1\n",
    "\n",
    "print(\"Média das idades das pessoas que responderam otimo: \", somaIdadeOtimo/3)\n",
    "print(\"Quantidade de pessoas que respondeu regular:\", qtdRegular)\n",
    "print(\" Percentual de pessoas que responderam Bom:\", qtdBom/3)"
   ]
  },
  {
   "cell_type": "markdown",
   "metadata": {},
   "source": [
    "28- Uma firma fez uma pesquisa de mercado para saber se as pessoas gostaram ou não de um novo produto lançado\n",
    " no mercado. Para isso forneceu o sexo do entrevistado e sua resposta (S - Sim ou N - Não). \n",
    " Sabe-se que foram entrevistadas dez pessoas. Faça um programa que calcule e mostre:\n",
    "\n",
    " - O número de pessoas que respondeu sim;\n",
    " - O número de pessoas que respondeu não;\n",
    " - O número de mulheres que respondeu sim;\n",
    " - A percentagem de homens que respondeu não entre todos os homens analisados.\n",
    "\n",
    " Mesma  lógica do exercicio anterior (ex 3)\n"
   ]
  },
  {
   "cell_type": "code",
   "execution_count": null,
   "metadata": {},
   "outputs": [],
   "source": []
  },
  {
   "cell_type": "markdown",
   "metadata": {},
   "source": [
    "29-  Crie um sistema que leia a nota e as faltas de 3 alunos. No final avalie seu desempenho baseado nos critérios:\n",
    " critérios: \n",
    " - Durante o semestre são dadas três notas;\n",
    " - A nota final é obtida pela média aritmética das três notas;\n",
    " - É considerado aprovado o aluno que obtiver a nota final superior ou igual a 6 e que tiver  omparecido a um mínimo de 40 aulas."
   ]
  },
  {
   "cell_type": "code",
   "execution_count": null,
   "metadata": {},
   "outputs": [],
   "source": [
    "p = 0 \n",
    "\n",
    "# definimos que a quantidade de aulas dadas são 50\n",
    "\n",
    "while p < 3:\n",
    "    nota1 = int(input(\"Digite a primeira nota\"))\n",
    "    nota2 = int(input(\"Digite a segunda nota\"))\n",
    "    nota3 = int(input(\"Digite a terceira nota\"))\n",
    "    faltas = int(input(\"Digite a quantidade de faltas do aluno\"))\n",
    "    if (nota1 + nota2 + nota3)/3 > 6 and faltas <= 10:\n",
    "        print(\"aluno aprovado\")\n",
    "    else:\n",
    "        print(\"aluno reprovado\")\n",
    "    \n",
    "    p += 1 \n",
    "    \n",
    "    "
   ]
  },
  {
   "cell_type": "markdown",
   "metadata": {},
   "source": [
    "30- Faça um programa que leia um conjunto de dados contendo o número da matrícula, as três notas e a frequência (número de aulas frequentadas) de dez alunos.\n",
    "\n",
    "Calcule e mostre:\n",
    "\n",
    "- Para cada aluno o número da matrícula, a nota final e a mensagem (aprovado ou reprovado);\n",
    "- A maior e a menor nota da turma;\n",
    "- O total de alunos reprovados;\n",
    "- A percentagem de alunos reprovados por frequência abaixo da mínima necessária.\n"
   ]
  },
  {
   "cell_type": "code",
   "execution_count": null,
   "metadata": {},
   "outputs": [],
   "source": []
  },
  {
   "cell_type": "markdown",
   "metadata": {},
   "source": [
    "31 - Faça um programa que receba várias idades e que calcule e mostre a média das idades digitadas. Finalize digitando idade igual a zero."
   ]
  },
  {
   "cell_type": "code",
   "execution_count": null,
   "metadata": {},
   "outputs": [],
   "source": []
  },
  {
   "cell_type": "markdown",
   "metadata": {},
   "source": [
    "32- Foi feita uma pesquisa de audiência de canal de TV em várias casas de uma cidade, em um determinado dia. \n",
    " Para cada casa consultada foi fornecido o número do canal (4, 5, 7, 12) e o número de pessoas que estavam assistindo\n",
    " aquele canal. Se a televisão estivesse desligada, nada era anotado, ou seja, essa casa não entrava na pesquisa.\n",
    " Faça um programa que:\n",
    "\n",
    " -    Leia um número indeterminado de dados (número do canal e o número de pessoas que estavam assistindo);\n",
    " -    Calcule e mostre a percentagem de audiência de cada canal.\n",
    " -    Para encerrar a entrada de dados digite o número do canal ZERO."
   ]
  },
  {
   "cell_type": "code",
   "execution_count": null,
   "metadata": {},
   "outputs": [],
   "source": []
  },
  {
   "cell_type": "markdown",
   "metadata": {},
   "source": [
    "33-  A prefeitura de uma cidade fez uma pesquisa entre seus habitantes, coletando dados sobre o salário e o # número de filhos. A prefeitura deseja saber:\n",
    " -    A média do salário da população;\n",
    " -    A média do número de filhos;\n",
    " -    O maior salário; p\n",
    " -    A percentagem de pessoas com salários até R$ 150,00.\n",
    "\n",
    " O final da leitura de dados dar-se-á com a entrada de um salário negativo."
   ]
  },
  {
   "cell_type": "code",
   "execution_count": null,
   "metadata": {},
   "outputs": [],
   "source": []
  },
  {
   "cell_type": "markdown",
   "metadata": {},
   "source": [
    "34- Foi feita uma pesquisa entre os habitantes de uma região. Foram coletados os dados de idade, sexo (M/F) e salário. Faça um programa que calcule e mostre:\n",
    "-   A média dos salários do grupo;\n",
    "-   A maior e a menor idade do grupo;\n",
    "-   A quantidade de mulheres com salário até R$ 200,00;\n",
    "-   A idade e o sexo da pessoa que possui o menor salário.\n",
    "\n",
    " Finalize a entrada de dados ao ser digitada uma idade negativa.\n"
   ]
  },
  {
   "cell_type": "code",
   "execution_count": null,
   "metadata": {},
   "outputs": [],
   "source": []
  },
  {
   "cell_type": "markdown",
   "metadata": {},
   "source": [
    "35-  Uma empresa deseja aumentar seus preços em 20%. Faça um programa que leia o código e o preço de custo de cada produto e que calcule o novo preço. Calcule também a média dos preços com e sem aumento. Mostre o código e o novo preço  de cada produto e, no final, as médias. A entrada de dados deve terminar quando for lido um código de produto negativo."
   ]
  },
  {
   "cell_type": "code",
   "execution_count": null,
   "metadata": {},
   "outputs": [],
   "source": []
  },
  {
   "cell_type": "markdown",
   "metadata": {},
   "source": [
    "36-  Faça um programa que receba o tipo da ação, ou seja, uma letra a ser comercializada na bolsa de valores, o preço de compra e o preço de venda de cada ação e que calcule e mostre:\n",
    "\n",
    " -        O lucro de cada ação comercializada;\n",
    " -        A quantidade de ações com lucro superior a R\\\\$ 1.000,00;\n",
    " -        A quantidade de ações com lucro inferior a R\\\\$ 200,00;\n",
    " -        O lucro total da empresa\n",
    "\n",
    " Finalize com o tipo de ação “F”."
   ]
  },
  {
   "cell_type": "code",
   "execution_count": null,
   "metadata": {},
   "outputs": [],
   "source": []
  },
  {
   "cell_type": "markdown",
   "metadata": {},
   "source": [
    "37- Faça um programa que receba vários números e que calcule e mostre:\n",
    " - A quantidade de números inferiores a 35;\n",
    " - A média dos números positivos;\n",
    " - A percentagem de números entre 50 e 100 entre todos os números digitados;\n",
    " - A percentagem de números entre 10 e 20 entre os números menores que 50.\n",
    "\n"
   ]
  },
  {
   "cell_type": "code",
   "execution_count": null,
   "metadata": {},
   "outputs": [],
   "source": []
  },
  {
   "cell_type": "markdown",
   "metadata": {},
   "source": [
    "38- Faça um programa que apresente o menu de opções a seguir:  \n",
    "\n",
    "Menu de opções:  \n",
    "\n",
    "- Média aritmética\n",
    "- Média ponderada\n",
    "- Sair  \n",
    "\n",
    "Digite a opção desejada:\n",
    "\n",
    "Na opção 1: receber duas notas, calcular e mostrar a média aritmética.\n",
    "Na opção 2: receber três notas e seus respectivos pesos, calcular e mostrar a média ponderada.\n",
    "Na opção 3: sair do programa.  \n",
    "\n",
    "Verifique a possibilidade de opção inválida, mostrando uma mensagem.  "
   ]
  },
  {
   "cell_type": "code",
   "execution_count": null,
   "metadata": {},
   "outputs": [],
   "source": []
  },
  {
   "cell_type": "markdown",
   "metadata": {},
   "source": [
    "39 - Em uma eleição presidencial existem quatro candidatos. Os votos são informados por meio de código. \n",
    " Os códigos utilizados são:\n",
    "\n",
    "```plaintext\n",
    " 1, 2, 3, 4                Votos para os respectivos candidatos\n",
    "      5                                  Voto nulo\n",
    "      6                                Voto em branco\n",
    "```\n",
    "\n",
    "Faça um programa que calcule e mostre:\n",
    "\n",
    " - O total de votos para cada candidato;\n",
    " - O total de votos nulos:\n",
    " - O total de votos em branco;\n",
    " - A percentagem de votos nulos sobre o total de votos;\n",
    " - A percentagem de votos em branco sobre o total de votos.\n",
    "\n",
    "Para finalizar o conjunto de votos, tem-se o valor zero."
   ]
  },
  {
   "cell_type": "code",
   "execution_count": null,
   "metadata": {},
   "outputs": [],
   "source": []
  },
  {
   "cell_type": "markdown",
   "metadata": {},
   "source": [
    "40- Faça um programa que receba como entrada uma lista de números positivos ou negativos, terminada com o número zero. O programa deve fornecer como saída a soma dos números positivos, a soma dos números negativos e a soma das duas somas parciais."
   ]
  },
  {
   "cell_type": "code",
   "execution_count": null,
   "metadata": {},
   "outputs": [],
   "source": []
  },
  {
   "cell_type": "markdown",
   "metadata": {},
   "source": [
    "41-  Faça um programa que receba a idade e a altura de várias pessoas e que calcule e mostre a média das alturas das pessoas com mais de 50 anos. Para encerrar a entrada de dados digite idade \n",
    " menor ou igual a zero."
   ]
  },
  {
   "cell_type": "code",
   "execution_count": null,
   "metadata": {},
   "outputs": [],
   "source": []
  },
  {
   "cell_type": "markdown",
   "metadata": {},
   "source": [
    "42-  Faça um programa que apresente um menu de opções para o cálculo das seguintes operações entre  dois números: adição, subtração, multiplicação e divisão. O programa deve possibilitar ao usuário a escolha da operação desejada, a exibição do resultado e a volta ao menu de opções. O programa só termina quando for escolhida a opção de saída."
   ]
  },
  {
   "cell_type": "code",
   "execution_count": null,
   "metadata": {},
   "outputs": [],
   "source": []
  },
  {
   "cell_type": "markdown",
   "metadata": {},
   "source": [
    "43-  Faça um programa que apresente o menu de opções a seguir, que permita ao usuário escolher a opção desejada, \n",
    " receba os dados necessários para executar a operação e mostre o resultado. Verificar a possibilidade \n",
    " de opção inválida e não se preocupar com as restrições, como salário inválido.\n",
    "\n",
    " Menu de opções:\n",
    "- Novo salário \n",
    "- Férias\n",
    "- Décimo terceiro\n",
    "- Sair\n",
    "\n",
    "Digite a opção desejada\n",
    "\n",
    " Na Opção 1: receber o salário de um funcionário, calcular e mostrar o novo salário usando as regras a seguir.\n",
    "        \n",
    "```plaintext\n",
    "       Salários              Percentagem de aumento\n",
    "    Até R$ 350,00                      15%\n",
    " De R$ 350,00 a R$ 600,00              10%\n",
    "    Acima de R$ 600,00                  5%\n",
    "```\n",
    "\n",
    " Na opção 2: receber o salário de um funçionário, calcular e mostrar o valor de suas férias. Sabe-se que as \n",
    " férias equivalem ao seu salário acrescido de l/Ê.\n",
    " Na opção 3: receber o salário de um funcionário e o número de meses de trabalho na empresa, no máximo 12,\n",
    " calcular e mostrar o valor do décimo terceiro. Sabe-se que o décimo terceiro equivale ao seu salário multiplicado \n",
    " pelo número de meses de trabalho dividido por 12.\n",
    "\n",
    " Na opção 4: sair do programa."
   ]
  },
  {
   "cell_type": "code",
   "execution_count": null,
   "metadata": {},
   "outputs": [],
   "source": []
  },
  {
   "cell_type": "markdown",
   "metadata": {},
   "source": [
    "44-  Uma agência bancária possui vários clientes que podem fazer investimentos com rendimentos mensais, \n",
    " conforme a tabela a seguir:\n",
    "\n",
    "```plaintext\n",
    " Tipo     Descrição     Rendimento mensal\n",
    "  1       Poupança             1,5%\n",
    "  2     Poupança plus           2%\n",
    "  3    Fundos de renda          4%\n",
    "```\n",
    " Faça um programa que leia o código do cliente, o tipo da conta e o valor investido e que calcule e mostre o \n",
    " rendimento mensal de acordo com o tipo do investimento. Ao final do programa mostre o total de juros pagos.\n",
    "\n",
    " A leitura terminará quando o código do cliente digitado for menor ou igual a 0.\n"
   ]
  },
  {
   "cell_type": "code",
   "execution_count": null,
   "metadata": {},
   "outputs": [],
   "source": []
  }
 ],
 "metadata": {
  "kernelspec": {
   "display_name": "Python 3",
   "language": "python",
   "name": "python3"
  },
  "language_info": {
   "codemirror_mode": {
    "name": "ipython",
    "version": 3
   },
   "file_extension": ".py",
   "mimetype": "text/x-python",
   "name": "python",
   "nbconvert_exporter": "python",
   "pygments_lexer": "ipython3",
   "version": "3.8.5"
  }
 },
 "nbformat": 4,
 "nbformat_minor": 2
}
