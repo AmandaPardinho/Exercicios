{
 "cells": [
  {
   "cell_type": "code",
   "execution_count": 1,
   "metadata": {},
   "outputs": [
    {
     "name": "stdout",
     "output_type": "stream",
     "text": [
      "Digite o primeiro numero5\n",
      "Digite o primeiro numero3\n",
      "o maior é:  5\n",
      "o menor é:  3\n"
     ]
    }
   ],
   "source": [
    "#1 - Faça um programa que peça dois números ao usuário e mostre qual o maior e qual o menor\n",
    "\n",
    "num1 = input(\"Digite o primeiro numero\")\n",
    "num2= input(\"Digite o primeiro numero\") \n",
    "\n",
    "if num1 > num2:\n",
    "    print(\"o maior é: \", num1)\n",
    "    print(\"o menor é: \", num2)\n",
    "else:\n",
    "    print(\"o maior é: \", num2)\n",
    "    print(\"o menor é: \", num1)"
   ]
  },
  {
   "cell_type": "code",
   "execution_count": null,
   "metadata": {},
   "outputs": [],
   "source": [
    "#2 - Faça um programa que receba três inteiros e diga qual deles é o maior e qual o menor. \n",
    "# Consegue criar mais de uma solução?\n",
    "\n",
    "a = input(\"Digite o primeiro numero\")\n",
    "b = input(\"Digite o segundo numero\")\n",
    "c = input(\"Digite o terceiro numero\")\n",
    "\n",
    "maior = 0\n",
    "menor = 0\n",
    "\n",
    "if a > b and a > c:\n",
    "    maior = a\n",
    "elif b > a and b > c:\n",
    "    maior = b\n",
    "elif c > a and c > b:\n",
    "    maior = c\n",
    "    \n",
    "    \n",
    "if a < b and a < c:\n",
    "    menor = a\n",
    "elif b < a and b < c:\n",
    "    menor = b\n",
    "elif c < a and c < b:\n",
    "    menor = c\n",
    "\n"
   ]
  },
  {
   "cell_type": "code",
   "execution_count": null,
   "metadata": {},
   "outputs": [],
   "source": [
    "#3 - Escreva um programa em C que recebe um inteiro e diga se é par ou ímpar.\n",
    "#Use o operador matemático % (resto da divisão ou módulo) e o teste condicional if.\n"
   ]
  },
  {
   "cell_type": "code",
   "execution_count": null,
   "metadata": {},
   "outputs": [],
   "source": [
    "#4 - Escreva um programa que pergunte o raio de uma circunferência, e sem seguida mostre o diâmetro, comprimento e área da circunferência\n"
   ]
  },
  {
   "cell_type": "code",
   "execution_count": null,
   "metadata": {},
   "outputs": [],
   "source": [
    "#5 - Para doar sangue é necessário ter entre 18 e 67 anos. Faça um aplicativo na linguagem C que pergunte a idade de uma pessoa e diga se ela pode doar sangue ou não. Use alguns dos operadores lógicos OU (||) e E (&&).\n"
   ]
  },
  {
   "cell_type": "code",
   "execution_count": null,
   "metadata": {},
   "outputs": [],
   "source": [
    "#6 - Escreva um programa que pergunte o dia, mês e ano do aniversário de uma pessoa e diga se a data é válida ou não. Caso não seja, diga o motivo. Suponha que todos os meses tem 31 dias e que estejamos no ano de 2013.\n"
   ]
  },
  {
   "cell_type": "code",
   "execution_count": null,
   "metadata": {},
   "outputs": [],
   "source": [
    "#7 - Crie um programa em C que peça um número ao usuário e armazene ele na variável x. Depois peça outro número e armazene na variável y.\n",
    "# Mostre esses números. Em seguida, faça com que x passe a ter o valor de y, e que y passe a ter o valor de x.\n",
    "# Dica: você vai precisar usar outra variável."
   ]
  }
 ],
 "metadata": {
  "kernelspec": {
   "display_name": "Python 3",
   "language": "python",
   "name": "python3"
  },
  "language_info": {
   "codemirror_mode": {
    "name": "ipython",
    "version": 3
   },
   "file_extension": ".py",
   "mimetype": "text/x-python",
   "name": "python",
   "nbconvert_exporter": "python",
   "pygments_lexer": "ipython3",
   "version": "3.7.3"
  }
 },
 "nbformat": 4,
 "nbformat_minor": 2
}
