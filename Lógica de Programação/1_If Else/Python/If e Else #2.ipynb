{
 "cells": [
  {
   "cell_type": "code",
   "execution_count": null,
   "metadata": {},
   "outputs": [],
   "source": [
    "#1 - Faça um programa que peça dois números ao usuário e mostre qual o maior e qual o menor\n",
    "\n",
    "num1 = input(\"Digite o primeiro numero\")\n",
    "num2= input(\"Digite o primeiro numero\") \n",
    "\n",
    "if num1 > num2:\n",
    "    print(\"o maior é: \", num1)\n",
    "    print(\"o menor é: \", num2)\n",
    "else:\n",
    "    print(\"o maior é: \", num2)\n",
    "    print(\"o menor é: \", num1)"
   ]
  },
  {
   "cell_type": "code",
   "execution_count": null,
   "metadata": {},
   "outputs": [],
   "source": [
    "#2 - Faça um programa que receba três inteiros e diga qual deles é o maior e qual o menor. \n",
    "# Consegue criar mais de uma solução?\n",
    "\n",
    "a = input(\"Digite o primeiro numero\")\n",
    "b = input(\"Digite o segundo numero\")\n",
    "c = input(\"Digite o terceiro numero\")\n",
    "\n",
    "maior = 0\n",
    "menor = 0\n",
    "\n",
    "if a > b and a > c:\n",
    "    maior = a\n",
    "elif b > a and b > c:\n",
    "    maior = b\n",
    "elif c > a and c > b:\n",
    "    maior = c\n",
    "    \n",
    "    \n",
    "if a < b and a < c:\n",
    "    menor = a\n",
    "elif b < a and b < c:\n",
    "    menor = b\n",
    "elif c < a and c < b:\n",
    "    menor = c\n",
    "\n",
    "print (maior, menor)\n"
   ]
  },
  {
   "cell_type": "code",
   "execution_count": null,
   "metadata": {},
   "outputs": [],
   "source": [
    "#3 - Escreva um programa em C que recebe um inteiro e diga se é par ou ímpar.\n",
    "#Use o operador matemático % (resto da divisão ou módulo) e o teste condicional if.\n",
    "\n",
    "num1 = input(\"digite um numero\")\n",
    "\n",
    "if int(num1) % 2 == 0:\n",
    "    print(\"o numero é par\")\n",
    "else: \n",
    "    print(\"o numero é impar\")\n"
   ]
  },
  {
   "cell_type": "code",
   "execution_count": null,
   "metadata": {},
   "outputs": [],
   "source": [
    "#4 - Escreva um programa que pergunte o raio de uma circunferência, e sem seguida mostre o diâmetro, \n",
    "# comprimento e área da circunferência\n",
    "\n",
    "raio = input(\"digite o raio da circunferência\")\n",
    "\n",
    "diametro = 2* float(raio);\n",
    "\n",
    "comprimento = 2 * 3.14 * float(raio);\n",
    "\n",
    "print( \"Diametro: \", diametro)\n",
    "print(\"Comprimento: \", comprimento)\n"
   ]
  },
  {
   "cell_type": "code",
   "execution_count": null,
   "metadata": {},
   "outputs": [],
   "source": [
    "#5 - Para doar sangue é necessário ter entre 18 e 67 anos. Faça um aplicativo que pergunte a idade\n",
    "# de uma pessoa e diga se ela pode doar sangue ou não. Use alguns dos operadores lógicos OU (||) e E (&&).\n",
    "\n",
    "idade = input(\"digite sua idade:\")\n",
    "\n",
    "if idade > 18 and idade < 67:\n",
    "    print(\"pode doar\")\n",
    "else:\n",
    "    print(\"Não pode doar\")"
   ]
  },
  {
   "cell_type": "code",
   "execution_count": null,
   "metadata": {},
   "outputs": [],
   "source": [
    "#6 - Escreva um programa que pergunte o dia, mês e ano do aniversário de uma pessoa e diga se a data é \n",
    "#válida ou não. Caso não seja, diga o motivo. Suponha que todos os meses tem 31 dias e que estejamos no ano de 2013.\n",
    "\n",
    "dia = input(\"Digite o dia\")\n",
    "mes = input(\"digite o mes\")\n",
    "ano = input(\"digite o ano\")\n",
    "\n",
    "if dia > 0 and dia < 32 and mes > 0 and mes < 13 and ano > 0 and ano < 2014:\n",
    "    print(\"data válida\")\n",
    "else:\n",
    "    print(\"Data inválida\")"
   ]
  },
  {
   "cell_type": "code",
   "execution_count": null,
   "metadata": {},
   "outputs": [],
   "source": [
    "#7 - Crie um programa que peça um número ao usuário e armazene ele na variável x. Depois peça outro número e\n",
    "# armazene na variável y. Mostre esses números. Em seguida, faça com que x passe a ter o valor de y, e que y\n",
    "# passe a ter o valor de x.\n",
    "\n",
    "x = int(input(\"Digite o primeiro numero\"))\n",
    "y = int(input(\"Digite o segundo numero\"))\n",
    "\n",
    "aux = 0\n",
    "aux = x\n",
    "x = y\n",
    "y = aux\n",
    "\n",
    "print (x,y)\n"
   ]
  },
  {
   "cell_type": "code",
   "execution_count": null,
   "metadata": {},
   "outputs": [],
   "source": []
  }
 ],
 "metadata": {
  "kernelspec": {
   "display_name": "Python 3",
   "language": "python",
   "name": "python3"
  },
  "language_info": {
   "codemirror_mode": {
    "name": "ipython",
    "version": 3
   },
   "file_extension": ".py",
   "mimetype": "text/x-python",
   "name": "python",
   "nbconvert_exporter": "python",
   "pygments_lexer": "ipython3",
   "version": "3.7.3"
  }
 },
 "nbformat": 4,
 "nbformat_minor": 2
}
